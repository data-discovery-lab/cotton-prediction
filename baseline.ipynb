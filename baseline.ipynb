{
 "cells": [
  {
   "cell_type": "code",
   "execution_count": 1,
   "metadata": {
    "collapsed": true
   },
   "outputs": [],
   "source": [
    "import pandas as pd\n",
    "%matplotlib inline\n",
    "import matplotlib.pyplot as plt\n",
    "import seaborn as sns\n",
    "import warnings\n",
    "warnings.filterwarnings('ignore')\n",
    "import numpy as np"
   ]
  },
  {
   "cell_type": "code",
   "execution_count": 2,
   "metadata": {
    "collapsed": true
   },
   "outputs": [],
   "source": [
    "# df = pd.read_table('Data_28_F29.txt', delimiter=',')\n",
    "df = pd.read_csv('cotton_data_03.csv')"
   ]
  },
  {
   "cell_type": "code",
   "execution_count": 3,
   "metadata": {},
   "outputs": [
    {
     "data": {
      "text/html": [
       "<div>\n",
       "<style scoped>\n",
       "    .dataframe tbody tr th:only-of-type {\n",
       "        vertical-align: middle;\n",
       "    }\n",
       "\n",
       "    .dataframe tbody tr th {\n",
       "        vertical-align: top;\n",
       "    }\n",
       "\n",
       "    .dataframe thead th {\n",
       "        text-align: right;\n",
       "    }\n",
       "</style>\n",
       "<table border=\"1\" class=\"dataframe\">\n",
       "  <thead>\n",
       "    <tr style=\"text-align: right;\">\n",
       "      <th></th>\n",
       "      <th>ID</th>\n",
       "      <th>FIELD</th>\n",
       "      <th>YLD03</th>\n",
       "      <th>ELE</th>\n",
       "      <th>SLOPE</th>\n",
       "      <th>CURV</th>\n",
       "      <th>PRO</th>\n",
       "      <th>PLAN</th>\n",
       "      <th>EC_SH</th>\n",
       "      <th>EC_DP</th>\n",
       "      <th>...</th>\n",
       "      <th>BAND2</th>\n",
       "      <th>BAND3</th>\n",
       "      <th>BAND4</th>\n",
       "      <th>VI03_505</th>\n",
       "      <th>VI03_529</th>\n",
       "      <th>VI03_606</th>\n",
       "      <th>VI03_622</th>\n",
       "      <th>VI03_724</th>\n",
       "      <th>VI03_825</th>\n",
       "      <th>VI03_926</th>\n",
       "    </tr>\n",
       "  </thead>\n",
       "  <tbody>\n",
       "    <tr>\n",
       "      <th>0</th>\n",
       "      <td>3018</td>\n",
       "      <td>C29</td>\n",
       "      <td>1082</td>\n",
       "      <td>1080.06</td>\n",
       "      <td>0.0879</td>\n",
       "      <td>0.002694</td>\n",
       "      <td>-0.001178</td>\n",
       "      <td>0.001515</td>\n",
       "      <td>14.4</td>\n",
       "      <td>38.700001</td>\n",
       "      <td>...</td>\n",
       "      <td>84</td>\n",
       "      <td>123</td>\n",
       "      <td>82</td>\n",
       "      <td>-0.042553</td>\n",
       "      <td>-0.215094</td>\n",
       "      <td>-0.157303</td>\n",
       "      <td>-0.136364</td>\n",
       "      <td>-0.021505</td>\n",
       "      <td>0.128571</td>\n",
       "      <td>0.085366</td>\n",
       "    </tr>\n",
       "    <tr>\n",
       "      <th>1</th>\n",
       "      <td>3019</td>\n",
       "      <td>C29</td>\n",
       "      <td>1202</td>\n",
       "      <td>1080.08</td>\n",
       "      <td>0.0575</td>\n",
       "      <td>0.001403</td>\n",
       "      <td>-0.000473</td>\n",
       "      <td>0.000930</td>\n",
       "      <td>14.3</td>\n",
       "      <td>40.900002</td>\n",
       "      <td>...</td>\n",
       "      <td>91</td>\n",
       "      <td>126</td>\n",
       "      <td>85</td>\n",
       "      <td>-0.053763</td>\n",
       "      <td>-0.220974</td>\n",
       "      <td>-0.169399</td>\n",
       "      <td>-0.163842</td>\n",
       "      <td>-0.010870</td>\n",
       "      <td>0.144828</td>\n",
       "      <td>0.144578</td>\n",
       "    </tr>\n",
       "    <tr>\n",
       "      <th>2</th>\n",
       "      <td>3020</td>\n",
       "      <td>C29</td>\n",
       "      <td>1196</td>\n",
       "      <td>1080.10</td>\n",
       "      <td>0.0906</td>\n",
       "      <td>-0.004624</td>\n",
       "      <td>0.004098</td>\n",
       "      <td>-0.000527</td>\n",
       "      <td>13.9</td>\n",
       "      <td>36.900002</td>\n",
       "      <td>...</td>\n",
       "      <td>92</td>\n",
       "      <td>127</td>\n",
       "      <td>83</td>\n",
       "      <td>-0.057592</td>\n",
       "      <td>-0.219331</td>\n",
       "      <td>-0.170213</td>\n",
       "      <td>-0.184358</td>\n",
       "      <td>-0.016043</td>\n",
       "      <td>0.140940</td>\n",
       "      <td>0.111111</td>\n",
       "    </tr>\n",
       "    <tr>\n",
       "      <th>3</th>\n",
       "      <td>3021</td>\n",
       "      <td>C29</td>\n",
       "      <td>1120</td>\n",
       "      <td>1080.13</td>\n",
       "      <td>0.1291</td>\n",
       "      <td>-0.001335</td>\n",
       "      <td>0.001011</td>\n",
       "      <td>-0.000324</td>\n",
       "      <td>14.1</td>\n",
       "      <td>37.099998</td>\n",
       "      <td>...</td>\n",
       "      <td>89</td>\n",
       "      <td>127</td>\n",
       "      <td>84</td>\n",
       "      <td>-0.071429</td>\n",
       "      <td>-0.236364</td>\n",
       "      <td>-0.165775</td>\n",
       "      <td>-0.169399</td>\n",
       "      <td>0.005405</td>\n",
       "      <td>0.120000</td>\n",
       "      <td>0.135135</td>\n",
       "    </tr>\n",
       "    <tr>\n",
       "      <th>4</th>\n",
       "      <td>3022</td>\n",
       "      <td>C29</td>\n",
       "      <td>1119</td>\n",
       "      <td>1080.18</td>\n",
       "      <td>0.1515</td>\n",
       "      <td>0.002538</td>\n",
       "      <td>-0.001229</td>\n",
       "      <td>0.001309</td>\n",
       "      <td>14.8</td>\n",
       "      <td>36.099998</td>\n",
       "      <td>...</td>\n",
       "      <td>89</td>\n",
       "      <td>130</td>\n",
       "      <td>85</td>\n",
       "      <td>-0.066667</td>\n",
       "      <td>-0.226277</td>\n",
       "      <td>-0.183246</td>\n",
       "      <td>-0.169399</td>\n",
       "      <td>-0.005291</td>\n",
       "      <td>0.099338</td>\n",
       "      <td>0.069767</td>\n",
       "    </tr>\n",
       "  </tbody>\n",
       "</table>\n",
       "<p>5 rows × 21 columns</p>\n",
       "</div>"
      ],
      "text/plain": [
       "     ID FIELD  YLD03      ELE   SLOPE      CURV       PRO      PLAN  EC_SH  \\\n",
       "0  3018   C29   1082  1080.06  0.0879  0.002694 -0.001178  0.001515   14.4   \n",
       "1  3019   C29   1202  1080.08  0.0575  0.001403 -0.000473  0.000930   14.3   \n",
       "2  3020   C29   1196  1080.10  0.0906 -0.004624  0.004098 -0.000527   13.9   \n",
       "3  3021   C29   1120  1080.13  0.1291 -0.001335  0.001011 -0.000324   14.1   \n",
       "4  3022   C29   1119  1080.18  0.1515  0.002538 -0.001229  0.001309   14.8   \n",
       "\n",
       "       EC_DP    ...     BAND2  BAND3  BAND4  VI03_505  VI03_529  VI03_606  \\\n",
       "0  38.700001    ...        84    123     82 -0.042553 -0.215094 -0.157303   \n",
       "1  40.900002    ...        91    126     85 -0.053763 -0.220974 -0.169399   \n",
       "2  36.900002    ...        92    127     83 -0.057592 -0.219331 -0.170213   \n",
       "3  37.099998    ...        89    127     84 -0.071429 -0.236364 -0.165775   \n",
       "4  36.099998    ...        89    130     85 -0.066667 -0.226277 -0.183246   \n",
       "\n",
       "   VI03_622  VI03_724  VI03_825  VI03_926  \n",
       "0 -0.136364 -0.021505  0.128571  0.085366  \n",
       "1 -0.163842 -0.010870  0.144828  0.144578  \n",
       "2 -0.184358 -0.016043  0.140940  0.111111  \n",
       "3 -0.169399  0.005405  0.120000  0.135135  \n",
       "4 -0.169399 -0.005291  0.099338  0.069767  \n",
       "\n",
       "[5 rows x 21 columns]"
      ]
     },
     "execution_count": 3,
     "metadata": {},
     "output_type": "execute_result"
    }
   ],
   "source": [
    "df.head()"
   ]
  },
  {
   "cell_type": "code",
   "execution_count": 4,
   "metadata": {
    "collapsed": true
   },
   "outputs": [],
   "source": [
    "# columns = ['AVGYLD','ELE','SLOPE','CURV', 'PRO','PLAN','EC_SH','EC_DP','BAND1','BAND2','BAND3','BAND4',\n",
    "#            'VI00_520','VI00_528','VI00_613','VI00_707','VI00_715','VI00_723','VI00_816','VI00_824','VI00_901','VI00_917',\n",
    "#            'VI01_616','VI01_624','VI01_710','VI01_827','VI01_912','VI02_518','VI02_526','VI02_619',\n",
    "#            'VI02_713','VI02_721','VI02_830','VI02_907','VI02_923','VI03_505','VI03_529','VI03_606',\n",
    "#            'VI03_622','VI03_724','VI03_825','VI03_926']\n",
    "# 'VI03_505','VI03_529','VI03_606', 'VI03_622','VI03_724','VI03_825','VI03_926'"
   ]
  },
  {
   "cell_type": "code",
   "execution_count": 5,
   "metadata": {},
   "outputs": [
    {
     "data": {
      "text/html": [
       "<div>\n",
       "<style scoped>\n",
       "    .dataframe tbody tr th:only-of-type {\n",
       "        vertical-align: middle;\n",
       "    }\n",
       "\n",
       "    .dataframe tbody tr th {\n",
       "        vertical-align: top;\n",
       "    }\n",
       "\n",
       "    .dataframe thead th {\n",
       "        text-align: right;\n",
       "    }\n",
       "</style>\n",
       "<table border=\"1\" class=\"dataframe\">\n",
       "  <thead>\n",
       "    <tr style=\"text-align: right;\">\n",
       "      <th></th>\n",
       "      <th>YLD03</th>\n",
       "      <th>ELE</th>\n",
       "      <th>SLOPE</th>\n",
       "      <th>CURV</th>\n",
       "      <th>PRO</th>\n",
       "      <th>PLAN</th>\n",
       "      <th>EC_SH</th>\n",
       "      <th>EC_DP</th>\n",
       "      <th>BAND1</th>\n",
       "      <th>BAND2</th>\n",
       "      <th>BAND3</th>\n",
       "      <th>BAND4</th>\n",
       "      <th>VI03_505</th>\n",
       "      <th>VI03_529</th>\n",
       "      <th>VI03_606</th>\n",
       "      <th>VI03_622</th>\n",
       "      <th>VI03_724</th>\n",
       "      <th>VI03_825</th>\n",
       "      <th>VI03_926</th>\n",
       "    </tr>\n",
       "  </thead>\n",
       "  <tbody>\n",
       "    <tr>\n",
       "      <th>0</th>\n",
       "      <td>1082</td>\n",
       "      <td>1080.06</td>\n",
       "      <td>0.0879</td>\n",
       "      <td>0.002694</td>\n",
       "      <td>-0.001178</td>\n",
       "      <td>0.001515</td>\n",
       "      <td>14.4</td>\n",
       "      <td>38.700001</td>\n",
       "      <td>96</td>\n",
       "      <td>84</td>\n",
       "      <td>123</td>\n",
       "      <td>82</td>\n",
       "      <td>-0.042553</td>\n",
       "      <td>-0.215094</td>\n",
       "      <td>-0.157303</td>\n",
       "      <td>-0.136364</td>\n",
       "      <td>-0.021505</td>\n",
       "      <td>0.128571</td>\n",
       "      <td>0.085366</td>\n",
       "    </tr>\n",
       "    <tr>\n",
       "      <th>1</th>\n",
       "      <td>1202</td>\n",
       "      <td>1080.08</td>\n",
       "      <td>0.0575</td>\n",
       "      <td>0.001403</td>\n",
       "      <td>-0.000473</td>\n",
       "      <td>0.000930</td>\n",
       "      <td>14.3</td>\n",
       "      <td>40.900002</td>\n",
       "      <td>94</td>\n",
       "      <td>91</td>\n",
       "      <td>126</td>\n",
       "      <td>85</td>\n",
       "      <td>-0.053763</td>\n",
       "      <td>-0.220974</td>\n",
       "      <td>-0.169399</td>\n",
       "      <td>-0.163842</td>\n",
       "      <td>-0.010870</td>\n",
       "      <td>0.144828</td>\n",
       "      <td>0.144578</td>\n",
       "    </tr>\n",
       "    <tr>\n",
       "      <th>2</th>\n",
       "      <td>1196</td>\n",
       "      <td>1080.10</td>\n",
       "      <td>0.0906</td>\n",
       "      <td>-0.004624</td>\n",
       "      <td>0.004098</td>\n",
       "      <td>-0.000527</td>\n",
       "      <td>13.9</td>\n",
       "      <td>36.900002</td>\n",
       "      <td>92</td>\n",
       "      <td>92</td>\n",
       "      <td>127</td>\n",
       "      <td>83</td>\n",
       "      <td>-0.057592</td>\n",
       "      <td>-0.219331</td>\n",
       "      <td>-0.170213</td>\n",
       "      <td>-0.184358</td>\n",
       "      <td>-0.016043</td>\n",
       "      <td>0.140940</td>\n",
       "      <td>0.111111</td>\n",
       "    </tr>\n",
       "    <tr>\n",
       "      <th>3</th>\n",
       "      <td>1120</td>\n",
       "      <td>1080.13</td>\n",
       "      <td>0.1291</td>\n",
       "      <td>-0.001335</td>\n",
       "      <td>0.001011</td>\n",
       "      <td>-0.000324</td>\n",
       "      <td>14.1</td>\n",
       "      <td>37.099998</td>\n",
       "      <td>96</td>\n",
       "      <td>89</td>\n",
       "      <td>127</td>\n",
       "      <td>84</td>\n",
       "      <td>-0.071429</td>\n",
       "      <td>-0.236364</td>\n",
       "      <td>-0.165775</td>\n",
       "      <td>-0.169399</td>\n",
       "      <td>0.005405</td>\n",
       "      <td>0.120000</td>\n",
       "      <td>0.135135</td>\n",
       "    </tr>\n",
       "    <tr>\n",
       "      <th>4</th>\n",
       "      <td>1119</td>\n",
       "      <td>1080.18</td>\n",
       "      <td>0.1515</td>\n",
       "      <td>0.002538</td>\n",
       "      <td>-0.001229</td>\n",
       "      <td>0.001309</td>\n",
       "      <td>14.8</td>\n",
       "      <td>36.099998</td>\n",
       "      <td>96</td>\n",
       "      <td>89</td>\n",
       "      <td>130</td>\n",
       "      <td>85</td>\n",
       "      <td>-0.066667</td>\n",
       "      <td>-0.226277</td>\n",
       "      <td>-0.183246</td>\n",
       "      <td>-0.169399</td>\n",
       "      <td>-0.005291</td>\n",
       "      <td>0.099338</td>\n",
       "      <td>0.069767</td>\n",
       "    </tr>\n",
       "  </tbody>\n",
       "</table>\n",
       "</div>"
      ],
      "text/plain": [
       "   YLD03      ELE   SLOPE      CURV       PRO      PLAN  EC_SH      EC_DP  \\\n",
       "0   1082  1080.06  0.0879  0.002694 -0.001178  0.001515   14.4  38.700001   \n",
       "1   1202  1080.08  0.0575  0.001403 -0.000473  0.000930   14.3  40.900002   \n",
       "2   1196  1080.10  0.0906 -0.004624  0.004098 -0.000527   13.9  36.900002   \n",
       "3   1120  1080.13  0.1291 -0.001335  0.001011 -0.000324   14.1  37.099998   \n",
       "4   1119  1080.18  0.1515  0.002538 -0.001229  0.001309   14.8  36.099998   \n",
       "\n",
       "   BAND1  BAND2  BAND3  BAND4  VI03_505  VI03_529  VI03_606  VI03_622  \\\n",
       "0     96     84    123     82 -0.042553 -0.215094 -0.157303 -0.136364   \n",
       "1     94     91    126     85 -0.053763 -0.220974 -0.169399 -0.163842   \n",
       "2     92     92    127     83 -0.057592 -0.219331 -0.170213 -0.184358   \n",
       "3     96     89    127     84 -0.071429 -0.236364 -0.165775 -0.169399   \n",
       "4     96     89    130     85 -0.066667 -0.226277 -0.183246 -0.169399   \n",
       "\n",
       "   VI03_724  VI03_825  VI03_926  \n",
       "0 -0.021505  0.128571  0.085366  \n",
       "1 -0.010870  0.144828  0.144578  \n",
       "2 -0.016043  0.140940  0.111111  \n",
       "3  0.005405  0.120000  0.135135  \n",
       "4 -0.005291  0.099338  0.069767  "
      ]
     },
     "execution_count": 5,
     "metadata": {},
     "output_type": "execute_result"
    }
   ],
   "source": [
    "\n",
    "df_use = df.loc[:, df.columns != 'ID']\n",
    "\n",
    "df_use = df_use[df_use['FIELD'] == 'C29']\n",
    "df_use = df_use.loc[:, df_use.columns != 'FIELD']\n",
    "\n",
    "df_use.head()"
   ]
  },
  {
   "cell_type": "code",
   "execution_count": null,
   "metadata": {
    "collapsed": true
   },
   "outputs": [],
   "source": [
    "m = [col for col in df_use.columns if col not in ['VI03_926']]\n",
    "df_use = df_use[m]"
   ]
  },
  {
   "cell_type": "code",
   "execution_count": 6,
   "metadata": {},
   "outputs": [
    {
     "data": {
      "text/html": [
       "<div>\n",
       "<style scoped>\n",
       "    .dataframe tbody tr th:only-of-type {\n",
       "        vertical-align: middle;\n",
       "    }\n",
       "\n",
       "    .dataframe tbody tr th {\n",
       "        vertical-align: top;\n",
       "    }\n",
       "\n",
       "    .dataframe thead th {\n",
       "        text-align: right;\n",
       "    }\n",
       "</style>\n",
       "<table border=\"1\" class=\"dataframe\">\n",
       "  <thead>\n",
       "    <tr style=\"text-align: right;\">\n",
       "      <th></th>\n",
       "      <th>ID</th>\n",
       "      <th>FIELD</th>\n",
       "    </tr>\n",
       "  </thead>\n",
       "  <tbody>\n",
       "    <tr>\n",
       "      <th>0</th>\n",
       "      <td>3018</td>\n",
       "      <td>C29</td>\n",
       "    </tr>\n",
       "    <tr>\n",
       "      <th>1</th>\n",
       "      <td>3019</td>\n",
       "      <td>C29</td>\n",
       "    </tr>\n",
       "    <tr>\n",
       "      <th>2</th>\n",
       "      <td>3020</td>\n",
       "      <td>C29</td>\n",
       "    </tr>\n",
       "    <tr>\n",
       "      <th>3</th>\n",
       "      <td>3021</td>\n",
       "      <td>C29</td>\n",
       "    </tr>\n",
       "    <tr>\n",
       "      <th>4</th>\n",
       "      <td>3022</td>\n",
       "      <td>C29</td>\n",
       "    </tr>\n",
       "  </tbody>\n",
       "</table>\n",
       "</div>"
      ],
      "text/plain": [
       "     ID FIELD\n",
       "0  3018   C29\n",
       "1  3019   C29\n",
       "2  3020   C29\n",
       "3  3021   C29\n",
       "4  3022   C29"
      ]
     },
     "execution_count": 6,
     "metadata": {},
     "output_type": "execute_result"
    }
   ],
   "source": [
    "res_final = df[df['FIELD'] == 'C29']\n",
    "res_final = res_final[['ID', 'FIELD']]\n",
    "res_final.head()"
   ]
  },
  {
   "cell_type": "code",
   "execution_count": 7,
   "metadata": {},
   "outputs": [
    {
     "data": {
      "text/plain": [
       "array(['YLD03', 'ELE', 'SLOPE', 'CURV', 'PRO', 'PLAN', 'EC_SH', 'EC_DP',\n",
       "       'BAND1', 'BAND2', 'BAND3', 'BAND4', 'VI03_505', 'VI03_529',\n",
       "       'VI03_606', 'VI03_622', 'VI03_724', 'VI03_825', 'VI03_926'],\n",
       "      dtype=object)"
      ]
     },
     "execution_count": 7,
     "metadata": {},
     "output_type": "execute_result"
    }
   ],
   "source": [
    "df_use.columns.values"
   ]
  },
  {
   "cell_type": "code",
   "execution_count": 8,
   "metadata": {
    "collapsed": true
   },
   "outputs": [],
   "source": [
    "from sklearn.svm import SVR\n",
    "from sklearn.tree import DecisionTreeRegressor\n",
    "from sklearn.ensemble import RandomForestRegressor\n",
    "from sklearn.model_selection import train_test_split, StratifiedKFold\n",
    "from sklearn.model_selection import GridSearchCV, cross_val_score\n",
    "\n",
    "from sklearn.metrics import roc_curve, auc\n",
    "from sklearn.preprocessing import label_binarize\n",
    "from sklearn.multiclass import OneVsRestClassifier\n",
    "import matplotlib.pyplot as plt\n",
    "import scikitplot as skplt\n",
    "\n",
    "def compute_score(clf, X, y, scoring='mean_squared_error'):\n",
    "    xval = cross_val_score(clf, X, y, cv = 5, scoring=scoring)\n",
    "    return np.mean(xval)\n",
    "\n",
    "def plot_roc(x_test, y_test, model):\n",
    "    predicted_probas = model.predict_proba(x_test)\n",
    "    skplt.metrics.plot_roc(y_test, predicted_probas, figsize =(10,10))\n",
    "    plt.show()\n",
    "    \n",
    "def yld_category(yld):\n",
    "    if yld <= 603:\n",
    "        return 1\n",
    "    elif 603 < yld <= 766:\n",
    "        return 2\n",
    "    elif 766 < yld <= 882:\n",
    "        return 3\n",
    "    elif 882 < yld <= 956:\n",
    "        return 4\n",
    "    elif 956 < yld <= 1018:\n",
    "        return 5\n",
    "    elif 1018 < yld <= 1075:\n",
    "        return 6\n",
    "    elif 1075 < yld <= 1134:\n",
    "        return 7\n",
    "    elif 1134 < yld <= 1200:\n",
    "        return 8\n",
    "    elif 1200 < yld <= 1280:\n",
    "        return 9\n",
    "    elif yld > 1280:\n",
    "        return 10"
   ]
  },
  {
   "cell_type": "code",
   "execution_count": 9,
   "metadata": {
    "collapsed": true
   },
   "outputs": [],
   "source": [
    "full = df_use\n",
    "full['AVGYLD_Category'] = full['YLD03'].apply(lambda x: yld_category(x))"
   ]
  },
  {
   "cell_type": "code",
   "execution_count": 10,
   "metadata": {
    "collapsed": true
   },
   "outputs": [],
   "source": [
    "# sns.distplot(full['AVGYLD_Category'], kde=False, bins=10, hist_kws={'edgecolor':'white', 'alpha':1.0})"
   ]
  },
  {
   "cell_type": "code",
   "execution_count": 11,
   "metadata": {
    "collapsed": true
   },
   "outputs": [],
   "source": [
    "# sns.distplot(full['AVGYLD_Category'], kde=False, bins=10, hist_kws={\"rwidth\":1,'edgecolor':'white', 'alpha':1.0})"
   ]
  },
  {
   "cell_type": "code",
   "execution_count": 12,
   "metadata": {
    "collapsed": true
   },
   "outputs": [],
   "source": [
    "tmp = []\n",
    "\n",
    "for i in range(1, 11):\n",
    "    tmp.append(full[full['AVGYLD_Category'] == i])"
   ]
  },
  {
   "cell_type": "code",
   "execution_count": 13,
   "metadata": {
    "collapsed": true
   },
   "outputs": [],
   "source": [
    "X_train = []\n",
    "X_test = []\n",
    "y_train = []\n",
    "y_test = []\n",
    "X_cols = [col for col in full.columns if col not in ['YLD03', 'AVGYLD_Category']]\n",
    "X = []\n",
    "y = []\n",
    "\n",
    "\n",
    "for i in range(10):\n",
    "    X.append(tmp[i][X_cols])\n",
    "    y.append(tmp[i]['YLD03'])\n",
    "    X_train_part, X_test_part, y_train_part, y_test_part = train_test_split(tmp[i][X_cols], tmp[i]['YLD03'], test_size=.2,random_state=0)\n",
    "    X_train.append(X_train_part)\n",
    "    X_test.append(X_test_part)\n",
    "    y_train.append(y_train_part)\n",
    "    y_test.append(y_test_part)\n",
    "\n",
    "X_train_full, X_test_full, y_train_full, y_test_full = train_test_split(full[X_cols], full['YLD03'], test_size=.2,random_state=0)\n",
    "\n",
    "\n",
    "X.append(full[X_cols])\n",
    "y.append(full['YLD03'])\n",
    "X_train.append(X_train_full)\n",
    "X_test.append(X_test_full)\n",
    "y_train.append(y_train_full)\n",
    "y_test.append(y_test_full)\n",
    "\n"
   ]
  },
  {
   "cell_type": "markdown",
   "metadata": {},
   "source": [
    "## dt"
   ]
  },
  {
   "cell_type": "code",
   "execution_count": 14,
   "metadata": {},
   "outputs": [
    {
     "name": "stdout",
     "output_type": "stream",
     "text": [
      "10\n",
      "Best score: -16135.961604217318\n",
      "Best parameters: {'min_samples_leaf': 3, 'min_samples_split': 13, 'random_state': 6}\n"
     ]
    }
   ],
   "source": [
    "warnings.filterwarnings('ignore')\n",
    "dt_tune_run = True\n",
    "dt_parameters = [0,0,0,0,0,0,0,0,0,0]\n",
    "\n",
    "for i in range(10, 11):\n",
    "    print(i)\n",
    "    defaut = {'criterion': 'mse', 'max_depth': None,\n",
    "                  'max_leaf_nodes': None, 'min_impurity_split': 0.005, 'min_weight_fraction_leaf': 0.0,\n",
    "              'presort': False, 'splitter': 'random'}\n",
    "    dt_parameters.append(defaut)\n",
    "    if dt_tune_run:\n",
    "        parameter_grid = {\n",
    "    #          'max_features':range(0,1,1),\n",
    "            'random_state':range(0,10,1),\n",
    "            'min_samples_leaf':range(1,10,1),\n",
    "            'min_samples_split': range(2, 20, 1)\n",
    "        }\n",
    "        forest = DecisionTreeRegressor(criterion='mse', max_depth=None,\n",
    "                                        max_leaf_nodes=None,\n",
    "                                        min_impurity_split=0.005, min_weight_fraction_leaf=0.0,\n",
    "                                        presort=False, splitter='random')\n",
    "\n",
    "        grid_search = GridSearchCV(forest,\n",
    "                                   scoring='mean_squared_error',\n",
    "                                   param_grid=parameter_grid,\n",
    "                                   cv=5)\n",
    "\n",
    "        grid_search.fit(X[i], y[i])\n",
    "        DecisionTreeModel = grid_search\n",
    "        parameters = grid_search.best_params_\n",
    "        dt_parameters[i]['min_samples_leaf'] = grid_search.best_params_['min_samples_leaf']\n",
    "        dt_parameters[i]['min_samples_split'] = grid_search.best_params_['min_samples_split']\n",
    "        dt_parameters[i]['random_state'] = grid_search.best_params_['random_state']\n",
    "        print('Best score: {}'.format(grid_search.best_score_))\n",
    "        print('Best parameters: {}'.format(grid_search.best_params_))"
   ]
  },
  {
   "cell_type": "code",
   "execution_count": 15,
   "metadata": {},
   "outputs": [
    {
     "name": "stdout",
     "output_type": "stream",
     "text": [
      "10\n",
      "Model: dt range - 11, measure: mae, score: 101.01\n",
      "Model: dt range - 11 measure: mse, score: 16135.96\n",
      "Model: dt range - 11 measure: rmse, score: 127.03\n"
     ]
    }
   ],
   "source": [
    "warnings.filterwarnings('ignore')\n",
    "score_measure_list = ['neg_mean_absolute_error', 'neg_mean_squared_error']\n",
    "dt_model = [0,0,0,0,0,0,0,0,0,0]\n",
    "\n",
    "for i in range(10, 11):\n",
    "    tmp_model = DecisionTreeRegressor(**dt_parameters[i])\n",
    "    tmp_model.fit(X_train[i], y_train[i])\n",
    "    dt_model.append(tmp_model)\n",
    "\n",
    "for i in range(10, 11):\n",
    "    print(i)\n",
    "    for score_measure in score_measure_list:\n",
    "        res = compute_score(dt_model[i], X[i], y[i], scoring = score_measure)\n",
    "        res = round(res, 2) * -1\n",
    "        if score_measure == 'neg_mean_absolute_error':\n",
    "            print('Model: dt range - {}, measure: mae, score: {}'.format(i+1, res))\n",
    "        elif score_measure == 'neg_mean_squared_error':\n",
    "            print('Model: dt range - {} measure: mse, score: {}'.format(i+1, res))\n",
    "            tmp = round(res ** 0.5, 2)\n",
    "            print('Model: dt range - {} measure: rmse, score: {}'.format(i+1, tmp))"
   ]
  },
  {
   "cell_type": "code",
   "execution_count": null,
   "metadata": {
    "collapsed": true
   },
   "outputs": [],
   "source": [
    "def mape(y_true, y_pred): \n",
    "    y_true, y_pred = np.array(y_true), np.array(y_pred)\n",
    "\n",
    "    return np.mean(np.abs((y_true - y_pred) / y_true)) * 100\n",
    "\n",
    "def me(y_true, y_pred): \n",
    "    y_true, y_pred = np.array(y_true), np.array(y_pred)\n",
    "\n",
    "    return max(np.abs(y_true - y_pred))"
   ]
  },
  {
   "cell_type": "code",
   "execution_count": null,
   "metadata": {},
   "outputs": [],
   "source": [
    "\n",
    "for i in range(10, 11):\n",
    "    print(i)\n",
    "    y_pred = dt_model[i].predict(X_test[i])\n",
    "    mape_res = round(mape(y_test[i], y_pred),2)\n",
    "    print('Model: dt range - {}, measure: mape, score: {}'.format(i+1, mape_res))\n",
    "    me_res = round(me(y_test[i], y_pred),2)\n",
    "    print('Model: dt range - {}, measure: me, score: {}'.format(i+1, me_res))"
   ]
  },
  {
   "cell_type": "code",
   "execution_count": null,
   "metadata": {},
   "outputs": [],
   "source": [
    "y_pred_final = dt_model[10].predict(full[X_cols])\n",
    "dt_pred_df = pd.DataFrame({'predicted_dt':y_pred_final})\n",
    "dt_pred_df.head()\n",
    "res_final_after_dt = res_final.join(dt_pred_df)\n",
    "res_final_after_dt.head()"
   ]
  },
  {
   "cell_type": "markdown",
   "metadata": {},
   "source": [
    "## svm"
   ]
  },
  {
   "cell_type": "code",
   "execution_count": 16,
   "metadata": {},
   "outputs": [
    {
     "name": "stdout",
     "output_type": "stream",
     "text": [
      "10\n",
      "Best score: -24744.398503236545\n",
      "Best parameters: {'C': 100, 'gamma': 0.01}\n"
     ]
    }
   ],
   "source": [
    "warnings.filterwarnings('ignore')\n",
    "svm_tune_run = True\n",
    "svm_parameters = [0,0,0,0,0,0,0,0,0,0]\n",
    "\n",
    "for i in range(10, 11):\n",
    "    print(i)\n",
    "    defaut = {'cache_size': 200, 'coef0': 0.0,\n",
    "                  'degree': 3, 'kernel': 'rbf', 'max_iter': -1,\n",
    "              'shrinking': True, 'tol': 0.001, 'verbose': False}\n",
    "    svm_parameters.append(defaut)\n",
    "    if svm_tune_run:\n",
    "        parameter_grid = {\n",
    "             'C': [0.001, 0.01, 0.1, 1, 10, 100, 1000],\n",
    "             'gamma' : [0.001, 0.01, 0.1, 1]\n",
    "         }\n",
    "\n",
    "        forest = SVR(cache_size=200, coef0=0.0,\n",
    "                  degree=3, kernel='rbf', max_iter=-1, shrinking=True, tol=0.001, verbose=False)\n",
    "\n",
    "        grid_search = GridSearchCV(forest,\n",
    "                                   scoring='mean_squared_error',\n",
    "                                   param_grid=parameter_grid,\n",
    "                                   cv=5)\n",
    "\n",
    "        grid_search.fit(X[i], y[i])\n",
    "        SVCModel = grid_search\n",
    "        parameters = grid_search.best_params_\n",
    "        svm_parameters[i]['C'] = grid_search.best_params_['C']\n",
    "        svm_parameters[i]['gamma'] = grid_search.best_params_['gamma']\n",
    "\n",
    "        print('Best score: {}'.format(grid_search.best_score_))\n",
    "        print('Best parameters: {}'.format(grid_search.best_params_))"
   ]
  },
  {
   "cell_type": "code",
   "execution_count": 17,
   "metadata": {},
   "outputs": [
    {
     "name": "stdout",
     "output_type": "stream",
     "text": [
      "10\n",
      "Model: svm range - 11, measure: mae, score: 127.14\n",
      "Model: svm range - 11 measure: mse, score: 24744.4\n",
      "Model: svm range - 11 measure: rmse, score: 157.3\n"
     ]
    }
   ],
   "source": [
    "warnings.filterwarnings('ignore')\n",
    "score_measure_list = ['neg_mean_absolute_error', 'neg_mean_squared_error']\n",
    "svm_model = [0,0,0,0,0,0,0,0,0,0]\n",
    "\n",
    "for i in range(10, 11):\n",
    "    tmp_model = SVR(**svm_parameters[i])\n",
    "    tmp_model.fit(X_train[i], y_train[i])\n",
    "    svm_model.append(tmp_model)\n",
    "\n",
    "for i in range(10, 11):\n",
    "    print(i)\n",
    "    for score_measure in score_measure_list:\n",
    "        res = compute_score(svm_model[i], X[i], y[i], scoring = score_measure)\n",
    "        res = round(res, 2) * -1\n",
    "        if score_measure == 'neg_mean_absolute_error':\n",
    "            print('Model: svm range - {}, measure: mae, score: {}'.format(i+1, res))\n",
    "        elif score_measure == 'neg_mean_squared_error':\n",
    "            print('Model: svm range - {} measure: mse, score: {}'.format(i+1, res))\n",
    "            tmp = round(res ** 0.5, 2)\n",
    "            print('Model: svm range - {} measure: rmse, score: {}'.format(i+1, tmp))"
   ]
  },
  {
   "cell_type": "code",
   "execution_count": null,
   "metadata": {},
   "outputs": [],
   "source": [
    "\n",
    "for i in range(10, 11):\n",
    "    print(i)\n",
    "    y_pred = svm_model[i].predict(X_test[i])\n",
    "    mape_res = round(mape(y_test[i], y_pred),2)\n",
    "    print('Model: svm range - {}, measure: mape, score: {}'.format(i+1, mape_res))\n",
    "    me_res = round(me(y_test[i], y_pred),2)\n",
    "    print('Model: svm range - {}, measure: me, score: {}'.format(i+1, me_res))"
   ]
  },
  {
   "cell_type": "code",
   "execution_count": null,
   "metadata": {},
   "outputs": [],
   "source": [
    "y_pred_final = svm_model[10].predict(full[X_cols])\n",
    "svm_pred_df = pd.DataFrame({'predicted_svm':y_pred_final})\n",
    "svm_pred_df.head()\n",
    "res_final_after_svm = res_final_after_dt.join(svm_pred_df)\n",
    "res_final_after_svm.head()"
   ]
  },
  {
   "cell_type": "markdown",
   "metadata": {},
   "source": [
    "## random forest"
   ]
  },
  {
   "cell_type": "code",
   "execution_count": 18,
   "metadata": {},
   "outputs": [
    {
     "name": "stdout",
     "output_type": "stream",
     "text": [
      "10\n",
      "Best score: -14211.90171699329\n",
      "Best parameters: {'min_samples_leaf': 2, 'min_samples_split': 2, 'random_state': 9}\n"
     ]
    }
   ],
   "source": [
    "warnings.filterwarnings('ignore')\n",
    "rf_tune_run = True\n",
    "rf_parameters = [0,0,0,0,0,0,0,0,0,0]\n",
    "\n",
    "for i in range(10, 11):\n",
    "    print(i)\n",
    "    defaut = {'criterion': 'mse', 'max_depth': None, 'max_leaf_nodes': None,\n",
    "                      'min_impurity_split': 0.005, 'min_weight_fraction_leaf': 0.0}\n",
    "    rf_parameters.append(defaut)\n",
    "    if rf_tune_run:\n",
    "        parameter_grid = {\n",
    "    #          'max_features':range(0,1,1),\n",
    "            'random_state':range(0,10,1),\n",
    "            'min_samples_leaf':range(1,10,1),\n",
    "            'min_samples_split': range(2, 20, 1)\n",
    "        }\n",
    "\n",
    "        forest = RandomForestRegressor(criterion='mse', max_depth=None,\n",
    "                                    max_leaf_nodes=None,\n",
    "                                    min_impurity_split=0.005, min_weight_fraction_leaf=0.0)\n",
    "\n",
    "        grid_search = GridSearchCV(forest,\n",
    "                                   scoring='mean_squared_error',\n",
    "                                   param_grid=parameter_grid,\n",
    "                                   cv=5)\n",
    "\n",
    "        grid_search.fit(X[i], y[i])\n",
    "        SVCModel = grid_search\n",
    "        parameters = grid_search.best_params_\n",
    "        rf_parameters[i]['random_state'] = grid_search.best_params_['random_state']\n",
    "        rf_parameters[i]['min_samples_leaf'] = grid_search.best_params_['min_samples_leaf']\n",
    "        rf_parameters[i]['min_samples_split'] = grid_search.best_params_['min_samples_split']\n",
    "\n",
    "        print('Best score: {}'.format(grid_search.best_score_))\n",
    "        print('Best parameters: {}'.format(grid_search.best_params_))"
   ]
  },
  {
   "cell_type": "code",
   "execution_count": 19,
   "metadata": {},
   "outputs": [
    {
     "name": "stdout",
     "output_type": "stream",
     "text": [
      "10\n",
      "Model: rf range - 11, measure: mae, score: 94.77\n",
      "Model: rf range - 11 measure: mse, score: 14211.9\n",
      "Model: rf range - 11 measure: rmse, score: 119.21\n"
     ]
    }
   ],
   "source": [
    "warnings.filterwarnings('ignore')\n",
    "score_measure_list = ['neg_mean_absolute_error', 'neg_mean_squared_error']\n",
    "rf_model = [0,0,0,0,0,0,0,0,0,0]\n",
    "\n",
    "for i in range(10, 11):\n",
    "    tmp_model = RandomForestRegressor(**rf_parameters[i])\n",
    "    tmp_model.fit(X_train[i], y_train[i])\n",
    "    rf_model.append(tmp_model)\n",
    "\n",
    "for i in range(10, 11):\n",
    "    print(i)\n",
    "    for score_measure in score_measure_list:\n",
    "        res = compute_score(rf_model[i], X[i], y[i], scoring = score_measure)\n",
    "        res = round(res, 2) * -1\n",
    "        if score_measure == 'neg_mean_absolute_error':\n",
    "            print('Model: rf range - {}, measure: mae, score: {}'.format(i+1, res))\n",
    "        elif score_measure == 'neg_mean_squared_error':\n",
    "            print('Model: rf range - {} measure: mse, score: {}'.format(i+1, res))\n",
    "            tmp = round(res ** 0.5, 2)\n",
    "            print('Model: rf range - {} measure: rmse, score: {}'.format(i+1, tmp))"
   ]
  },
  {
   "cell_type": "code",
   "execution_count": null,
   "metadata": {},
   "outputs": [],
   "source": [
    "for i in range(10, 11):\n",
    "    print(i)\n",
    "    y_pred = rf_model[i].predict(X_test[i])\n",
    "    mape_res = round(mape(y_test[i], y_pred),2)\n",
    "    print('Model: rf range - {}, measure: mape, score: {}'.format(i+1, mape_res))\n",
    "    me_res = round(me(y_test[i], y_pred),2)\n",
    "    print('Model: rf range - {}, measure: me, score: {}'.format(i+1, me_res))"
   ]
  },
  {
   "cell_type": "code",
   "execution_count": null,
   "metadata": {},
   "outputs": [],
   "source": [
    "y_pred_final = rf_model[10].predict(full[X_cols])\n",
    "rf_pred_df = pd.DataFrame({'predicted_rf':y_pred_final})\n",
    "rf_pred_df.head()"
   ]
  },
  {
   "cell_type": "code",
   "execution_count": null,
   "metadata": {},
   "outputs": [],
   "source": [
    "res_final_after_rf = res_final_after_svm.join(rf_pred_df)\n",
    "res_final_after_rf.head()"
   ]
  },
  {
   "cell_type": "markdown",
   "metadata": {},
   "source": [
    "## xgboost"
   ]
  },
  {
   "cell_type": "code",
   "execution_count": 20,
   "metadata": {},
   "outputs": [
    {
     "name": "stdout",
     "output_type": "stream",
     "text": [
      "10\n",
      "Best score: -13898.80316307718\n",
      "Best parameters: {'colsample_bytree': 1.0, 'gamma': 0.3, 'max_depth': 4, 'min_child_weight': 4, 'subsample': 0.9}\n"
     ]
    }
   ],
   "source": [
    "from xgboost import XGBRegressor\n",
    "warnings.filterwarnings('ignore')\n",
    "\n",
    "xgb_tune_run = True\n",
    "xgb_parameters = [0,0,0,0,0,0,0,0,0,0]\n",
    "\n",
    "for i in range(10, 11):\n",
    "    print(i)\n",
    "    defaut = {'subsample': 0.8, 'colsample_bytree': 1.0, 'max_depth': 2, 'gamma': 0.3, 'min_child_weight': 4}\n",
    "    xgb_parameters.append(defaut)\n",
    "    if xgb_tune_run:\n",
    "        parameter_grid = {\n",
    "                    'min_child_weight':[4,5], 'gamma':[i/10.0 for i in range(3,6)], \n",
    "                    'subsample':[i/10.0 for i in range(6,11)],\n",
    "                    'colsample_bytree':[i/10.0 for i in range(6,11)], 'max_depth': [2,3,4]\n",
    "        }\n",
    "\n",
    "        forest = XGBRegressor(nthread=-1)\n",
    "\n",
    "        grid_search = GridSearchCV(forest,\n",
    "                                   scoring='mean_squared_error',\n",
    "                                   param_grid=parameter_grid,\n",
    "                                   cv=5)\n",
    "\n",
    "        grid_search.fit(X[i], y[i])\n",
    "        SVCModel = grid_search\n",
    "        parameters = grid_search.best_params_\n",
    "        xgb_parameters[i]['min_child_weight'] = grid_search.best_params_['min_child_weight']\n",
    "        xgb_parameters[i]['gamma'] = grid_search.best_params_['gamma']\n",
    "        xgb_parameters[i]['subsample'] = grid_search.best_params_['subsample']\n",
    "        xgb_parameters[i]['colsample_bytree'] = grid_search.best_params_['colsample_bytree']\n",
    "        xgb_parameters[i]['max_depth'] = grid_search.best_params_['max_depth']\n",
    "        \n",
    "        print('Best score: {}'.format(grid_search.best_score_))\n",
    "        print('Best parameters: {}'.format(grid_search.best_params_))"
   ]
  },
  {
   "cell_type": "code",
   "execution_count": 21,
   "metadata": {},
   "outputs": [
    {
     "name": "stdout",
     "output_type": "stream",
     "text": [
      "10\n",
      "Model: xbg range - 11, measure: mae, score: 93.57\n",
      "Model: xbg range - 11 measure: mse, score: 13898.8\n",
      "Model: xbg range - 11 measure: rmse, score: 117.89\n"
     ]
    }
   ],
   "source": [
    "warnings.filterwarnings('ignore')\n",
    "score_measure_list = ['neg_mean_absolute_error', 'neg_mean_squared_error']\n",
    "xgb_model = [0,0,0,0,0,0,0,0,0,0]\n",
    "\n",
    "for i in range(10, 11):\n",
    "    tmp_model = XGBRegressor(**xgb_parameters[i])\n",
    "    tmp_model.fit(X_train[i], y_train[i])\n",
    "    xgb_model.append(tmp_model)\n",
    "\n",
    "for i in range(10, 11):\n",
    "    print(i)\n",
    "    for score_measure in score_measure_list:\n",
    "        res = compute_score(xgb_model[i], X[i], y[i], scoring = score_measure)\n",
    "        res = round(res, 2) * -1\n",
    "        if score_measure == 'neg_mean_absolute_error':\n",
    "            print('Model: xbg range - {}, measure: mae, score: {}'.format(i+1, res))\n",
    "        elif score_measure == 'neg_mean_squared_error':\n",
    "            print('Model: xbg range - {} measure: mse, score: {}'.format(i+1, res))\n",
    "            tmp = round(res ** 0.5, 2)\n",
    "            print('Model: xbg range - {} measure: rmse, score: {}'.format(i+1, tmp))"
   ]
  },
  {
   "cell_type": "code",
   "execution_count": null,
   "metadata": {},
   "outputs": [],
   "source": [
    "for i in range(10, 11):\n",
    "    print(i)\n",
    "    y_pred = xgb_model[i].predict(X_test[i])\n",
    "    mape_res = round(mape(y_test[i], y_pred),2)\n",
    "    print('Model: xgb range - {}, measure: mape, score: {}'.format(i+1, mape_res))\n",
    "    me_res = round(me(y_test[i], y_pred),2)\n",
    "    print('Model: xgb range - {}, measure: me, score: {}'.format(i+1, me_res))"
   ]
  },
  {
   "cell_type": "code",
   "execution_count": null,
   "metadata": {},
   "outputs": [],
   "source": [
    "y_pred_final = xgb_model[10].predict(full[X_cols])\n",
    "xgb_pred_df = pd.DataFrame({'predicted_xgb':y_pred_final})\n",
    "xgb_pred_df.head()"
   ]
  },
  {
   "cell_type": "code",
   "execution_count": null,
   "metadata": {},
   "outputs": [],
   "source": [
    "res_final_after_xgb = res_final_after_rf.join(xgb_pred_df)\n",
    "res_final_after_xgb.head()"
   ]
  },
  {
   "cell_type": "markdown",
   "metadata": {},
   "source": [
    "## LinearRegression"
   ]
  },
  {
   "cell_type": "code",
   "execution_count": 22,
   "metadata": {},
   "outputs": [
    {
     "name": "stdout",
     "output_type": "stream",
     "text": [
      "10\n",
      "Best score: -11662.853630301854\n",
      "Best parameters: {'copy_X': True, 'normalize': True}\n"
     ]
    }
   ],
   "source": [
    "from sklearn.linear_model import LinearRegression\n",
    "warnings.filterwarnings('ignore')\n",
    "\n",
    "lr_tune_run = True\n",
    "lr_parameters = [0,0,0,0,0,0,0,0,0,0]\n",
    "\n",
    "for i in range(10, 11):\n",
    "    print(i)\n",
    "    lr_parameters.append({})\n",
    "    if lr_tune_run:\n",
    "        parameter_grid = {\n",
    "             'copy_X': [True, False],\n",
    "             'normalize': [True, False]\n",
    "         }\n",
    "\n",
    "        forest = LinearRegression()\n",
    "\n",
    "        grid_search = GridSearchCV(forest,\n",
    "                                   scoring='mean_squared_error',\n",
    "                                   param_grid=parameter_grid,\n",
    "                                   cv=5)\n",
    "\n",
    "        grid_search.fit(X[i], y[i])\n",
    "        parameters = grid_search.best_params_\n",
    "        lr_parameters[i]['copy_X'] = grid_search.best_params_['copy_X']\n",
    "        lr_parameters[i]['normalize'] = grid_search.best_params_['normalize']\n",
    "        \n",
    "        print('Best score: {}'.format(grid_search.best_score_))\n",
    "        print('Best parameters: {}'.format(grid_search.best_params_))"
   ]
  },
  {
   "cell_type": "code",
   "execution_count": 23,
   "metadata": {},
   "outputs": [
    {
     "name": "stdout",
     "output_type": "stream",
     "text": [
      "10\n",
      "Model: lr range - 11, measure: mae, score: 85.43\n",
      "Model: lr range - 11 measure: mse, score: 11662.85\n",
      "Model: lr range - 11 measure: rmse, score: 107.99\n"
     ]
    }
   ],
   "source": [
    "warnings.filterwarnings('ignore')\n",
    "score_measure_list = ['neg_mean_absolute_error', 'neg_mean_squared_error']\n",
    "lr_model = [0,0,0,0,0,0,0,0,0,0]\n",
    "\n",
    "for i in range(10, 11):\n",
    "    tmp_model = LinearRegression(**lr_parameters[i])\n",
    "    tmp_model.fit(X_train[i], y_train[i])\n",
    "    lr_model.append(tmp_model)\n",
    "\n",
    "for i in range(10, 11):\n",
    "    print(i)\n",
    "    for score_measure in score_measure_list:\n",
    "        res = compute_score(lr_model[i], X[i], y[i], scoring = score_measure)\n",
    "        res = round(res, 2) * -1\n",
    "        if score_measure == 'neg_mean_absolute_error':\n",
    "            print('Model: lr range - {}, measure: mae, score: {}'.format(i+1, res))\n",
    "        elif score_measure == 'neg_mean_squared_error':\n",
    "            print('Model: lr range - {} measure: mse, score: {}'.format(i+1, res))\n",
    "            tmp = round(res ** 0.5, 2)\n",
    "            print('Model: lr range - {} measure: rmse, score: {}'.format(i+1, tmp))"
   ]
  },
  {
   "cell_type": "code",
   "execution_count": null,
   "metadata": {},
   "outputs": [],
   "source": [
    "for i in range(10, 11):\n",
    "    print(i)\n",
    "    y_pred = lr_model[i].predict(X_test[i])\n",
    "    mape_res = round(mape(y_test[i], y_pred),2)\n",
    "    print('Model: lr range - {}, measure: mape, score: {}'.format(i+1, mape_res))\n",
    "    me_res = round(me(y_test[i], y_pred),2)\n",
    "    print('Model: lr range - {}, measure: me, score: {}'.format(i+1, me_res))"
   ]
  },
  {
   "cell_type": "code",
   "execution_count": null,
   "metadata": {},
   "outputs": [],
   "source": [
    "y_pred_final = lr_model[10].predict(full[X_cols])\n",
    "lr_pred_df = pd.DataFrame({'predicted_lr':y_pred_final})\n",
    "lr_pred_df.head()"
   ]
  },
  {
   "cell_type": "code",
   "execution_count": null,
   "metadata": {},
   "outputs": [],
   "source": [
    "res_final_after_lr = res_final_after_xgb.join(lr_pred_df)\n",
    "res_final_after_lr.head()"
   ]
  },
  {
   "cell_type": "code",
   "execution_count": null,
   "metadata": {
    "collapsed": true
   },
   "outputs": [],
   "source": [
    "res_final_after_lr.to_csv('res_final_pred3.csv')"
   ]
  },
  {
   "cell_type": "code",
   "execution_count": null,
   "metadata": {
    "collapsed": true
   },
   "outputs": [],
   "source": []
  }
 ],
 "metadata": {
  "kernelspec": {
   "display_name": "Python 3",
   "language": "python",
   "name": "python3"
  },
  "language_info": {
   "codemirror_mode": {
    "name": "ipython",
    "version": 3
   },
   "file_extension": ".py",
   "mimetype": "text/x-python",
   "name": "python",
   "nbconvert_exporter": "python",
   "pygments_lexer": "ipython3",
   "version": "3.6.3"
  }
 },
 "nbformat": 4,
 "nbformat_minor": 2
}

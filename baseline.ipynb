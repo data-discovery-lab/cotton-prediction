{
 "cells": [
  {
   "cell_type": "code",
   "execution_count": 68,
   "metadata": {
    "collapsed": true
   },
   "outputs": [],
   "source": [
    "import pandas as pd\n",
    "%matplotlib inline\n",
    "import matplotlib.pyplot as plt\n",
    "import seaborn as sns\n",
    "import warnings\n",
    "warnings.filterwarnings('ignore')\n",
    "import numpy as np"
   ]
  },
  {
   "cell_type": "code",
   "execution_count": 69,
   "metadata": {
    "collapsed": true
   },
   "outputs": [],
   "source": [
    "# df = pd.read_table('Data_28_F29.txt', delimiter=',')\n",
    "df = pd.read_csv('cotton_data_02.csv')"
   ]
  },
  {
   "cell_type": "code",
   "execution_count": 70,
   "metadata": {},
   "outputs": [
    {
     "data": {
      "text/html": [
       "<div>\n",
       "<style scoped>\n",
       "    .dataframe tbody tr th:only-of-type {\n",
       "        vertical-align: middle;\n",
       "    }\n",
       "\n",
       "    .dataframe tbody tr th {\n",
       "        vertical-align: top;\n",
       "    }\n",
       "\n",
       "    .dataframe thead th {\n",
       "        text-align: right;\n",
       "    }\n",
       "</style>\n",
       "<table border=\"1\" class=\"dataframe\">\n",
       "  <thead>\n",
       "    <tr style=\"text-align: right;\">\n",
       "      <th></th>\n",
       "      <th>Unnamed: 0</th>\n",
       "      <th>ID</th>\n",
       "      <th>FIELD</th>\n",
       "      <th>YLD03</th>\n",
       "      <th>ELE</th>\n",
       "      <th>SLOPE</th>\n",
       "      <th>CURV</th>\n",
       "      <th>PRO</th>\n",
       "      <th>PLAN</th>\n",
       "      <th>EC_SH</th>\n",
       "      <th>...</th>\n",
       "      <th>BAND3</th>\n",
       "      <th>BAND4</th>\n",
       "      <th>VI02_518</th>\n",
       "      <th>VI02_526</th>\n",
       "      <th>VI02_619</th>\n",
       "      <th>VI02_713</th>\n",
       "      <th>VI02_721</th>\n",
       "      <th>VI02_830</th>\n",
       "      <th>VI02_907</th>\n",
       "      <th>VI02_923</th>\n",
       "    </tr>\n",
       "  </thead>\n",
       "  <tbody>\n",
       "    <tr>\n",
       "      <th>0</th>\n",
       "      <td>0</td>\n",
       "      <td>3018</td>\n",
       "      <td>C29</td>\n",
       "      <td>1082</td>\n",
       "      <td>1080.06</td>\n",
       "      <td>0.0879</td>\n",
       "      <td>0.002694</td>\n",
       "      <td>-0.001178</td>\n",
       "      <td>0.001515</td>\n",
       "      <td>14.4</td>\n",
       "      <td>...</td>\n",
       "      <td>123</td>\n",
       "      <td>82</td>\n",
       "      <td>-0.194690</td>\n",
       "      <td>-0.211382</td>\n",
       "      <td>-0.210084</td>\n",
       "      <td>-0.081545</td>\n",
       "      <td>0.040462</td>\n",
       "      <td>0.359116</td>\n",
       "      <td>0.273810</td>\n",
       "      <td>0.026178</td>\n",
       "    </tr>\n",
       "    <tr>\n",
       "      <th>1</th>\n",
       "      <td>1</td>\n",
       "      <td>3019</td>\n",
       "      <td>C29</td>\n",
       "      <td>1202</td>\n",
       "      <td>1080.08</td>\n",
       "      <td>0.0575</td>\n",
       "      <td>0.001403</td>\n",
       "      <td>-0.000473</td>\n",
       "      <td>0.000930</td>\n",
       "      <td>14.3</td>\n",
       "      <td>...</td>\n",
       "      <td>126</td>\n",
       "      <td>85</td>\n",
       "      <td>-0.192982</td>\n",
       "      <td>-0.220077</td>\n",
       "      <td>-0.221757</td>\n",
       "      <td>-0.115702</td>\n",
       "      <td>0.053254</td>\n",
       "      <td>0.439560</td>\n",
       "      <td>0.345238</td>\n",
       "      <td>0.096774</td>\n",
       "    </tr>\n",
       "    <tr>\n",
       "      <th>2</th>\n",
       "      <td>2</td>\n",
       "      <td>3020</td>\n",
       "      <td>C29</td>\n",
       "      <td>1196</td>\n",
       "      <td>1080.10</td>\n",
       "      <td>0.0906</td>\n",
       "      <td>-0.004624</td>\n",
       "      <td>0.004098</td>\n",
       "      <td>-0.000527</td>\n",
       "      <td>13.9</td>\n",
       "      <td>...</td>\n",
       "      <td>127</td>\n",
       "      <td>83</td>\n",
       "      <td>-0.189427</td>\n",
       "      <td>-0.218391</td>\n",
       "      <td>-0.217021</td>\n",
       "      <td>-0.100000</td>\n",
       "      <td>0.052632</td>\n",
       "      <td>0.445652</td>\n",
       "      <td>0.345238</td>\n",
       "      <td>0.124324</td>\n",
       "    </tr>\n",
       "    <tr>\n",
       "      <th>3</th>\n",
       "      <td>3</td>\n",
       "      <td>3021</td>\n",
       "      <td>C29</td>\n",
       "      <td>1120</td>\n",
       "      <td>1080.13</td>\n",
       "      <td>0.1291</td>\n",
       "      <td>-0.001335</td>\n",
       "      <td>0.001011</td>\n",
       "      <td>-0.000324</td>\n",
       "      <td>14.1</td>\n",
       "      <td>...</td>\n",
       "      <td>127</td>\n",
       "      <td>84</td>\n",
       "      <td>-0.192982</td>\n",
       "      <td>-0.221374</td>\n",
       "      <td>-0.215190</td>\n",
       "      <td>-0.128000</td>\n",
       "      <td>0.052632</td>\n",
       "      <td>0.425532</td>\n",
       "      <td>0.345238</td>\n",
       "      <td>0.104167</td>\n",
       "    </tr>\n",
       "    <tr>\n",
       "      <th>4</th>\n",
       "      <td>4</td>\n",
       "      <td>3022</td>\n",
       "      <td>C29</td>\n",
       "      <td>1119</td>\n",
       "      <td>1080.18</td>\n",
       "      <td>0.1515</td>\n",
       "      <td>0.002538</td>\n",
       "      <td>-0.001229</td>\n",
       "      <td>0.001309</td>\n",
       "      <td>14.8</td>\n",
       "      <td>...</td>\n",
       "      <td>130</td>\n",
       "      <td>85</td>\n",
       "      <td>-0.192982</td>\n",
       "      <td>-0.218045</td>\n",
       "      <td>-0.219917</td>\n",
       "      <td>-0.128000</td>\n",
       "      <td>0.017341</td>\n",
       "      <td>0.387097</td>\n",
       "      <td>0.321637</td>\n",
       "      <td>0.094737</td>\n",
       "    </tr>\n",
       "  </tbody>\n",
       "</table>\n",
       "<p>5 rows × 23 columns</p>\n",
       "</div>"
      ],
      "text/plain": [
       "   Unnamed: 0    ID FIELD  YLD03      ELE   SLOPE      CURV       PRO  \\\n",
       "0           0  3018   C29   1082  1080.06  0.0879  0.002694 -0.001178   \n",
       "1           1  3019   C29   1202  1080.08  0.0575  0.001403 -0.000473   \n",
       "2           2  3020   C29   1196  1080.10  0.0906 -0.004624  0.004098   \n",
       "3           3  3021   C29   1120  1080.13  0.1291 -0.001335  0.001011   \n",
       "4           4  3022   C29   1119  1080.18  0.1515  0.002538 -0.001229   \n",
       "\n",
       "       PLAN  EC_SH    ...     BAND3  BAND4  VI02_518  VI02_526  VI02_619  \\\n",
       "0  0.001515   14.4    ...       123     82 -0.194690 -0.211382 -0.210084   \n",
       "1  0.000930   14.3    ...       126     85 -0.192982 -0.220077 -0.221757   \n",
       "2 -0.000527   13.9    ...       127     83 -0.189427 -0.218391 -0.217021   \n",
       "3 -0.000324   14.1    ...       127     84 -0.192982 -0.221374 -0.215190   \n",
       "4  0.001309   14.8    ...       130     85 -0.192982 -0.218045 -0.219917   \n",
       "\n",
       "   VI02_713  VI02_721  VI02_830  VI02_907  VI02_923  \n",
       "0 -0.081545  0.040462  0.359116  0.273810  0.026178  \n",
       "1 -0.115702  0.053254  0.439560  0.345238  0.096774  \n",
       "2 -0.100000  0.052632  0.445652  0.345238  0.124324  \n",
       "3 -0.128000  0.052632  0.425532  0.345238  0.104167  \n",
       "4 -0.128000  0.017341  0.387097  0.321637  0.094737  \n",
       "\n",
       "[5 rows x 23 columns]"
      ]
     },
     "execution_count": 70,
     "metadata": {},
     "output_type": "execute_result"
    }
   ],
   "source": [
    "df.head()"
   ]
  },
  {
   "cell_type": "code",
   "execution_count": 71,
   "metadata": {
    "collapsed": true
   },
   "outputs": [],
   "source": [
    "# columns = ['AVGYLD','ELE','SLOPE','CURV', 'PRO','PLAN','EC_SH','EC_DP','BAND1','BAND2','BAND3','BAND4',\n",
    "#            'VI00_520','VI00_528','VI00_613','VI00_707','VI00_715','VI00_723','VI00_816','VI00_824','VI00_901','VI00_917',\n",
    "#            'VI01_616','VI01_624','VI01_710','VI01_827','VI01_912','VI02_518','VI02_526','VI02_619',\n",
    "#            'VI02_713','VI02_721','VI02_830','VI02_907','VI02_923','VI03_505','VI03_529','VI03_606',\n",
    "#            'VI03_622','VI03_724','VI03_825','VI03_926']\n",
    "# 'VI03_505','VI03_529','VI03_606', 'VI03_622','VI03_724','VI03_825','VI03_926'"
   ]
  },
  {
   "cell_type": "code",
   "execution_count": 72,
   "metadata": {},
   "outputs": [
    {
     "data": {
      "text/html": [
       "<div>\n",
       "<style scoped>\n",
       "    .dataframe tbody tr th:only-of-type {\n",
       "        vertical-align: middle;\n",
       "    }\n",
       "\n",
       "    .dataframe tbody tr th {\n",
       "        vertical-align: top;\n",
       "    }\n",
       "\n",
       "    .dataframe thead th {\n",
       "        text-align: right;\n",
       "    }\n",
       "</style>\n",
       "<table border=\"1\" class=\"dataframe\">\n",
       "  <thead>\n",
       "    <tr style=\"text-align: right;\">\n",
       "      <th></th>\n",
       "      <th>Unnamed: 0</th>\n",
       "      <th>YLD03</th>\n",
       "      <th>ELE</th>\n",
       "      <th>SLOPE</th>\n",
       "      <th>CURV</th>\n",
       "      <th>PRO</th>\n",
       "      <th>PLAN</th>\n",
       "      <th>EC_SH</th>\n",
       "      <th>EC_DP</th>\n",
       "      <th>BAND1</th>\n",
       "      <th>...</th>\n",
       "      <th>BAND3</th>\n",
       "      <th>BAND4</th>\n",
       "      <th>VI02_518</th>\n",
       "      <th>VI02_526</th>\n",
       "      <th>VI02_619</th>\n",
       "      <th>VI02_713</th>\n",
       "      <th>VI02_721</th>\n",
       "      <th>VI02_830</th>\n",
       "      <th>VI02_907</th>\n",
       "      <th>VI02_923</th>\n",
       "    </tr>\n",
       "  </thead>\n",
       "  <tbody>\n",
       "    <tr>\n",
       "      <th>0</th>\n",
       "      <td>0</td>\n",
       "      <td>1082</td>\n",
       "      <td>1080.06</td>\n",
       "      <td>0.0879</td>\n",
       "      <td>0.002694</td>\n",
       "      <td>-0.001178</td>\n",
       "      <td>0.001515</td>\n",
       "      <td>14.4</td>\n",
       "      <td>38.700001</td>\n",
       "      <td>96</td>\n",
       "      <td>...</td>\n",
       "      <td>123</td>\n",
       "      <td>82</td>\n",
       "      <td>-0.194690</td>\n",
       "      <td>-0.211382</td>\n",
       "      <td>-0.210084</td>\n",
       "      <td>-0.081545</td>\n",
       "      <td>0.040462</td>\n",
       "      <td>0.359116</td>\n",
       "      <td>0.273810</td>\n",
       "      <td>0.026178</td>\n",
       "    </tr>\n",
       "    <tr>\n",
       "      <th>1</th>\n",
       "      <td>1</td>\n",
       "      <td>1202</td>\n",
       "      <td>1080.08</td>\n",
       "      <td>0.0575</td>\n",
       "      <td>0.001403</td>\n",
       "      <td>-0.000473</td>\n",
       "      <td>0.000930</td>\n",
       "      <td>14.3</td>\n",
       "      <td>40.900002</td>\n",
       "      <td>94</td>\n",
       "      <td>...</td>\n",
       "      <td>126</td>\n",
       "      <td>85</td>\n",
       "      <td>-0.192982</td>\n",
       "      <td>-0.220077</td>\n",
       "      <td>-0.221757</td>\n",
       "      <td>-0.115702</td>\n",
       "      <td>0.053254</td>\n",
       "      <td>0.439560</td>\n",
       "      <td>0.345238</td>\n",
       "      <td>0.096774</td>\n",
       "    </tr>\n",
       "    <tr>\n",
       "      <th>2</th>\n",
       "      <td>2</td>\n",
       "      <td>1196</td>\n",
       "      <td>1080.10</td>\n",
       "      <td>0.0906</td>\n",
       "      <td>-0.004624</td>\n",
       "      <td>0.004098</td>\n",
       "      <td>-0.000527</td>\n",
       "      <td>13.9</td>\n",
       "      <td>36.900002</td>\n",
       "      <td>92</td>\n",
       "      <td>...</td>\n",
       "      <td>127</td>\n",
       "      <td>83</td>\n",
       "      <td>-0.189427</td>\n",
       "      <td>-0.218391</td>\n",
       "      <td>-0.217021</td>\n",
       "      <td>-0.100000</td>\n",
       "      <td>0.052632</td>\n",
       "      <td>0.445652</td>\n",
       "      <td>0.345238</td>\n",
       "      <td>0.124324</td>\n",
       "    </tr>\n",
       "    <tr>\n",
       "      <th>3</th>\n",
       "      <td>3</td>\n",
       "      <td>1120</td>\n",
       "      <td>1080.13</td>\n",
       "      <td>0.1291</td>\n",
       "      <td>-0.001335</td>\n",
       "      <td>0.001011</td>\n",
       "      <td>-0.000324</td>\n",
       "      <td>14.1</td>\n",
       "      <td>37.099998</td>\n",
       "      <td>96</td>\n",
       "      <td>...</td>\n",
       "      <td>127</td>\n",
       "      <td>84</td>\n",
       "      <td>-0.192982</td>\n",
       "      <td>-0.221374</td>\n",
       "      <td>-0.215190</td>\n",
       "      <td>-0.128000</td>\n",
       "      <td>0.052632</td>\n",
       "      <td>0.425532</td>\n",
       "      <td>0.345238</td>\n",
       "      <td>0.104167</td>\n",
       "    </tr>\n",
       "    <tr>\n",
       "      <th>4</th>\n",
       "      <td>4</td>\n",
       "      <td>1119</td>\n",
       "      <td>1080.18</td>\n",
       "      <td>0.1515</td>\n",
       "      <td>0.002538</td>\n",
       "      <td>-0.001229</td>\n",
       "      <td>0.001309</td>\n",
       "      <td>14.8</td>\n",
       "      <td>36.099998</td>\n",
       "      <td>96</td>\n",
       "      <td>...</td>\n",
       "      <td>130</td>\n",
       "      <td>85</td>\n",
       "      <td>-0.192982</td>\n",
       "      <td>-0.218045</td>\n",
       "      <td>-0.219917</td>\n",
       "      <td>-0.128000</td>\n",
       "      <td>0.017341</td>\n",
       "      <td>0.387097</td>\n",
       "      <td>0.321637</td>\n",
       "      <td>0.094737</td>\n",
       "    </tr>\n",
       "  </tbody>\n",
       "</table>\n",
       "<p>5 rows × 21 columns</p>\n",
       "</div>"
      ],
      "text/plain": [
       "   Unnamed: 0  YLD03      ELE   SLOPE      CURV       PRO      PLAN  EC_SH  \\\n",
       "0           0   1082  1080.06  0.0879  0.002694 -0.001178  0.001515   14.4   \n",
       "1           1   1202  1080.08  0.0575  0.001403 -0.000473  0.000930   14.3   \n",
       "2           2   1196  1080.10  0.0906 -0.004624  0.004098 -0.000527   13.9   \n",
       "3           3   1120  1080.13  0.1291 -0.001335  0.001011 -0.000324   14.1   \n",
       "4           4   1119  1080.18  0.1515  0.002538 -0.001229  0.001309   14.8   \n",
       "\n",
       "       EC_DP  BAND1    ...     BAND3  BAND4  VI02_518  VI02_526  VI02_619  \\\n",
       "0  38.700001     96    ...       123     82 -0.194690 -0.211382 -0.210084   \n",
       "1  40.900002     94    ...       126     85 -0.192982 -0.220077 -0.221757   \n",
       "2  36.900002     92    ...       127     83 -0.189427 -0.218391 -0.217021   \n",
       "3  37.099998     96    ...       127     84 -0.192982 -0.221374 -0.215190   \n",
       "4  36.099998     96    ...       130     85 -0.192982 -0.218045 -0.219917   \n",
       "\n",
       "   VI02_713  VI02_721  VI02_830  VI02_907  VI02_923  \n",
       "0 -0.081545  0.040462  0.359116  0.273810  0.026178  \n",
       "1 -0.115702  0.053254  0.439560  0.345238  0.096774  \n",
       "2 -0.100000  0.052632  0.445652  0.345238  0.124324  \n",
       "3 -0.128000  0.052632  0.425532  0.345238  0.104167  \n",
       "4 -0.128000  0.017341  0.387097  0.321637  0.094737  \n",
       "\n",
       "[5 rows x 21 columns]"
      ]
     },
     "execution_count": 72,
     "metadata": {},
     "output_type": "execute_result"
    }
   ],
   "source": [
    "\n",
    "df_use = df.loc[:, df.columns != 'ID']\n",
    "\n",
    "df_use = df_use[df_use['FIELD'] == 'C29']\n",
    "df_use = df_use.loc[:, df_use.columns != 'FIELD']\n",
    "\n",
    "df_use.head()"
   ]
  },
  {
   "cell_type": "code",
   "execution_count": null,
   "metadata": {
    "collapsed": true
   },
   "outputs": [],
   "source": []
  },
  {
   "cell_type": "code",
   "execution_count": 73,
   "metadata": {},
   "outputs": [
    {
     "data": {
      "text/html": [
       "<div>\n",
       "<style scoped>\n",
       "    .dataframe tbody tr th:only-of-type {\n",
       "        vertical-align: middle;\n",
       "    }\n",
       "\n",
       "    .dataframe tbody tr th {\n",
       "        vertical-align: top;\n",
       "    }\n",
       "\n",
       "    .dataframe thead th {\n",
       "        text-align: right;\n",
       "    }\n",
       "</style>\n",
       "<table border=\"1\" class=\"dataframe\">\n",
       "  <thead>\n",
       "    <tr style=\"text-align: right;\">\n",
       "      <th></th>\n",
       "      <th>ID</th>\n",
       "      <th>FIELD</th>\n",
       "    </tr>\n",
       "  </thead>\n",
       "  <tbody>\n",
       "    <tr>\n",
       "      <th>0</th>\n",
       "      <td>3018</td>\n",
       "      <td>C29</td>\n",
       "    </tr>\n",
       "    <tr>\n",
       "      <th>1</th>\n",
       "      <td>3019</td>\n",
       "      <td>C29</td>\n",
       "    </tr>\n",
       "    <tr>\n",
       "      <th>2</th>\n",
       "      <td>3020</td>\n",
       "      <td>C29</td>\n",
       "    </tr>\n",
       "    <tr>\n",
       "      <th>3</th>\n",
       "      <td>3021</td>\n",
       "      <td>C29</td>\n",
       "    </tr>\n",
       "    <tr>\n",
       "      <th>4</th>\n",
       "      <td>3022</td>\n",
       "      <td>C29</td>\n",
       "    </tr>\n",
       "  </tbody>\n",
       "</table>\n",
       "</div>"
      ],
      "text/plain": [
       "     ID FIELD\n",
       "0  3018   C29\n",
       "1  3019   C29\n",
       "2  3020   C29\n",
       "3  3021   C29\n",
       "4  3022   C29"
      ]
     },
     "execution_count": 73,
     "metadata": {},
     "output_type": "execute_result"
    }
   ],
   "source": [
    "res_final = df[df['FIELD'] == 'C29']\n",
    "res_final = res_final[['ID', 'FIELD']]\n",
    "res_final.head()"
   ]
  },
  {
   "cell_type": "code",
   "execution_count": 74,
   "metadata": {},
   "outputs": [
    {
     "data": {
      "text/plain": [
       "array(['Unnamed: 0', 'YLD03', 'ELE', 'SLOPE', 'CURV', 'PRO', 'PLAN',\n",
       "       'EC_SH', 'EC_DP', 'BAND1', 'BAND2', 'BAND3', 'BAND4', 'VI02_518',\n",
       "       'VI02_526', 'VI02_619', 'VI02_713', 'VI02_721', 'VI02_830',\n",
       "       'VI02_907', 'VI02_923'], dtype=object)"
      ]
     },
     "execution_count": 74,
     "metadata": {},
     "output_type": "execute_result"
    }
   ],
   "source": [
    "df_use.columns.values"
   ]
  },
  {
   "cell_type": "code",
   "execution_count": 75,
   "metadata": {
    "collapsed": true
   },
   "outputs": [],
   "source": [
    "from sklearn.svm import SVR\n",
    "from sklearn.tree import DecisionTreeRegressor\n",
    "from sklearn.ensemble import RandomForestRegressor\n",
    "from sklearn.model_selection import train_test_split, StratifiedKFold\n",
    "from sklearn.model_selection import GridSearchCV, cross_val_score\n",
    "\n",
    "from sklearn.metrics import roc_curve, auc\n",
    "from sklearn.preprocessing import label_binarize\n",
    "from sklearn.multiclass import OneVsRestClassifier\n",
    "import matplotlib.pyplot as plt\n",
    "import scikitplot as skplt\n",
    "\n",
    "def compute_score(clf, X, y, scoring='mean_squared_error'):\n",
    "    xval = cross_val_score(clf, X, y, cv = 5, scoring=scoring)\n",
    "    return np.mean(xval)\n",
    "\n",
    "def plot_roc(x_test, y_test, model):\n",
    "    predicted_probas = model.predict_proba(x_test)\n",
    "    skplt.metrics.plot_roc(y_test, predicted_probas, figsize =(10,10))\n",
    "    plt.show()\n",
    "    \n",
    "def yld_category(yld):\n",
    "    if yld <= 603:\n",
    "        return 1\n",
    "    elif 603 < yld <= 766:\n",
    "        return 2\n",
    "    elif 766 < yld <= 882:\n",
    "        return 3\n",
    "    elif 882 < yld <= 956:\n",
    "        return 4\n",
    "    elif 956 < yld <= 1018:\n",
    "        return 5\n",
    "    elif 1018 < yld <= 1075:\n",
    "        return 6\n",
    "    elif 1075 < yld <= 1134:\n",
    "        return 7\n",
    "    elif 1134 < yld <= 1200:\n",
    "        return 8\n",
    "    elif 1200 < yld <= 1280:\n",
    "        return 9\n",
    "    elif yld > 1280:\n",
    "        return 10"
   ]
  },
  {
   "cell_type": "code",
   "execution_count": 76,
   "metadata": {
    "collapsed": true
   },
   "outputs": [],
   "source": [
    "full = df_use\n",
    "full['AVGYLD_Category'] = full['YLD03'].apply(lambda x: yld_category(x))"
   ]
  },
  {
   "cell_type": "code",
   "execution_count": 77,
   "metadata": {
    "collapsed": true
   },
   "outputs": [],
   "source": [
    "# sns.distplot(full['AVGYLD_Category'], kde=False, bins=10, hist_kws={'edgecolor':'white', 'alpha':1.0})"
   ]
  },
  {
   "cell_type": "code",
   "execution_count": 78,
   "metadata": {
    "collapsed": true
   },
   "outputs": [],
   "source": [
    "# sns.distplot(full['AVGYLD_Category'], kde=False, bins=10, hist_kws={\"rwidth\":1,'edgecolor':'white', 'alpha':1.0})"
   ]
  },
  {
   "cell_type": "code",
   "execution_count": 79,
   "metadata": {
    "collapsed": true
   },
   "outputs": [],
   "source": [
    "tmp = []\n",
    "\n",
    "for i in range(1, 11):\n",
    "    tmp.append(full[full['AVGYLD_Category'] == i])"
   ]
  },
  {
   "cell_type": "code",
   "execution_count": 80,
   "metadata": {
    "collapsed": true
   },
   "outputs": [],
   "source": [
    "X_train = []\n",
    "X_test = []\n",
    "y_train = []\n",
    "y_test = []\n",
    "X_cols = [col for col in full.columns if col not in ['YLD03', 'AVGYLD_Category']]\n",
    "X = []\n",
    "y = []\n",
    "\n",
    "\n",
    "for i in range(10):\n",
    "    X.append(tmp[i][X_cols])\n",
    "    y.append(tmp[i]['YLD03'])\n",
    "    X_train_part, X_test_part, y_train_part, y_test_part = train_test_split(tmp[i][X_cols], tmp[i]['YLD03'], test_size=.2,random_state=0)\n",
    "    X_train.append(X_train_part)\n",
    "    X_test.append(X_test_part)\n",
    "    y_train.append(y_train_part)\n",
    "    y_test.append(y_test_part)\n",
    "\n",
    "X_train_full, X_test_full, y_train_full, y_test_full = train_test_split(full[X_cols], full['YLD03'], test_size=.2,random_state=0)\n",
    "\n",
    "\n",
    "X.append(full[X_cols])\n",
    "y.append(full['YLD03'])\n",
    "X_train.append(X_train_full)\n",
    "X_test.append(X_test_full)\n",
    "y_train.append(y_train_full)\n",
    "y_test.append(y_test_full)\n",
    "\n"
   ]
  },
  {
   "cell_type": "markdown",
   "metadata": {},
   "source": [
    "## dt"
   ]
  },
  {
   "cell_type": "code",
   "execution_count": 81,
   "metadata": {},
   "outputs": [
    {
     "name": "stdout",
     "output_type": "stream",
     "text": [
      "10\n",
      "Best score: -18931.81865546896\n",
      "Best parameters: {'min_samples_leaf': 1, 'min_samples_split': 19, 'random_state': 0}\n"
     ]
    }
   ],
   "source": [
    "warnings.filterwarnings('ignore')\n",
    "dt_tune_run = True\n",
    "dt_parameters = [0,0,0,0,0,0,0,0,0,0]\n",
    "\n",
    "for i in range(10, 11):\n",
    "    print(i)\n",
    "    defaut = {'criterion': 'mse', 'max_depth': None,\n",
    "                  'max_leaf_nodes': None, 'min_impurity_split': 0.005, 'min_weight_fraction_leaf': 0.0,\n",
    "              'presort': False, 'splitter': 'random'}\n",
    "    dt_parameters.append(defaut)\n",
    "    if dt_tune_run:\n",
    "        parameter_grid = {\n",
    "    #          'max_features':range(0,1,1),\n",
    "            'random_state':range(0,10,1),\n",
    "            'min_samples_leaf':range(1,10,1),\n",
    "            'min_samples_split': range(2, 20, 1)\n",
    "        }\n",
    "        forest = DecisionTreeRegressor(criterion='mse', max_depth=None,\n",
    "                                        max_leaf_nodes=None,\n",
    "                                        min_impurity_split=0.005, min_weight_fraction_leaf=0.0,\n",
    "                                        presort=False, splitter='random')\n",
    "\n",
    "        grid_search = GridSearchCV(forest,\n",
    "                                   scoring='mean_squared_error',\n",
    "                                   param_grid=parameter_grid,\n",
    "                                   cv=5)\n",
    "\n",
    "        grid_search.fit(X[i], y[i])\n",
    "        DecisionTreeModel = grid_search\n",
    "        parameters = grid_search.best_params_\n",
    "        dt_parameters[i]['min_samples_leaf'] = grid_search.best_params_['min_samples_leaf']\n",
    "        dt_parameters[i]['min_samples_split'] = grid_search.best_params_['min_samples_split']\n",
    "        dt_parameters[i]['random_state'] = grid_search.best_params_['random_state']\n",
    "        print('Best score: {}'.format(grid_search.best_score_))\n",
    "        print('Best parameters: {}'.format(grid_search.best_params_))"
   ]
  },
  {
   "cell_type": "code",
   "execution_count": 82,
   "metadata": {},
   "outputs": [
    {
     "name": "stdout",
     "output_type": "stream",
     "text": [
      "10\n",
      "Model: dt range - 11, measure: mae, score: 109.6\n",
      "Model: dt range - 11 measure: mse, score: 18931.82\n",
      "Model: dt range - 11 measure: rmse, score: 137.59\n"
     ]
    }
   ],
   "source": [
    "warnings.filterwarnings('ignore')\n",
    "score_measure_list = ['neg_mean_absolute_error', 'neg_mean_squared_error']\n",
    "dt_model = [0,0,0,0,0,0,0,0,0,0]\n",
    "\n",
    "for i in range(10, 11):\n",
    "    tmp_model = DecisionTreeRegressor(**dt_parameters[i])\n",
    "    tmp_model.fit(X_train[i], y_train[i])\n",
    "    dt_model.append(tmp_model)\n",
    "\n",
    "for i in range(10, 11):\n",
    "    print(i)\n",
    "    for score_measure in score_measure_list:\n",
    "        res = compute_score(dt_model[i], X[i], y[i], scoring = score_measure)\n",
    "        res = round(res, 2) * -1\n",
    "        if score_measure == 'neg_mean_absolute_error':\n",
    "            print('Model: dt range - {}, measure: mae, score: {}'.format(i+1, res))\n",
    "        elif score_measure == 'neg_mean_squared_error':\n",
    "            print('Model: dt range - {} measure: mse, score: {}'.format(i+1, res))\n",
    "            tmp = round(res ** 0.5, 2)\n",
    "            print('Model: dt range - {} measure: rmse, score: {}'.format(i+1, tmp))"
   ]
  },
  {
   "cell_type": "code",
   "execution_count": null,
   "metadata": {
    "collapsed": true
   },
   "outputs": [],
   "source": [
    "def mape(y_true, y_pred): \n",
    "    y_true, y_pred = np.array(y_true), np.array(y_pred)\n",
    "\n",
    "    return np.mean(np.abs((y_true - y_pred) / y_true)) * 100\n",
    "\n",
    "def me(y_true, y_pred): \n",
    "    y_true, y_pred = np.array(y_true), np.array(y_pred)\n",
    "\n",
    "    return max(np.abs(y_true - y_pred))"
   ]
  },
  {
   "cell_type": "code",
   "execution_count": null,
   "metadata": {
    "collapsed": true
   },
   "outputs": [],
   "source": [
    "\n",
    "for i in range(10, 11):\n",
    "    print(i)\n",
    "    y_pred = dt_model[i].predict(X_test[i])\n",
    "    mape_res = round(mape(y_test[i], y_pred),2)\n",
    "    print('Model: dt range - {}, measure: mape, score: {}'.format(i+1, mape_res))\n",
    "    me_res = round(me(y_test[i], y_pred),2)\n",
    "    print('Model: dt range - {}, measure: me, score: {}'.format(i+1, me_res))"
   ]
  },
  {
   "cell_type": "code",
   "execution_count": null,
   "metadata": {
    "collapsed": true
   },
   "outputs": [],
   "source": [
    "y_pred_final = dt_model[10].predict(full[X_cols])\n",
    "dt_pred_df = pd.DataFrame({'predicted_dt':y_pred_final})\n",
    "dt_pred_df.head()\n",
    "res_final_after_dt = res_final.join(dt_pred_df)\n",
    "res_final_after_dt.head()"
   ]
  },
  {
   "cell_type": "markdown",
   "metadata": {},
   "source": [
    "## svm"
   ]
  },
  {
   "cell_type": "code",
   "execution_count": 83,
   "metadata": {},
   "outputs": [
    {
     "name": "stdout",
     "output_type": "stream",
     "text": [
      "10\n",
      "Best score: -32418.924987645798\n",
      "Best parameters: {'C': 100, 'gamma': 0.001}\n"
     ]
    }
   ],
   "source": [
    "warnings.filterwarnings('ignore')\n",
    "svm_tune_run = True\n",
    "svm_parameters = [0,0,0,0,0,0,0,0,0,0]\n",
    "\n",
    "for i in range(10, 11):\n",
    "    print(i)\n",
    "    defaut = {'cache_size': 200, 'coef0': 0.0,\n",
    "                  'degree': 3, 'kernel': 'rbf', 'max_iter': -1,\n",
    "              'shrinking': True, 'tol': 0.001, 'verbose': False}\n",
    "    svm_parameters.append(defaut)\n",
    "    if svm_tune_run:\n",
    "        parameter_grid = {\n",
    "             'C': [0.001, 0.01, 0.1, 1, 10, 100, 1000],\n",
    "             'gamma' : [0.001, 0.01, 0.1, 1]\n",
    "         }\n",
    "\n",
    "        forest = SVR(cache_size=200, coef0=0.0,\n",
    "                  degree=3, kernel='rbf', max_iter=-1, shrinking=True, tol=0.001, verbose=False)\n",
    "\n",
    "        grid_search = GridSearchCV(forest,\n",
    "                                   scoring='mean_squared_error',\n",
    "                                   param_grid=parameter_grid,\n",
    "                                   cv=5)\n",
    "\n",
    "        grid_search.fit(X[i], y[i])\n",
    "        SVCModel = grid_search\n",
    "        parameters = grid_search.best_params_\n",
    "        svm_parameters[i]['C'] = grid_search.best_params_['C']\n",
    "        svm_parameters[i]['gamma'] = grid_search.best_params_['gamma']\n",
    "\n",
    "        print('Best score: {}'.format(grid_search.best_score_))\n",
    "        print('Best parameters: {}'.format(grid_search.best_params_))"
   ]
  },
  {
   "cell_type": "code",
   "execution_count": 84,
   "metadata": {},
   "outputs": [
    {
     "name": "stdout",
     "output_type": "stream",
     "text": [
      "10\n",
      "Model: svm range - 11, measure: mae, score: 140.71\n",
      "Model: svm range - 11 measure: mse, score: 32418.92\n",
      "Model: svm range - 11 measure: rmse, score: 180.05\n"
     ]
    }
   ],
   "source": [
    "warnings.filterwarnings('ignore')\n",
    "score_measure_list = ['neg_mean_absolute_error', 'neg_mean_squared_error']\n",
    "svm_model = [0,0,0,0,0,0,0,0,0,0]\n",
    "\n",
    "for i in range(10, 11):\n",
    "    tmp_model = SVR(**svm_parameters[i])\n",
    "    tmp_model.fit(X_train[i], y_train[i])\n",
    "    svm_model.append(tmp_model)\n",
    "\n",
    "for i in range(10, 11):\n",
    "    print(i)\n",
    "    for score_measure in score_measure_list:\n",
    "        res = compute_score(svm_model[i], X[i], y[i], scoring = score_measure)\n",
    "        res = round(res, 2) * -1\n",
    "        if score_measure == 'neg_mean_absolute_error':\n",
    "            print('Model: svm range - {}, measure: mae, score: {}'.format(i+1, res))\n",
    "        elif score_measure == 'neg_mean_squared_error':\n",
    "            print('Model: svm range - {} measure: mse, score: {}'.format(i+1, res))\n",
    "            tmp = round(res ** 0.5, 2)\n",
    "            print('Model: svm range - {} measure: rmse, score: {}'.format(i+1, tmp))"
   ]
  },
  {
   "cell_type": "code",
   "execution_count": null,
   "metadata": {
    "collapsed": true
   },
   "outputs": [],
   "source": [
    "\n",
    "for i in range(10, 11):\n",
    "    print(i)\n",
    "    y_pred = svm_model[i].predict(X_test[i])\n",
    "    mape_res = round(mape(y_test[i], y_pred),2)\n",
    "    print('Model: svm range - {}, measure: mape, score: {}'.format(i+1, mape_res))\n",
    "    me_res = round(me(y_test[i], y_pred),2)\n",
    "    print('Model: svm range - {}, measure: me, score: {}'.format(i+1, me_res))"
   ]
  },
  {
   "cell_type": "code",
   "execution_count": null,
   "metadata": {
    "collapsed": true
   },
   "outputs": [],
   "source": [
    "y_pred_final = svm_model[10].predict(full[X_cols])\n",
    "svm_pred_df = pd.DataFrame({'predicted_svm':y_pred_final})\n",
    "svm_pred_df.head()\n",
    "res_final_after_svm = res_final_after_dt.join(svm_pred_df)\n",
    "res_final_after_svm.head()"
   ]
  },
  {
   "cell_type": "markdown",
   "metadata": {},
   "source": [
    "## random forest"
   ]
  },
  {
   "cell_type": "code",
   "execution_count": 85,
   "metadata": {},
   "outputs": [
    {
     "name": "stdout",
     "output_type": "stream",
     "text": [
      "10\n",
      "Best score: -19162.5108003998\n",
      "Best parameters: {'min_samples_leaf': 3, 'min_samples_split': 7, 'random_state': 6}\n"
     ]
    }
   ],
   "source": [
    "warnings.filterwarnings('ignore')\n",
    "rf_tune_run = True\n",
    "rf_parameters = [0,0,0,0,0,0,0,0,0,0]\n",
    "\n",
    "for i in range(10, 11):\n",
    "    print(i)\n",
    "    defaut = {'criterion': 'mse', 'max_depth': None, 'max_leaf_nodes': None,\n",
    "                      'min_impurity_split': 0.005, 'min_weight_fraction_leaf': 0.0}\n",
    "    rf_parameters.append(defaut)\n",
    "    if rf_tune_run:\n",
    "        parameter_grid = {\n",
    "    #          'max_features':range(0,1,1),\n",
    "            'random_state':range(0,10,1),\n",
    "            'min_samples_leaf':range(1,10,1),\n",
    "            'min_samples_split': range(2, 20, 1)\n",
    "        }\n",
    "\n",
    "        forest = RandomForestRegressor(criterion='mse', max_depth=None,\n",
    "                                    max_leaf_nodes=None,\n",
    "                                    min_impurity_split=0.005, min_weight_fraction_leaf=0.0)\n",
    "\n",
    "        grid_search = GridSearchCV(forest,\n",
    "                                   scoring='mean_squared_error',\n",
    "                                   param_grid=parameter_grid,\n",
    "                                   cv=5)\n",
    "\n",
    "        grid_search.fit(X[i], y[i])\n",
    "        SVCModel = grid_search\n",
    "        parameters = grid_search.best_params_\n",
    "        rf_parameters[i]['random_state'] = grid_search.best_params_['random_state']\n",
    "        rf_parameters[i]['min_samples_leaf'] = grid_search.best_params_['min_samples_leaf']\n",
    "        rf_parameters[i]['min_samples_split'] = grid_search.best_params_['min_samples_split']\n",
    "\n",
    "        print('Best score: {}'.format(grid_search.best_score_))\n",
    "        print('Best parameters: {}'.format(grid_search.best_params_))"
   ]
  },
  {
   "cell_type": "code",
   "execution_count": 86,
   "metadata": {},
   "outputs": [
    {
     "name": "stdout",
     "output_type": "stream",
     "text": [
      "10\n",
      "Model: rf range - 11, measure: mae, score: 109.24\n",
      "Model: rf range - 11 measure: mse, score: 19162.51\n",
      "Model: rf range - 11 measure: rmse, score: 138.43\n"
     ]
    }
   ],
   "source": [
    "warnings.filterwarnings('ignore')\n",
    "score_measure_list = ['neg_mean_absolute_error', 'neg_mean_squared_error']\n",
    "rf_model = [0,0,0,0,0,0,0,0,0,0]\n",
    "\n",
    "for i in range(10, 11):\n",
    "    tmp_model = RandomForestRegressor(**rf_parameters[i])\n",
    "    tmp_model.fit(X_train[i], y_train[i])\n",
    "    rf_model.append(tmp_model)\n",
    "\n",
    "for i in range(10, 11):\n",
    "    print(i)\n",
    "    for score_measure in score_measure_list:\n",
    "        res = compute_score(rf_model[i], X[i], y[i], scoring = score_measure)\n",
    "        res = round(res, 2) * -1\n",
    "        if score_measure == 'neg_mean_absolute_error':\n",
    "            print('Model: rf range - {}, measure: mae, score: {}'.format(i+1, res))\n",
    "        elif score_measure == 'neg_mean_squared_error':\n",
    "            print('Model: rf range - {} measure: mse, score: {}'.format(i+1, res))\n",
    "            tmp = round(res ** 0.5, 2)\n",
    "            print('Model: rf range - {} measure: rmse, score: {}'.format(i+1, tmp))"
   ]
  },
  {
   "cell_type": "code",
   "execution_count": null,
   "metadata": {
    "collapsed": true
   },
   "outputs": [],
   "source": [
    "for i in range(10, 11):\n",
    "    print(i)\n",
    "    y_pred = rf_model[i].predict(X_test[i])\n",
    "    mape_res = round(mape(y_test[i], y_pred),2)\n",
    "    print('Model: rf range - {}, measure: mape, score: {}'.format(i+1, mape_res))\n",
    "    me_res = round(me(y_test[i], y_pred),2)\n",
    "    print('Model: rf range - {}, measure: me, score: {}'.format(i+1, me_res))"
   ]
  },
  {
   "cell_type": "code",
   "execution_count": null,
   "metadata": {
    "collapsed": true
   },
   "outputs": [],
   "source": [
    "y_pred_final = rf_model[10].predict(full[X_cols])\n",
    "rf_pred_df = pd.DataFrame({'predicted_rf':y_pred_final})\n",
    "rf_pred_df.head()"
   ]
  },
  {
   "cell_type": "code",
   "execution_count": null,
   "metadata": {
    "collapsed": true
   },
   "outputs": [],
   "source": [
    "res_final_after_rf = res_final_after_svm.join(rf_pred_df)\n",
    "res_final_after_rf.head()"
   ]
  },
  {
   "cell_type": "markdown",
   "metadata": {},
   "source": [
    "## xgboost"
   ]
  },
  {
   "cell_type": "code",
   "execution_count": 87,
   "metadata": {},
   "outputs": [
    {
     "name": "stdout",
     "output_type": "stream",
     "text": [
      "10\n",
      "Best score: -16939.6473070051\n",
      "Best parameters: {'colsample_bytree': 0.7, 'gamma': 0.3, 'max_depth': 4, 'min_child_weight': 5, 'subsample': 1.0}\n"
     ]
    }
   ],
   "source": [
    "from xgboost import XGBRegressor\n",
    "warnings.filterwarnings('ignore')\n",
    "\n",
    "xgb_tune_run = True\n",
    "xgb_parameters = [0,0,0,0,0,0,0,0,0,0]\n",
    "\n",
    "for i in range(10, 11):\n",
    "    print(i)\n",
    "    defaut = {'subsample': 0.8, 'colsample_bytree': 1.0, 'max_depth': 2, 'gamma': 0.3, 'min_child_weight': 4}\n",
    "    xgb_parameters.append(defaut)\n",
    "    if xgb_tune_run:\n",
    "        parameter_grid = {\n",
    "                    'min_child_weight':[4,5], 'gamma':[i/10.0 for i in range(3,6)], \n",
    "                    'subsample':[i/10.0 for i in range(6,11)],\n",
    "                    'colsample_bytree':[i/10.0 for i in range(6,11)], 'max_depth': [2,3,4]\n",
    "        }\n",
    "\n",
    "        forest = XGBRegressor(nthread=-1)\n",
    "\n",
    "        grid_search = GridSearchCV(forest,\n",
    "                                   scoring='mean_squared_error',\n",
    "                                   param_grid=parameter_grid,\n",
    "                                   cv=5)\n",
    "\n",
    "        grid_search.fit(X[i], y[i])\n",
    "        SVCModel = grid_search\n",
    "        parameters = grid_search.best_params_\n",
    "        xgb_parameters[i]['min_child_weight'] = grid_search.best_params_['min_child_weight']\n",
    "        xgb_parameters[i]['gamma'] = grid_search.best_params_['gamma']\n",
    "        xgb_parameters[i]['subsample'] = grid_search.best_params_['subsample']\n",
    "        xgb_parameters[i]['colsample_bytree'] = grid_search.best_params_['colsample_bytree']\n",
    "        xgb_parameters[i]['max_depth'] = grid_search.best_params_['max_depth']\n",
    "        \n",
    "        print('Best score: {}'.format(grid_search.best_score_))\n",
    "        print('Best parameters: {}'.format(grid_search.best_params_))"
   ]
  },
  {
   "cell_type": "code",
   "execution_count": 88,
   "metadata": {},
   "outputs": [
    {
     "name": "stdout",
     "output_type": "stream",
     "text": [
      "10\n",
      "Model: xbg range - 11, measure: mae, score: 101.73\n",
      "Model: xbg range - 11 measure: mse, score: 16939.65\n",
      "Model: xbg range - 11 measure: rmse, score: 130.15\n"
     ]
    }
   ],
   "source": [
    "warnings.filterwarnings('ignore')\n",
    "score_measure_list = ['neg_mean_absolute_error', 'neg_mean_squared_error']\n",
    "xgb_model = [0,0,0,0,0,0,0,0,0,0]\n",
    "\n",
    "for i in range(10, 11):\n",
    "    tmp_model = XGBRegressor(**xgb_parameters[i])\n",
    "    tmp_model.fit(X_train[i], y_train[i])\n",
    "    xgb_model.append(tmp_model)\n",
    "\n",
    "for i in range(10, 11):\n",
    "    print(i)\n",
    "    for score_measure in score_measure_list:\n",
    "        res = compute_score(xgb_model[i], X[i], y[i], scoring = score_measure)\n",
    "        res = round(res, 2) * -1\n",
    "        if score_measure == 'neg_mean_absolute_error':\n",
    "            print('Model: xbg range - {}, measure: mae, score: {}'.format(i+1, res))\n",
    "        elif score_measure == 'neg_mean_squared_error':\n",
    "            print('Model: xbg range - {} measure: mse, score: {}'.format(i+1, res))\n",
    "            tmp = round(res ** 0.5, 2)\n",
    "            print('Model: xbg range - {} measure: rmse, score: {}'.format(i+1, tmp))"
   ]
  },
  {
   "cell_type": "code",
   "execution_count": null,
   "metadata": {
    "collapsed": true
   },
   "outputs": [],
   "source": [
    "for i in range(10, 11):\n",
    "    print(i)\n",
    "    y_pred = xgb_model[i].predict(X_test[i])\n",
    "    mape_res = round(mape(y_test[i], y_pred),2)\n",
    "    print('Model: xgb range - {}, measure: mape, score: {}'.format(i+1, mape_res))\n",
    "    me_res = round(me(y_test[i], y_pred),2)\n",
    "    print('Model: xgb range - {}, measure: me, score: {}'.format(i+1, me_res))"
   ]
  },
  {
   "cell_type": "code",
   "execution_count": null,
   "metadata": {
    "collapsed": true
   },
   "outputs": [],
   "source": [
    "y_pred_final = xgb_model[10].predict(full[X_cols])\n",
    "xgb_pred_df = pd.DataFrame({'predicted_xgb':y_pred_final})\n",
    "xgb_pred_df.head()"
   ]
  },
  {
   "cell_type": "code",
   "execution_count": null,
   "metadata": {
    "collapsed": true
   },
   "outputs": [],
   "source": [
    "res_final_after_xgb = res_final_after_rf.join(xgb_pred_df)\n",
    "res_final_after_xgb.head()"
   ]
  },
  {
   "cell_type": "markdown",
   "metadata": {},
   "source": [
    "## LinearRegression"
   ]
  },
  {
   "cell_type": "code",
   "execution_count": 89,
   "metadata": {},
   "outputs": [
    {
     "name": "stdout",
     "output_type": "stream",
     "text": [
      "10\n",
      "Best score: -27374.059733393035\n",
      "Best parameters: {'copy_X': True, 'normalize': False}\n"
     ]
    }
   ],
   "source": [
    "from sklearn.linear_model import LinearRegression\n",
    "warnings.filterwarnings('ignore')\n",
    "\n",
    "lr_tune_run = True\n",
    "lr_parameters = [0,0,0,0,0,0,0,0,0,0]\n",
    "\n",
    "for i in range(10, 11):\n",
    "    print(i)\n",
    "    lr_parameters.append({})\n",
    "    if lr_tune_run:\n",
    "        parameter_grid = {\n",
    "             'copy_X': [True, False],\n",
    "             'normalize': [True, False]\n",
    "         }\n",
    "\n",
    "        forest = LinearRegression()\n",
    "\n",
    "        grid_search = GridSearchCV(forest,\n",
    "                                   scoring='mean_squared_error',\n",
    "                                   param_grid=parameter_grid,\n",
    "                                   cv=5)\n",
    "\n",
    "        grid_search.fit(X[i], y[i])\n",
    "        parameters = grid_search.best_params_\n",
    "        lr_parameters[i]['copy_X'] = grid_search.best_params_['copy_X']\n",
    "        lr_parameters[i]['normalize'] = grid_search.best_params_['normalize']\n",
    "        \n",
    "        print('Best score: {}'.format(grid_search.best_score_))\n",
    "        print('Best parameters: {}'.format(grid_search.best_params_))"
   ]
  },
  {
   "cell_type": "code",
   "execution_count": 90,
   "metadata": {},
   "outputs": [
    {
     "name": "stdout",
     "output_type": "stream",
     "text": [
      "10\n",
      "Model: lr range - 11, measure: mae, score: 126.94\n",
      "Model: lr range - 11 measure: mse, score: 27374.06\n",
      "Model: lr range - 11 measure: rmse, score: 165.45\n"
     ]
    }
   ],
   "source": [
    "warnings.filterwarnings('ignore')\n",
    "score_measure_list = ['neg_mean_absolute_error', 'neg_mean_squared_error']\n",
    "lr_model = [0,0,0,0,0,0,0,0,0,0]\n",
    "\n",
    "for i in range(10, 11):\n",
    "    tmp_model = LinearRegression(**lr_parameters[i])\n",
    "    tmp_model.fit(X_train[i], y_train[i])\n",
    "    lr_model.append(tmp_model)\n",
    "\n",
    "for i in range(10, 11):\n",
    "    print(i)\n",
    "    for score_measure in score_measure_list:\n",
    "        res = compute_score(lr_model[i], X[i], y[i], scoring = score_measure)\n",
    "        res = round(res, 2) * -1\n",
    "        if score_measure == 'neg_mean_absolute_error':\n",
    "            print('Model: lr range - {}, measure: mae, score: {}'.format(i+1, res))\n",
    "        elif score_measure == 'neg_mean_squared_error':\n",
    "            print('Model: lr range - {} measure: mse, score: {}'.format(i+1, res))\n",
    "            tmp = round(res ** 0.5, 2)\n",
    "            print('Model: lr range - {} measure: rmse, score: {}'.format(i+1, tmp))"
   ]
  },
  {
   "cell_type": "code",
   "execution_count": null,
   "metadata": {
    "collapsed": true
   },
   "outputs": [],
   "source": [
    "for i in range(10, 11):\n",
    "    print(i)\n",
    "    y_pred = lr_model[i].predict(X_test[i])\n",
    "    mape_res = round(mape(y_test[i], y_pred),2)\n",
    "    print('Model: lr range - {}, measure: mape, score: {}'.format(i+1, mape_res))\n",
    "    me_res = round(me(y_test[i], y_pred),2)\n",
    "    print('Model: lr range - {}, measure: me, score: {}'.format(i+1, me_res))"
   ]
  },
  {
   "cell_type": "code",
   "execution_count": null,
   "metadata": {
    "collapsed": true
   },
   "outputs": [],
   "source": [
    "y_pred_final = lr_model[10].predict(full[X_cols])\n",
    "lr_pred_df = pd.DataFrame({'predicted_lr':y_pred_final})\n",
    "lr_pred_df.head()"
   ]
  },
  {
   "cell_type": "code",
   "execution_count": null,
   "metadata": {
    "collapsed": true
   },
   "outputs": [],
   "source": [
    "res_final_after_lr = res_final_after_xgb.join(lr_pred_df)\n",
    "res_final_after_lr.head()"
   ]
  },
  {
   "cell_type": "code",
   "execution_count": null,
   "metadata": {
    "collapsed": true
   },
   "outputs": [],
   "source": [
    "res_final_after_lr.to_csv('res_final_pred3.csv')"
   ]
  },
  {
   "cell_type": "code",
   "execution_count": null,
   "metadata": {
    "collapsed": true
   },
   "outputs": [],
   "source": []
  }
 ],
 "metadata": {
  "kernelspec": {
   "display_name": "Python 3",
   "language": "python",
   "name": "python3"
  },
  "language_info": {
   "codemirror_mode": {
    "name": "ipython",
    "version": 3
   },
   "file_extension": ".py",
   "mimetype": "text/x-python",
   "name": "python",
   "nbconvert_exporter": "python",
   "pygments_lexer": "ipython3",
   "version": "3.6.3"
  }
 },
 "nbformat": 4,
 "nbformat_minor": 2
}

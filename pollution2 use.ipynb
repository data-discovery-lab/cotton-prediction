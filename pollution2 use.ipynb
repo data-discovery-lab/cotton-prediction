{
 "cells": [
  {
   "cell_type": "code",
   "execution_count": 1,
   "metadata": {
    "collapsed": true
   },
   "outputs": [],
   "source": [
    "import pandas as pd\n",
    "%matplotlib inline\n",
    "import matplotlib.pyplot as plt\n",
    "import seaborn as sns\n",
    "import warnings\n",
    "warnings.filterwarnings('ignore')\n",
    "import numpy as np\n",
    "\n",
    "\n",
    "from sklearn.svm import SVR\n",
    "from sklearn.tree import DecisionTreeRegressor\n",
    "from sklearn.ensemble import RandomForestRegressor\n",
    "from sklearn.model_selection import train_test_split, StratifiedKFold\n",
    "from sklearn.model_selection import GridSearchCV, cross_val_score\n",
    "\n",
    "from sklearn.metrics import roc_curve, auc\n",
    "from sklearn.preprocessing import label_binarize\n",
    "from sklearn.multiclass import OneVsRestClassifier\n",
    "import matplotlib.pyplot as plt\n",
    "import scikitplot as skplt\n",
    "\n",
    "def compute_score(clf, X, y, scoring='mean_squared_error'):\n",
    "    xval = cross_val_score(clf, X, y, cv = 5, scoring=scoring)\n",
    "    return np.mean(xval)"
   ]
  },
  {
   "cell_type": "code",
   "execution_count": 2,
   "metadata": {},
   "outputs": [
    {
     "data": {
      "text/plain": [
       "pollution    float32\n",
       "dew          float32\n",
       "temp         float32\n",
       "press        float32\n",
       "wnd_dir      float32\n",
       "wnd_spd      float32\n",
       "snow         float32\n",
       "rain         float32\n",
       "dtype: object"
      ]
     },
     "execution_count": 2,
     "metadata": {},
     "output_type": "execute_result"
    }
   ],
   "source": [
    "# df = pd.read_csv('cotton.csv')\n",
    "df = pd.read_csv('pollution2.csv')\n",
    "df['wnd_dir'] = df['wnd_dir'].astype('category')\n",
    "df[\"wnd_dir\"] = df[\"wnd_dir\"].cat.codes\n",
    "df = df.astype('float32')\n",
    "df.dtypes"
   ]
  },
  {
   "cell_type": "code",
   "execution_count": 3,
   "metadata": {},
   "outputs": [
    {
     "data": {
      "text/html": [
       "<div>\n",
       "<style>\n",
       "    .dataframe thead tr:only-child th {\n",
       "        text-align: right;\n",
       "    }\n",
       "\n",
       "    .dataframe thead th {\n",
       "        text-align: left;\n",
       "    }\n",
       "\n",
       "    .dataframe tbody tr th {\n",
       "        vertical-align: top;\n",
       "    }\n",
       "</style>\n",
       "<table border=\"1\" class=\"dataframe\">\n",
       "  <thead>\n",
       "    <tr style=\"text-align: right;\">\n",
       "      <th></th>\n",
       "      <th>pollution</th>\n",
       "      <th>dew</th>\n",
       "      <th>temp</th>\n",
       "      <th>press</th>\n",
       "      <th>wnd_dir</th>\n",
       "      <th>wnd_spd</th>\n",
       "      <th>snow</th>\n",
       "      <th>rain</th>\n",
       "    </tr>\n",
       "  </thead>\n",
       "  <tbody>\n",
       "    <tr>\n",
       "      <th>0</th>\n",
       "      <td>129.0</td>\n",
       "      <td>-16.0</td>\n",
       "      <td>-4.0</td>\n",
       "      <td>1020.0</td>\n",
       "      <td>2.0</td>\n",
       "      <td>1.79</td>\n",
       "      <td>0.0</td>\n",
       "      <td>0.0</td>\n",
       "    </tr>\n",
       "    <tr>\n",
       "      <th>1</th>\n",
       "      <td>148.0</td>\n",
       "      <td>-15.0</td>\n",
       "      <td>-4.0</td>\n",
       "      <td>1020.0</td>\n",
       "      <td>2.0</td>\n",
       "      <td>2.68</td>\n",
       "      <td>0.0</td>\n",
       "      <td>0.0</td>\n",
       "    </tr>\n",
       "    <tr>\n",
       "      <th>2</th>\n",
       "      <td>159.0</td>\n",
       "      <td>-11.0</td>\n",
       "      <td>-5.0</td>\n",
       "      <td>1021.0</td>\n",
       "      <td>2.0</td>\n",
       "      <td>3.57</td>\n",
       "      <td>0.0</td>\n",
       "      <td>0.0</td>\n",
       "    </tr>\n",
       "    <tr>\n",
       "      <th>3</th>\n",
       "      <td>181.0</td>\n",
       "      <td>-7.0</td>\n",
       "      <td>-5.0</td>\n",
       "      <td>1022.0</td>\n",
       "      <td>2.0</td>\n",
       "      <td>5.36</td>\n",
       "      <td>1.0</td>\n",
       "      <td>0.0</td>\n",
       "    </tr>\n",
       "    <tr>\n",
       "      <th>4</th>\n",
       "      <td>138.0</td>\n",
       "      <td>-7.0</td>\n",
       "      <td>-5.0</td>\n",
       "      <td>1022.0</td>\n",
       "      <td>2.0</td>\n",
       "      <td>6.25</td>\n",
       "      <td>2.0</td>\n",
       "      <td>0.0</td>\n",
       "    </tr>\n",
       "  </tbody>\n",
       "</table>\n",
       "</div>"
      ],
      "text/plain": [
       "   pollution   dew  temp   press  wnd_dir  wnd_spd  snow  rain\n",
       "0      129.0 -16.0  -4.0  1020.0      2.0     1.79   0.0   0.0\n",
       "1      148.0 -15.0  -4.0  1020.0      2.0     2.68   0.0   0.0\n",
       "2      159.0 -11.0  -5.0  1021.0      2.0     3.57   0.0   0.0\n",
       "3      181.0  -7.0  -5.0  1022.0      2.0     5.36   1.0   0.0\n",
       "4      138.0  -7.0  -5.0  1022.0      2.0     6.25   2.0   0.0"
      ]
     },
     "execution_count": 3,
     "metadata": {},
     "output_type": "execute_result"
    }
   ],
   "source": [
    "df.head()"
   ]
  },
  {
   "cell_type": "code",
   "execution_count": 4,
   "metadata": {
    "collapsed": true
   },
   "outputs": [],
   "source": [
    "# df_X = df.loc[:, df.columns != 'AVGYLD']\n",
    "# df_y = df['AVGYLD']\n",
    "df_X = df.loc[:, df.columns != 'pollution']\n",
    "df_y = df['pollution']"
   ]
  },
  {
   "cell_type": "code",
   "execution_count": 5,
   "metadata": {
    "collapsed": true
   },
   "outputs": [],
   "source": [
    "df_X_train, df_X_test, df_y_train, df_y_test = train_test_split(df_X, df_y, test_size=.2, random_state=0)"
   ]
  },
  {
   "cell_type": "markdown",
   "metadata": {},
   "source": [
    "# LinearRegression"
   ]
  },
  {
   "cell_type": "code",
   "execution_count": 6,
   "metadata": {},
   "outputs": [],
   "source": [
    "from sklearn.linear_model import LinearRegression\n",
    "warnings.filterwarnings('ignore')\n",
    "\n",
    "run_gs = False\n",
    "\n",
    "if run_gs:\n",
    "    \n",
    "    parameter_grid = {\n",
    "         'copy_X': [True, False],\n",
    "         'normalize': [True, False]\n",
    "     }\n",
    "\n",
    "    forest = LinearRegression()\n",
    "\n",
    "    grid_search = GridSearchCV(forest,\n",
    "                               scoring='mean_squared_error',\n",
    "                               param_grid=parameter_grid,\n",
    "                               cv=5)\n",
    "\n",
    "    LogitModel = grid_search.fit(df_X_train, df_y_train)\n",
    "    parameters = grid_search.best_params_\n",
    "\n",
    "    print('Best score: {}'.format(grid_search.best_score_))\n",
    "    print('Tuned Logistic Regression Parameters: {}'.format(grid_search.best_params_))"
   ]
  },
  {
   "cell_type": "code",
   "execution_count": 7,
   "metadata": {},
   "outputs": [
    {
     "data": {
      "text/plain": [
       "LinearRegression(copy_X=True, fit_intercept=True, n_jobs=1, normalize=True)"
      ]
     },
     "execution_count": 7,
     "metadata": {},
     "output_type": "execute_result"
    }
   ],
   "source": [
    "score_measure_list = ['neg_mean_absolute_error', 'neg_mean_squared_error']\n",
    "\n",
    "lr_parameters = {'copy_X': True, 'normalize': True}\n",
    "lr_Model = LinearRegression(**lr_parameters)\n",
    "\n",
    "lr_Model.fit(df_X_train, df_y_train)"
   ]
  },
  {
   "cell_type": "code",
   "execution_count": 8,
   "metadata": {},
   "outputs": [
    {
     "name": "stdout",
     "output_type": "stream",
     "text": [
      "Model: lr, measure: mae, score: 58.99\n",
      "Model: lr measure: mse, score: 6679.85\n",
      "Model: lr measure: rmse, score: 81.73\n"
     ]
    }
   ],
   "source": [
    "for score_measure in score_measure_list:\n",
    "    res = compute_score(lr_Model, df_X, df_y, scoring = score_measure)\n",
    "    res = round(res, 2) * -1\n",
    "    if score_measure == 'neg_mean_absolute_error':\n",
    "        print('Model: lr, measure: mae, score: {}'.format(res))\n",
    "    elif score_measure == 'neg_mean_squared_error':\n",
    "        print('Model: lr measure: mse, score: {}'.format(res))\n",
    "        tmp = round(res ** 0.5, 2)\n",
    "        print('Model: lr measure: rmse, score: {}'.format(tmp))"
   ]
  },
  {
   "cell_type": "markdown",
   "metadata": {},
   "source": [
    "# RandomForest"
   ]
  },
  {
   "cell_type": "code",
   "execution_count": 9,
   "metadata": {},
   "outputs": [],
   "source": [
    "warnings.filterwarnings('ignore')\n",
    "\n",
    "dt_tune_run = False\n",
    "\n",
    "if dt_tune_run:\n",
    "    parameter_grid = {\n",
    "#          'max_features':range(0,1,1),\n",
    "        'random_state':range(0,10,1),\n",
    "        'min_samples_leaf':range(1,10,1),\n",
    "        'min_samples_split': range(2, 20, 1)\n",
    "    }\n",
    "    forest = RandomForestRegressor(criterion='mse', max_depth=None,\n",
    "                                    max_leaf_nodes=None,\n",
    "                                    min_impurity_split=0.005, min_weight_fraction_leaf=0.0)\n",
    "\n",
    "    grid_search = GridSearchCV(forest,\n",
    "                               scoring='mean_squared_error',\n",
    "                               param_grid=parameter_grid,\n",
    "                               cv=5)\n",
    "\n",
    "    grid_search.fit(df_X_train, df_y_train)\n",
    "    DecisionTreeModel = grid_search\n",
    "    parameters = grid_search.best_params_\n",
    "\n",
    "    print('Best score: {}'.format(grid_search.best_score_))\n",
    "    print('Best parameters: {}'.format(grid_search.best_params_))"
   ]
  },
  {
   "cell_type": "code",
   "execution_count": 10,
   "metadata": {},
   "outputs": [
    {
     "data": {
      "text/plain": [
       "RandomForestRegressor(bootstrap=True, criterion='mse', max_depth=None,\n",
       "           max_features='auto', max_leaf_nodes=None,\n",
       "           min_impurity_decrease=0.0, min_impurity_split=None,\n",
       "           min_samples_leaf=4, min_samples_split=19,\n",
       "           min_weight_fraction_leaf=0.0, n_estimators=10, n_jobs=1,\n",
       "           oob_score=False, random_state=0, verbose=0, warm_start=False)"
      ]
     },
     "execution_count": 10,
     "metadata": {},
     "output_type": "execute_result"
    }
   ],
   "source": [
    "rfr_parameters = {'min_samples_leaf': 4, 'min_samples_split': 19, 'random_state': 0}\n",
    "rfr_Model = RandomForestRegressor(**rfr_parameters)\n",
    "rfr_Model.fit(df_X_train, df_y_train)"
   ]
  },
  {
   "cell_type": "code",
   "execution_count": 11,
   "metadata": {},
   "outputs": [
    {
     "name": "stdout",
     "output_type": "stream",
     "text": [
      "Model: rfr, measure: mae, score: 55.21\n",
      "Model: rfr measure: mse, score: 6448.74\n",
      "Model: rfr measure: rmse, score: 80.3\n"
     ]
    }
   ],
   "source": [
    "for score_measure in score_measure_list:\n",
    "    res = compute_score(rfr_Model, df_X, df_y, scoring = score_measure)\n",
    "    res = round(res, 2) * -1\n",
    "    if score_measure == 'neg_mean_absolute_error':\n",
    "        print('Model: rfr, measure: mae, score: {}'.format(res))\n",
    "    elif score_measure == 'neg_mean_squared_error':\n",
    "        print('Model: rfr measure: mse, score: {}'.format(res))\n",
    "        tmp = round(res ** 0.5, 2)\n",
    "        print('Model: rfr measure: rmse, score: {}'.format(tmp))"
   ]
  },
  {
   "cell_type": "markdown",
   "metadata": {},
   "source": [
    "# decision tree"
   ]
  },
  {
   "cell_type": "code",
   "execution_count": 12,
   "metadata": {},
   "outputs": [],
   "source": [
    "warnings.filterwarnings('ignore')\n",
    "\n",
    "dt_tune_run = False\n",
    "\n",
    "if dt_tune_run:\n",
    "    parameter_grid = {\n",
    "#          'max_features':range(0,1,1),\n",
    "        'random_state':range(0,10,1),\n",
    "        'min_samples_leaf':range(1,10,1),\n",
    "        'min_samples_split': range(2, 20, 1)\n",
    "    }\n",
    "    forest = DecisionTreeRegressor(criterion='mse', max_depth=None,\n",
    "                                    max_leaf_nodes=None,\n",
    "                                    min_impurity_split=0.005, min_weight_fraction_leaf=0.0,\n",
    "                                    presort=False, splitter='random')\n",
    "\n",
    "    grid_search = GridSearchCV(forest,\n",
    "                               scoring='mean_squared_error',\n",
    "                               param_grid=parameter_grid,\n",
    "                               cv=5)\n",
    "\n",
    "    grid_search.fit(df_X_train, df_y_train)\n",
    "    DecisionTreeModel = grid_search\n",
    "    parameters = grid_search.best_params_\n",
    "\n",
    "    print('Best score: {}'.format(grid_search.best_score_))\n",
    "    print('Best parameters: {}'.format(grid_search.best_params_))"
   ]
  },
  {
   "cell_type": "code",
   "execution_count": 13,
   "metadata": {},
   "outputs": [
    {
     "data": {
      "text/plain": [
       "RandomForestRegressor(bootstrap=True, criterion='mse', max_depth=None,\n",
       "           max_features='auto', max_leaf_nodes=None,\n",
       "           min_impurity_decrease=0.0, min_impurity_split=None,\n",
       "           min_samples_leaf=8, min_samples_split=17,\n",
       "           min_weight_fraction_leaf=0.0, n_estimators=10, n_jobs=1,\n",
       "           oob_score=False, random_state=9, verbose=0, warm_start=False)"
      ]
     },
     "execution_count": 13,
     "metadata": {},
     "output_type": "execute_result"
    }
   ],
   "source": [
    "dt_parameters = {'min_samples_leaf': 8, 'min_samples_split': 17, 'random_state': 9}\n",
    "dt_Model = RandomForestRegressor(**dt_parameters)\n",
    "dt_Model.fit(df_X_train, df_y_train)"
   ]
  },
  {
   "cell_type": "code",
   "execution_count": 14,
   "metadata": {},
   "outputs": [
    {
     "name": "stdout",
     "output_type": "stream",
     "text": [
      "Model: dt, measure: mae, score: 54.73\n",
      "Model: dt measure: mse, score: 6373.44\n",
      "Model: dt measure: rmse, score: 79.83\n"
     ]
    }
   ],
   "source": [
    "for score_measure in score_measure_list:\n",
    "    res = compute_score(dt_Model, df_X, df_y, scoring = score_measure)\n",
    "    res = round(res, 2) * -1\n",
    "    if score_measure == 'neg_mean_absolute_error':\n",
    "        print('Model: dt, measure: mae, score: {}'.format(res))\n",
    "    elif score_measure == 'neg_mean_squared_error':\n",
    "        print('Model: dt measure: mse, score: {}'.format(res))\n",
    "        tmp = round(res ** 0.5, 2)\n",
    "        print('Model: dt measure: rmse, score: {}'.format(tmp))"
   ]
  },
  {
   "cell_type": "markdown",
   "metadata": {},
   "source": [
    "# SVM"
   ]
  },
  {
   "cell_type": "code",
   "execution_count": 15,
   "metadata": {},
   "outputs": [],
   "source": [
    "warnings.filterwarnings('ignore')\n",
    "\n",
    "svm_tune_run = False\n",
    "\n",
    "if svm_tune_run:\n",
    "    parameter_grid = {\n",
    "         'C': [0.001, 0.01, 0.1, 1, 10, 100, 1000],\n",
    "         'gamma' : [0.001, 0.01, 0.1, 1]\n",
    "     }\n",
    "\n",
    "    forest = SVR(cache_size=200, coef0=0.0,\n",
    "              degree=3, kernel='rbf', max_iter=-1, shrinking=True, tol=0.001, verbose=False)\n",
    "\n",
    "    grid_search = GridSearchCV(forest,\n",
    "                               scoring='mean_squared_error',\n",
    "                               param_grid=parameter_grid,\n",
    "                               cv=5)\n",
    "\n",
    "    grid_search.fit(df_X_train, df_y_train)\n",
    "    SVCModel = grid_search\n",
    "    parameters = grid_search.best_params_\n",
    "\n",
    "    print('Best score: {}'.format(grid_search.best_score_))\n",
    "    print('Best parameters: {}'.format(grid_search.best_params_))"
   ]
  },
  {
   "cell_type": "code",
   "execution_count": 16,
   "metadata": {},
   "outputs": [
    {
     "data": {
      "text/plain": [
       "SVR(C=1000, cache_size=200, coef0=0.0, degree=3, epsilon=0.1, gamma=0.01,\n",
       "  kernel='rbf', max_iter=-1, shrinking=True, tol=0.001, verbose=False)"
      ]
     },
     "execution_count": 16,
     "metadata": {},
     "output_type": "execute_result"
    }
   ],
   "source": [
    "svm_parameters = {'C': 1000, 'gamma': 0.01}\n",
    "svm_Model = SVR(**svm_parameters)\n",
    "svm_Model.fit(df_X_train, df_y_train)"
   ]
  },
  {
   "cell_type": "code",
   "execution_count": 17,
   "metadata": {},
   "outputs": [
    {
     "name": "stdout",
     "output_type": "stream",
     "text": [
      "Model: dt, measure: mae, score: 54.68\n",
      "Model: dt measure: mse, score: 6580.01\n",
      "Model: dt measure: rmse, score: 81.12\n"
     ]
    }
   ],
   "source": [
    "for score_measure in score_measure_list:\n",
    "    res = compute_score(svm_Model, df_X, df_y, scoring = score_measure)\n",
    "    res = round(res, 2) * -1\n",
    "    if score_measure == 'neg_mean_absolute_error':\n",
    "        print('Model: dt, measure: mae, score: {}'.format(res))\n",
    "    elif score_measure == 'neg_mean_squared_error':\n",
    "        print('Model: dt measure: mse, score: {}'.format(res))\n",
    "        tmp = round(res ** 0.5, 2)\n",
    "        print('Model: dt measure: rmse, score: {}'.format(tmp))"
   ]
  },
  {
   "cell_type": "markdown",
   "metadata": {},
   "source": [
    "# xgboot"
   ]
  },
  {
   "cell_type": "code",
   "execution_count": 18,
   "metadata": {},
   "outputs": [],
   "source": [
    "from xgboost import XGBRegressor\n",
    "warnings.filterwarnings('ignore')\n",
    "\n",
    "dt_tune_run = False\n",
    "\n",
    "if dt_tune_run:\n",
    "    parameter_grid = {\n",
    "                'min_child_weight':[4,5], 'gamma':[i/10.0 for i in range(3,6)], \n",
    "                'subsample':[i/10.0 for i in range(6,11)],\n",
    "                'colsample_bytree':[i/10.0 for i in range(6,11)], 'max_depth': [2,3,4]\n",
    "    }\n",
    "    forest = XGBRegressor(nthread=-1)\n",
    "\n",
    "    grid_search = GridSearchCV(forest,\n",
    "                               scoring='mean_squared_error',\n",
    "                               param_grid=parameter_grid,\n",
    "                               cv=5)\n",
    "\n",
    "    grid_search.fit(df_X_train, df_y_train)\n",
    "    DecisionTreeModel = grid_search\n",
    "    parameters = grid_search.best_params_\n",
    "\n",
    "    print('Best score: {}'.format(grid_search.best_score_))\n",
    "    print('Best parameters: {}'.format(grid_search.best_params_))"
   ]
  },
  {
   "cell_type": "code",
   "execution_count": 19,
   "metadata": {},
   "outputs": [
    {
     "data": {
      "text/plain": [
       "XGBRegressor(base_score=0.5, booster='gbtree', colsample_bylevel=1,\n",
       "       colsample_bytree=1.0, gamma=0.3, learning_rate=0.1,\n",
       "       max_delta_step=0, max_depth=4, min_child_weight=4, missing=None,\n",
       "       n_estimators=100, n_jobs=1, nthread=None, objective='reg:linear',\n",
       "       random_state=0, reg_alpha=0, reg_lambda=1, scale_pos_weight=1,\n",
       "       seed=None, silent=True, subsample=0.6)"
      ]
     },
     "execution_count": 19,
     "metadata": {},
     "output_type": "execute_result"
    }
   ],
   "source": [
    "xgb_parameters = {'colsample_bytree': 1.0, 'gamma': 0.3, 'max_depth': 4, 'min_child_weight': 4, 'subsample': 0.6}\n",
    "xgb_Model = XGBRegressor(**xgb_parameters)\n",
    "xgb_Model.fit(df_X_train, df_y_train)"
   ]
  },
  {
   "cell_type": "code",
   "execution_count": 20,
   "metadata": {},
   "outputs": [
    {
     "name": "stdout",
     "output_type": "stream",
     "text": [
      "Model: dt, measure: mae, score: 52.99\n",
      "Model: dt measure: mse, score: 5867.25\n",
      "Model: dt measure: rmse, score: 76.6\n"
     ]
    }
   ],
   "source": [
    "for score_measure in score_measure_list:\n",
    "    res = compute_score(xgb_Model, df_X, df_y, scoring = score_measure)\n",
    "    res = round(res, 2) * -1\n",
    "    if score_measure == 'neg_mean_absolute_error':\n",
    "        print('Model: dt, measure: mae, score: {}'.format(res))\n",
    "    elif score_measure == 'neg_mean_squared_error':\n",
    "        print('Model: dt measure: mse, score: {}'.format(res))\n",
    "        tmp = round(res ** 0.5, 2)\n",
    "        print('Model: dt measure: rmse, score: {}'.format(tmp))"
   ]
  },
  {
   "cell_type": "code",
   "execution_count": null,
   "metadata": {
    "collapsed": true
   },
   "outputs": [],
   "source": []
  }
 ],
 "metadata": {
  "kernelspec": {
   "display_name": "Python 3",
   "language": "python",
   "name": "python3"
  },
  "language_info": {
   "codemirror_mode": {
    "name": "ipython",
    "version": 3
   },
   "file_extension": ".py",
   "mimetype": "text/x-python",
   "name": "python",
   "nbconvert_exporter": "python",
   "pygments_lexer": "ipython3",
   "version": "3.6.3"
  }
 },
 "nbformat": 4,
 "nbformat_minor": 2
}

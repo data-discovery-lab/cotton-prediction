{
 "cells": [
  {
   "cell_type": "code",
   "execution_count": 31,
   "metadata": {},
   "outputs": [],
   "source": [
    "import pandas as pd\n",
    "%matplotlib inline\n",
    "import matplotlib.pyplot as plt\n",
    "import seaborn as sns\n",
    "import warnings\n",
    "warnings.filterwarnings('ignore')\n",
    "import numpy as np"
   ]
  },
  {
   "cell_type": "code",
   "execution_count": 2,
   "metadata": {},
   "outputs": [],
   "source": [
    "df = pd.read_table('Data_28_F29.txt', delimiter=',')"
   ]
  },
  {
   "cell_type": "code",
   "execution_count": 3,
   "metadata": {},
   "outputs": [
    {
     "data": {
      "text/html": [
       "<div>\n",
       "<style scoped>\n",
       "    .dataframe tbody tr th:only-of-type {\n",
       "        vertical-align: middle;\n",
       "    }\n",
       "\n",
       "    .dataframe tbody tr th {\n",
       "        vertical-align: top;\n",
       "    }\n",
       "\n",
       "    .dataframe thead th {\n",
       "        text-align: right;\n",
       "    }\n",
       "</style>\n",
       "<table border=\"1\" class=\"dataframe\">\n",
       "  <thead>\n",
       "    <tr style=\"text-align: right;\">\n",
       "      <th></th>\n",
       "      <th>FID</th>\n",
       "      <th>ID</th>\n",
       "      <th>FIELD</th>\n",
       "      <th>OID_1</th>\n",
       "      <th>YLD00</th>\n",
       "      <th>YLD01</th>\n",
       "      <th>YLD02</th>\n",
       "      <th>YLD03</th>\n",
       "      <th>AVGYLD</th>\n",
       "      <th>ELE</th>\n",
       "      <th>...</th>\n",
       "      <th>M3_00</th>\n",
       "      <th>M3_01</th>\n",
       "      <th>M3_02</th>\n",
       "      <th>M3_03</th>\n",
       "      <th>M3_AV</th>\n",
       "      <th>CL_AV</th>\n",
       "      <th>CL_00</th>\n",
       "      <th>CL_01</th>\n",
       "      <th>CL_02</th>\n",
       "      <th>CL_03</th>\n",
       "    </tr>\n",
       "  </thead>\n",
       "  <tbody>\n",
       "    <tr>\n",
       "      <th>0</th>\n",
       "      <td>0</td>\n",
       "      <td>3018</td>\n",
       "      <td>C29</td>\n",
       "      <td>3017</td>\n",
       "      <td>1012.799988</td>\n",
       "      <td>1201.900024</td>\n",
       "      <td>943.599976</td>\n",
       "      <td>1082</td>\n",
       "      <td>1060.099976</td>\n",
       "      <td>1080.06</td>\n",
       "      <td>...</td>\n",
       "      <td>3.0</td>\n",
       "      <td>3.0</td>\n",
       "      <td>2.0</td>\n",
       "      <td>3.0</td>\n",
       "      <td>3.0</td>\n",
       "      <td>1.0</td>\n",
       "      <td>1.0</td>\n",
       "      <td>1.0</td>\n",
       "      <td>1.0</td>\n",
       "      <td>3.0</td>\n",
       "    </tr>\n",
       "    <tr>\n",
       "      <th>1</th>\n",
       "      <td>1</td>\n",
       "      <td>3019</td>\n",
       "      <td>C29</td>\n",
       "      <td>3018</td>\n",
       "      <td>930.000000</td>\n",
       "      <td>1352.000000</td>\n",
       "      <td>1033.099976</td>\n",
       "      <td>1202</td>\n",
       "      <td>1129.199951</td>\n",
       "      <td>1080.08</td>\n",
       "      <td>...</td>\n",
       "      <td>3.0</td>\n",
       "      <td>3.0</td>\n",
       "      <td>2.0</td>\n",
       "      <td>2.0</td>\n",
       "      <td>2.0</td>\n",
       "      <td>1.0</td>\n",
       "      <td>1.0</td>\n",
       "      <td>1.0</td>\n",
       "      <td>1.0</td>\n",
       "      <td>3.0</td>\n",
       "    </tr>\n",
       "    <tr>\n",
       "      <th>2</th>\n",
       "      <td>2</td>\n",
       "      <td>3020</td>\n",
       "      <td>C29</td>\n",
       "      <td>3019</td>\n",
       "      <td>902.000000</td>\n",
       "      <td>1389.400024</td>\n",
       "      <td>1073.699951</td>\n",
       "      <td>1196</td>\n",
       "      <td>1140.300049</td>\n",
       "      <td>1080.10</td>\n",
       "      <td>...</td>\n",
       "      <td>3.0</td>\n",
       "      <td>3.0</td>\n",
       "      <td>2.0</td>\n",
       "      <td>2.0</td>\n",
       "      <td>2.0</td>\n",
       "      <td>1.0</td>\n",
       "      <td>1.0</td>\n",
       "      <td>1.0</td>\n",
       "      <td>1.0</td>\n",
       "      <td>3.0</td>\n",
       "    </tr>\n",
       "    <tr>\n",
       "      <th>3</th>\n",
       "      <td>3</td>\n",
       "      <td>3021</td>\n",
       "      <td>C29</td>\n",
       "      <td>3020</td>\n",
       "      <td>931.900024</td>\n",
       "      <td>1348.099976</td>\n",
       "      <td>1042.400024</td>\n",
       "      <td>1120</td>\n",
       "      <td>1110.599976</td>\n",
       "      <td>1080.13</td>\n",
       "      <td>...</td>\n",
       "      <td>2.0</td>\n",
       "      <td>3.0</td>\n",
       "      <td>2.0</td>\n",
       "      <td>2.0</td>\n",
       "      <td>2.0</td>\n",
       "      <td>1.0</td>\n",
       "      <td>1.0</td>\n",
       "      <td>1.0</td>\n",
       "      <td>1.0</td>\n",
       "      <td>2.0</td>\n",
       "    </tr>\n",
       "    <tr>\n",
       "      <th>4</th>\n",
       "      <td>4</td>\n",
       "      <td>3022</td>\n",
       "      <td>C29</td>\n",
       "      <td>3021</td>\n",
       "      <td>885.000000</td>\n",
       "      <td>1301.199951</td>\n",
       "      <td>978.400024</td>\n",
       "      <td>1119</td>\n",
       "      <td>1070.800049</td>\n",
       "      <td>1080.18</td>\n",
       "      <td>...</td>\n",
       "      <td>2.0</td>\n",
       "      <td>2.0</td>\n",
       "      <td>2.0</td>\n",
       "      <td>2.0</td>\n",
       "      <td>2.0</td>\n",
       "      <td>1.0</td>\n",
       "      <td>2.0</td>\n",
       "      <td>1.0</td>\n",
       "      <td>1.0</td>\n",
       "      <td>2.0</td>\n",
       "    </tr>\n",
       "  </tbody>\n",
       "</table>\n",
       "<p>5 rows × 65 columns</p>\n",
       "</div>"
      ],
      "text/plain": [
       "   FID    ID FIELD  OID_1        YLD00        YLD01        YLD02  YLD03  \\\n",
       "0    0  3018   C29   3017  1012.799988  1201.900024   943.599976   1082   \n",
       "1    1  3019   C29   3018   930.000000  1352.000000  1033.099976   1202   \n",
       "2    2  3020   C29   3019   902.000000  1389.400024  1073.699951   1196   \n",
       "3    3  3021   C29   3020   931.900024  1348.099976  1042.400024   1120   \n",
       "4    4  3022   C29   3021   885.000000  1301.199951   978.400024   1119   \n",
       "\n",
       "        AVGYLD      ELE  ...    M3_00  M3_01  M3_02  M3_03  M3_AV  CL_AV  \\\n",
       "0  1060.099976  1080.06  ...      3.0    3.0    2.0    3.0    3.0    1.0   \n",
       "1  1129.199951  1080.08  ...      3.0    3.0    2.0    2.0    2.0    1.0   \n",
       "2  1140.300049  1080.10  ...      3.0    3.0    2.0    2.0    2.0    1.0   \n",
       "3  1110.599976  1080.13  ...      2.0    3.0    2.0    2.0    2.0    1.0   \n",
       "4  1070.800049  1080.18  ...      2.0    2.0    2.0    2.0    2.0    1.0   \n",
       "\n",
       "   CL_00  CL_01  CL_02  CL_03  \n",
       "0    1.0    1.0    1.0    3.0  \n",
       "1    1.0    1.0    1.0    3.0  \n",
       "2    1.0    1.0    1.0    3.0  \n",
       "3    1.0    1.0    1.0    2.0  \n",
       "4    2.0    1.0    1.0    2.0  \n",
       "\n",
       "[5 rows x 65 columns]"
      ]
     },
     "execution_count": 3,
     "metadata": {},
     "output_type": "execute_result"
    }
   ],
   "source": [
    "df.head()"
   ]
  },
  {
   "cell_type": "code",
   "execution_count": 74,
   "metadata": {},
   "outputs": [],
   "source": [
    "columns = ['FID', 'ID','FIELD','YLD00','YLD01','YLD02','YLD03','AVGYLD','ELE','SLOPE','CURV',\n",
    "           'PRO','PLAN','EC_SH','EC_DP','BAND1','BAND2','BAND3','BAND4','VI00_520','VI00_528',\n",
    "           'VI00_613','VI00_707','VI00_715','VI00_723','VI00_816','VI00_824','VI00_901','VI00_917',\n",
    "           'VI01_616','VI01_624','VI01_710','VI01_827','VI01_912','VI02_518','VI02_526','VI02_619',\n",
    "           'VI02_713','VI02_721','VI02_830','VI02_907','VI02_923','VI03_505','VI03_529','VI03_606',\n",
    "           'VI03_622','VI03_724','VI03_825','VI03_926']\n",
    "ndvi_cols = ['VI00_520','VI00_528',\n",
    "           'VI00_613','VI00_707','VI00_715','VI00_723','VI00_816','VI00_824','VI00_901','VI00_917',\n",
    "           'VI01_616','VI01_624','VI01_710','VI01_827','VI01_912','VI02_518','VI02_526','VI02_619',\n",
    "           'VI02_713','VI02_721','VI02_830','VI02_907','VI02_923','VI03_505','VI03_529','VI03_606',\n",
    "           'VI03_622','VI03_724','VI03_825','VI03_926']\n",
    "band_cols = ['BAND1','BAND2','BAND3','BAND4']\n",
    "yld_cols = ['YLD00','YLD01','YLD02','YLD03','AVGYLD']"
   ]
  },
  {
   "cell_type": "code",
   "execution_count": 5,
   "metadata": {},
   "outputs": [
    {
     "data": {
      "text/html": [
       "<div>\n",
       "<style scoped>\n",
       "    .dataframe tbody tr th:only-of-type {\n",
       "        vertical-align: middle;\n",
       "    }\n",
       "\n",
       "    .dataframe tbody tr th {\n",
       "        vertical-align: top;\n",
       "    }\n",
       "\n",
       "    .dataframe thead th {\n",
       "        text-align: right;\n",
       "    }\n",
       "</style>\n",
       "<table border=\"1\" class=\"dataframe\">\n",
       "  <thead>\n",
       "    <tr style=\"text-align: right;\">\n",
       "      <th></th>\n",
       "      <th>FID</th>\n",
       "      <th>ID</th>\n",
       "      <th>YLD00</th>\n",
       "      <th>YLD01</th>\n",
       "      <th>YLD02</th>\n",
       "      <th>YLD03</th>\n",
       "      <th>AVGYLD</th>\n",
       "      <th>ELE</th>\n",
       "      <th>SLOPE</th>\n",
       "      <th>CURV</th>\n",
       "      <th>...</th>\n",
       "      <th>VI02_830</th>\n",
       "      <th>VI02_907</th>\n",
       "      <th>VI02_923</th>\n",
       "      <th>VI03_505</th>\n",
       "      <th>VI03_529</th>\n",
       "      <th>VI03_606</th>\n",
       "      <th>VI03_622</th>\n",
       "      <th>VI03_724</th>\n",
       "      <th>VI03_825</th>\n",
       "      <th>VI03_926</th>\n",
       "    </tr>\n",
       "  </thead>\n",
       "  <tbody>\n",
       "    <tr>\n",
       "      <th>count</th>\n",
       "      <td>975.000000</td>\n",
       "      <td>975.000000</td>\n",
       "      <td>975.000000</td>\n",
       "      <td>975.000000</td>\n",
       "      <td>975.000000</td>\n",
       "      <td>975.000000</td>\n",
       "      <td>975.000000</td>\n",
       "      <td>975.000000</td>\n",
       "      <td>975.000000</td>\n",
       "      <td>975.000000</td>\n",
       "      <td>...</td>\n",
       "      <td>975.000000</td>\n",
       "      <td>975.000000</td>\n",
       "      <td>975.000000</td>\n",
       "      <td>975.000000</td>\n",
       "      <td>975.000000</td>\n",
       "      <td>975.000000</td>\n",
       "      <td>975.000000</td>\n",
       "      <td>975.000000</td>\n",
       "      <td>975.000000</td>\n",
       "      <td>975.000000</td>\n",
       "    </tr>\n",
       "    <tr>\n",
       "      <th>mean</th>\n",
       "      <td>487.000000</td>\n",
       "      <td>2857.542564</td>\n",
       "      <td>907.885437</td>\n",
       "      <td>1253.264923</td>\n",
       "      <td>943.772410</td>\n",
       "      <td>930.962051</td>\n",
       "      <td>1008.962668</td>\n",
       "      <td>1080.427949</td>\n",
       "      <td>0.246383</td>\n",
       "      <td>0.000196</td>\n",
       "      <td>...</td>\n",
       "      <td>0.320109</td>\n",
       "      <td>0.214965</td>\n",
       "      <td>0.016917</td>\n",
       "      <td>-0.097203</td>\n",
       "      <td>-0.232391</td>\n",
       "      <td>-0.180239</td>\n",
       "      <td>-0.181062</td>\n",
       "      <td>-0.050577</td>\n",
       "      <td>0.093044</td>\n",
       "      <td>0.075182</td>\n",
       "    </tr>\n",
       "    <tr>\n",
       "      <th>std</th>\n",
       "      <td>281.602557</td>\n",
       "      <td>792.151212</td>\n",
       "      <td>213.261213</td>\n",
       "      <td>218.544305</td>\n",
       "      <td>246.310259</td>\n",
       "      <td>233.437893</td>\n",
       "      <td>186.826414</td>\n",
       "      <td>0.537060</td>\n",
       "      <td>0.168585</td>\n",
       "      <td>0.015932</td>\n",
       "      <td>...</td>\n",
       "      <td>0.109565</td>\n",
       "      <td>0.098675</td>\n",
       "      <td>0.070082</td>\n",
       "      <td>0.064934</td>\n",
       "      <td>0.007854</td>\n",
       "      <td>0.013361</td>\n",
       "      <td>0.020833</td>\n",
       "      <td>0.067392</td>\n",
       "      <td>0.064712</td>\n",
       "      <td>0.092275</td>\n",
       "    </tr>\n",
       "    <tr>\n",
       "      <th>min</th>\n",
       "      <td>0.000000</td>\n",
       "      <td>1363.000000</td>\n",
       "      <td>272.899994</td>\n",
       "      <td>627.000000</td>\n",
       "      <td>209.399994</td>\n",
       "      <td>346.000000</td>\n",
       "      <td>372.399994</td>\n",
       "      <td>1079.050000</td>\n",
       "      <td>0.032900</td>\n",
       "      <td>-0.083774</td>\n",
       "      <td>...</td>\n",
       "      <td>-0.060870</td>\n",
       "      <td>-0.160000</td>\n",
       "      <td>-0.165354</td>\n",
       "      <td>-0.227273</td>\n",
       "      <td>-0.260000</td>\n",
       "      <td>-0.220779</td>\n",
       "      <td>-0.225532</td>\n",
       "      <td>-0.194915</td>\n",
       "      <td>-0.165644</td>\n",
       "      <td>-0.128440</td>\n",
       "    </tr>\n",
       "    <tr>\n",
       "      <th>25%</th>\n",
       "      <td>243.500000</td>\n",
       "      <td>2158.500000</td>\n",
       "      <td>780.500000</td>\n",
       "      <td>1118.100037</td>\n",
       "      <td>806.099976</td>\n",
       "      <td>775.000000</td>\n",
       "      <td>918.199982</td>\n",
       "      <td>1080.120000</td>\n",
       "      <td>0.129450</td>\n",
       "      <td>-0.006467</td>\n",
       "      <td>...</td>\n",
       "      <td>0.272233</td>\n",
       "      <td>0.151515</td>\n",
       "      <td>-0.035176</td>\n",
       "      <td>-0.148936</td>\n",
       "      <td>-0.237410</td>\n",
       "      <td>-0.189065</td>\n",
       "      <td>-0.194313</td>\n",
       "      <td>-0.112741</td>\n",
       "      <td>0.051282</td>\n",
       "      <td>0.005291</td>\n",
       "    </tr>\n",
       "    <tr>\n",
       "      <th>50%</th>\n",
       "      <td>487.000000</td>\n",
       "      <td>2959.000000</td>\n",
       "      <td>906.799988</td>\n",
       "      <td>1256.599976</td>\n",
       "      <td>991.000000</td>\n",
       "      <td>938.000000</td>\n",
       "      <td>1027.400024</td>\n",
       "      <td>1080.400000</td>\n",
       "      <td>0.199300</td>\n",
       "      <td>0.000334</td>\n",
       "      <td>...</td>\n",
       "      <td>0.340909</td>\n",
       "      <td>0.229885</td>\n",
       "      <td>0.016216</td>\n",
       "      <td>-0.089744</td>\n",
       "      <td>-0.232472</td>\n",
       "      <td>-0.179191</td>\n",
       "      <td>-0.183673</td>\n",
       "      <td>-0.032258</td>\n",
       "      <td>0.093333</td>\n",
       "      <td>0.071038</td>\n",
       "    </tr>\n",
       "    <tr>\n",
       "      <th>75%</th>\n",
       "      <td>730.500000</td>\n",
       "      <td>3546.500000</td>\n",
       "      <td>1061.599976</td>\n",
       "      <td>1389.100037</td>\n",
       "      <td>1115.400024</td>\n",
       "      <td>1087.000000</td>\n",
       "      <td>1139.600037</td>\n",
       "      <td>1080.760000</td>\n",
       "      <td>0.318300</td>\n",
       "      <td>0.007187</td>\n",
       "      <td>...</td>\n",
       "      <td>0.395604</td>\n",
       "      <td>0.285714</td>\n",
       "      <td>0.067416</td>\n",
       "      <td>-0.051414</td>\n",
       "      <td>-0.227273</td>\n",
       "      <td>-0.170984</td>\n",
       "      <td>-0.171053</td>\n",
       "      <td>0.005348</td>\n",
       "      <td>0.139959</td>\n",
       "      <td>0.144578</td>\n",
       "    </tr>\n",
       "    <tr>\n",
       "      <th>max</th>\n",
       "      <td>974.000000</td>\n",
       "      <td>4083.000000</td>\n",
       "      <td>1515.400024</td>\n",
       "      <td>1833.000000</td>\n",
       "      <td>1623.500000</td>\n",
       "      <td>1556.000000</td>\n",
       "      <td>1470.400024</td>\n",
       "      <td>1081.960000</td>\n",
       "      <td>1.499200</td>\n",
       "      <td>0.120556</td>\n",
       "      <td>...</td>\n",
       "      <td>0.497326</td>\n",
       "      <td>0.393939</td>\n",
       "      <td>0.181818</td>\n",
       "      <td>0.059603</td>\n",
       "      <td>-0.208511</td>\n",
       "      <td>-0.084337</td>\n",
       "      <td>-0.038835</td>\n",
       "      <td>0.071823</td>\n",
       "      <td>0.248322</td>\n",
       "      <td>0.309091</td>\n",
       "    </tr>\n",
       "  </tbody>\n",
       "</table>\n",
       "<p>8 rows × 48 columns</p>\n",
       "</div>"
      ],
      "text/plain": [
       "              FID           ID        YLD00        YLD01        YLD02  \\\n",
       "count  975.000000   975.000000   975.000000   975.000000   975.000000   \n",
       "mean   487.000000  2857.542564   907.885437  1253.264923   943.772410   \n",
       "std    281.602557   792.151212   213.261213   218.544305   246.310259   \n",
       "min      0.000000  1363.000000   272.899994   627.000000   209.399994   \n",
       "25%    243.500000  2158.500000   780.500000  1118.100037   806.099976   \n",
       "50%    487.000000  2959.000000   906.799988  1256.599976   991.000000   \n",
       "75%    730.500000  3546.500000  1061.599976  1389.100037  1115.400024   \n",
       "max    974.000000  4083.000000  1515.400024  1833.000000  1623.500000   \n",
       "\n",
       "             YLD03       AVGYLD          ELE       SLOPE        CURV  \\\n",
       "count   975.000000   975.000000   975.000000  975.000000  975.000000   \n",
       "mean    930.962051  1008.962668  1080.427949    0.246383    0.000196   \n",
       "std     233.437893   186.826414     0.537060    0.168585    0.015932   \n",
       "min     346.000000   372.399994  1079.050000    0.032900   -0.083774   \n",
       "25%     775.000000   918.199982  1080.120000    0.129450   -0.006467   \n",
       "50%     938.000000  1027.400024  1080.400000    0.199300    0.000334   \n",
       "75%    1087.000000  1139.600037  1080.760000    0.318300    0.007187   \n",
       "max    1556.000000  1470.400024  1081.960000    1.499200    0.120556   \n",
       "\n",
       "          ...        VI02_830    VI02_907    VI02_923    VI03_505    VI03_529  \\\n",
       "count     ...      975.000000  975.000000  975.000000  975.000000  975.000000   \n",
       "mean      ...        0.320109    0.214965    0.016917   -0.097203   -0.232391   \n",
       "std       ...        0.109565    0.098675    0.070082    0.064934    0.007854   \n",
       "min       ...       -0.060870   -0.160000   -0.165354   -0.227273   -0.260000   \n",
       "25%       ...        0.272233    0.151515   -0.035176   -0.148936   -0.237410   \n",
       "50%       ...        0.340909    0.229885    0.016216   -0.089744   -0.232472   \n",
       "75%       ...        0.395604    0.285714    0.067416   -0.051414   -0.227273   \n",
       "max       ...        0.497326    0.393939    0.181818    0.059603   -0.208511   \n",
       "\n",
       "         VI03_606    VI03_622    VI03_724    VI03_825    VI03_926  \n",
       "count  975.000000  975.000000  975.000000  975.000000  975.000000  \n",
       "mean    -0.180239   -0.181062   -0.050577    0.093044    0.075182  \n",
       "std      0.013361    0.020833    0.067392    0.064712    0.092275  \n",
       "min     -0.220779   -0.225532   -0.194915   -0.165644   -0.128440  \n",
       "25%     -0.189065   -0.194313   -0.112741    0.051282    0.005291  \n",
       "50%     -0.179191   -0.183673   -0.032258    0.093333    0.071038  \n",
       "75%     -0.170984   -0.171053    0.005348    0.139959    0.144578  \n",
       "max     -0.084337   -0.038835    0.071823    0.248322    0.309091  \n",
       "\n",
       "[8 rows x 48 columns]"
      ]
     },
     "execution_count": 5,
     "metadata": {},
     "output_type": "execute_result"
    }
   ],
   "source": [
    "df[columns].describe()"
   ]
  },
  {
   "cell_type": "code",
   "execution_count": 161,
   "metadata": {},
   "outputs": [],
   "source": [
    "whole_df = df[columns]"
   ]
  },
  {
   "cell_type": "code",
   "execution_count": 6,
   "metadata": {},
   "outputs": [
    {
     "data": {
      "text/plain": [
       "array(['C29', 'C28'], dtype=object)"
      ]
     },
     "execution_count": 6,
     "metadata": {},
     "output_type": "execute_result"
    }
   ],
   "source": [
    "df['FIELD'].unique()"
   ]
  },
  {
   "cell_type": "code",
   "execution_count": 7,
   "metadata": {},
   "outputs": [
    {
     "data": {
      "text/plain": [
       "975"
      ]
     },
     "execution_count": 7,
     "metadata": {},
     "output_type": "execute_result"
    }
   ],
   "source": [
    "len(df)"
   ]
  },
  {
   "cell_type": "code",
   "execution_count": 8,
   "metadata": {},
   "outputs": [],
   "source": [
    "ndvi = df[ndvi_cols]"
   ]
  },
  {
   "cell_type": "code",
   "execution_count": 9,
   "metadata": {},
   "outputs": [],
   "source": [
    "ndvi_stack = ndvi.stack()"
   ]
  },
  {
   "cell_type": "code",
   "execution_count": 10,
   "metadata": {},
   "outputs": [],
   "source": [
    "ndvi_stack_df = pd.DataFrame(ndvi_stack).reset_index()"
   ]
  },
  {
   "cell_type": "code",
   "execution_count": 11,
   "metadata": {},
   "outputs": [],
   "source": [
    "ndvi_stack_df.rename(columns = {'level_0': 'FID', 'level_1': 'time', 0: 'NDVI'}, inplace=True)"
   ]
  },
  {
   "cell_type": "code",
   "execution_count": 12,
   "metadata": {},
   "outputs": [
    {
     "data": {
      "text/html": [
       "<div>\n",
       "<style scoped>\n",
       "    .dataframe tbody tr th:only-of-type {\n",
       "        vertical-align: middle;\n",
       "    }\n",
       "\n",
       "    .dataframe tbody tr th {\n",
       "        vertical-align: top;\n",
       "    }\n",
       "\n",
       "    .dataframe thead th {\n",
       "        text-align: right;\n",
       "    }\n",
       "</style>\n",
       "<table border=\"1\" class=\"dataframe\">\n",
       "  <thead>\n",
       "    <tr style=\"text-align: right;\">\n",
       "      <th></th>\n",
       "      <th>FID</th>\n",
       "      <th>time</th>\n",
       "      <th>NDVI</th>\n",
       "    </tr>\n",
       "  </thead>\n",
       "  <tbody>\n",
       "    <tr>\n",
       "      <th>0</th>\n",
       "      <td>0</td>\n",
       "      <td>VI00_520</td>\n",
       "      <td>-0.2174</td>\n",
       "    </tr>\n",
       "    <tr>\n",
       "      <th>1</th>\n",
       "      <td>0</td>\n",
       "      <td>VI00_528</td>\n",
       "      <td>-0.1848</td>\n",
       "    </tr>\n",
       "    <tr>\n",
       "      <th>2</th>\n",
       "      <td>0</td>\n",
       "      <td>VI00_613</td>\n",
       "      <td>-0.1341</td>\n",
       "    </tr>\n",
       "    <tr>\n",
       "      <th>3</th>\n",
       "      <td>0</td>\n",
       "      <td>VI00_707</td>\n",
       "      <td>0.1712</td>\n",
       "    </tr>\n",
       "    <tr>\n",
       "      <th>4</th>\n",
       "      <td>0</td>\n",
       "      <td>VI00_715</td>\n",
       "      <td>0.2242</td>\n",
       "    </tr>\n",
       "  </tbody>\n",
       "</table>\n",
       "</div>"
      ],
      "text/plain": [
       "   FID      time    NDVI\n",
       "0    0  VI00_520 -0.2174\n",
       "1    0  VI00_528 -0.1848\n",
       "2    0  VI00_613 -0.1341\n",
       "3    0  VI00_707  0.1712\n",
       "4    0  VI00_715  0.2242"
      ]
     },
     "execution_count": 12,
     "metadata": {},
     "output_type": "execute_result"
    }
   ],
   "source": [
    "ndvi_stack_df.head()"
   ]
  },
  {
   "cell_type": "code",
   "execution_count": 13,
   "metadata": {},
   "outputs": [],
   "source": [
    "ndvi_final = pd.merge(ndvi_stack_df, df[['FID', 'FIELD']], on='FID', how='left')"
   ]
  },
  {
   "cell_type": "code",
   "execution_count": 14,
   "metadata": {},
   "outputs": [
    {
     "data": {
      "text/html": [
       "<div>\n",
       "<style scoped>\n",
       "    .dataframe tbody tr th:only-of-type {\n",
       "        vertical-align: middle;\n",
       "    }\n",
       "\n",
       "    .dataframe tbody tr th {\n",
       "        vertical-align: top;\n",
       "    }\n",
       "\n",
       "    .dataframe thead th {\n",
       "        text-align: right;\n",
       "    }\n",
       "</style>\n",
       "<table border=\"1\" class=\"dataframe\">\n",
       "  <thead>\n",
       "    <tr style=\"text-align: right;\">\n",
       "      <th></th>\n",
       "      <th>FID</th>\n",
       "      <th>time</th>\n",
       "      <th>NDVI</th>\n",
       "      <th>FIELD</th>\n",
       "    </tr>\n",
       "  </thead>\n",
       "  <tbody>\n",
       "    <tr>\n",
       "      <th>0</th>\n",
       "      <td>0</td>\n",
       "      <td>VI00_520</td>\n",
       "      <td>-0.2174</td>\n",
       "      <td>C29</td>\n",
       "    </tr>\n",
       "    <tr>\n",
       "      <th>1</th>\n",
       "      <td>0</td>\n",
       "      <td>VI00_528</td>\n",
       "      <td>-0.1848</td>\n",
       "      <td>C29</td>\n",
       "    </tr>\n",
       "    <tr>\n",
       "      <th>2</th>\n",
       "      <td>0</td>\n",
       "      <td>VI00_613</td>\n",
       "      <td>-0.1341</td>\n",
       "      <td>C29</td>\n",
       "    </tr>\n",
       "    <tr>\n",
       "      <th>3</th>\n",
       "      <td>0</td>\n",
       "      <td>VI00_707</td>\n",
       "      <td>0.1712</td>\n",
       "      <td>C29</td>\n",
       "    </tr>\n",
       "    <tr>\n",
       "      <th>4</th>\n",
       "      <td>0</td>\n",
       "      <td>VI00_715</td>\n",
       "      <td>0.2242</td>\n",
       "      <td>C29</td>\n",
       "    </tr>\n",
       "  </tbody>\n",
       "</table>\n",
       "</div>"
      ],
      "text/plain": [
       "   FID      time    NDVI FIELD\n",
       "0    0  VI00_520 -0.2174   C29\n",
       "1    0  VI00_528 -0.1848   C29\n",
       "2    0  VI00_613 -0.1341   C29\n",
       "3    0  VI00_707  0.1712   C29\n",
       "4    0  VI00_715  0.2242   C29"
      ]
     },
     "execution_count": 14,
     "metadata": {},
     "output_type": "execute_result"
    }
   ],
   "source": [
    "ndvi_final.head()"
   ]
  },
  {
   "cell_type": "code",
   "execution_count": 15,
   "metadata": {},
   "outputs": [],
   "source": [
    "def time_convert(r):\n",
    "    year, month_day = r.split('_')\n",
    "    year = '20' + year[2:]\n",
    "    month_day = month_day if len(month_day) == 4 else '0' + month_day\n",
    "    month_day = month_day[:2] + '-' + month_day[2:]\n",
    "    return pd.to_datetime(year + '-' + month_day)"
   ]
  },
  {
   "cell_type": "code",
   "execution_count": 16,
   "metadata": {},
   "outputs": [],
   "source": [
    "ndvi_final['time'] = ndvi_final['time'].apply(time_convert)"
   ]
  },
  {
   "cell_type": "code",
   "execution_count": 75,
   "metadata": {},
   "outputs": [],
   "source": [
    "ndvi_final['year'] = ndvi_final['time'].apply(lambda r: str(r.year))\n",
    "ndvi_final['month'] = ndvi_final['time'].apply(lambda r: str(r.month))\n",
    "ndvi_final['day'] = ndvi_final['time'].apply(lambda r: str(r.day))"
   ]
  },
  {
   "cell_type": "code",
   "execution_count": 76,
   "metadata": {},
   "outputs": [
    {
     "data": {
      "text/html": [
       "<div>\n",
       "<style scoped>\n",
       "    .dataframe tbody tr th:only-of-type {\n",
       "        vertical-align: middle;\n",
       "    }\n",
       "\n",
       "    .dataframe tbody tr th {\n",
       "        vertical-align: top;\n",
       "    }\n",
       "\n",
       "    .dataframe thead th {\n",
       "        text-align: right;\n",
       "    }\n",
       "</style>\n",
       "<table border=\"1\" class=\"dataframe\">\n",
       "  <thead>\n",
       "    <tr style=\"text-align: right;\">\n",
       "      <th></th>\n",
       "      <th>FID</th>\n",
       "      <th>time</th>\n",
       "      <th>NDVI</th>\n",
       "      <th>FIELD</th>\n",
       "      <th>year</th>\n",
       "      <th>month</th>\n",
       "      <th>day</th>\n",
       "    </tr>\n",
       "  </thead>\n",
       "  <tbody>\n",
       "    <tr>\n",
       "      <th>0</th>\n",
       "      <td>0</td>\n",
       "      <td>2000-05-20</td>\n",
       "      <td>-0.2174</td>\n",
       "      <td>C29</td>\n",
       "      <td>2000</td>\n",
       "      <td>5</td>\n",
       "      <td>20</td>\n",
       "    </tr>\n",
       "    <tr>\n",
       "      <th>1</th>\n",
       "      <td>0</td>\n",
       "      <td>2000-05-28</td>\n",
       "      <td>-0.1848</td>\n",
       "      <td>C29</td>\n",
       "      <td>2000</td>\n",
       "      <td>5</td>\n",
       "      <td>28</td>\n",
       "    </tr>\n",
       "    <tr>\n",
       "      <th>2</th>\n",
       "      <td>0</td>\n",
       "      <td>2000-06-13</td>\n",
       "      <td>-0.1341</td>\n",
       "      <td>C29</td>\n",
       "      <td>2000</td>\n",
       "      <td>6</td>\n",
       "      <td>13</td>\n",
       "    </tr>\n",
       "    <tr>\n",
       "      <th>3</th>\n",
       "      <td>0</td>\n",
       "      <td>2000-07-07</td>\n",
       "      <td>0.1712</td>\n",
       "      <td>C29</td>\n",
       "      <td>2000</td>\n",
       "      <td>7</td>\n",
       "      <td>7</td>\n",
       "    </tr>\n",
       "    <tr>\n",
       "      <th>4</th>\n",
       "      <td>0</td>\n",
       "      <td>2000-07-15</td>\n",
       "      <td>0.2242</td>\n",
       "      <td>C29</td>\n",
       "      <td>2000</td>\n",
       "      <td>7</td>\n",
       "      <td>15</td>\n",
       "    </tr>\n",
       "  </tbody>\n",
       "</table>\n",
       "</div>"
      ],
      "text/plain": [
       "   FID       time    NDVI FIELD  year month day\n",
       "0    0 2000-05-20 -0.2174   C29  2000     5  20\n",
       "1    0 2000-05-28 -0.1848   C29  2000     5  28\n",
       "2    0 2000-06-13 -0.1341   C29  2000     6  13\n",
       "3    0 2000-07-07  0.1712   C29  2000     7   7\n",
       "4    0 2000-07-15  0.2242   C29  2000     7  15"
      ]
     },
     "execution_count": 76,
     "metadata": {},
     "output_type": "execute_result"
    }
   ],
   "source": [
    "ndvi_final.head()"
   ]
  },
  {
   "cell_type": "code",
   "execution_count": 163,
   "metadata": {},
   "outputs": [
    {
     "data": {
      "text/plain": [
       "29250"
      ]
     },
     "execution_count": 163,
     "metadata": {},
     "output_type": "execute_result"
    }
   ],
   "source": [
    "len(ndvi_final)"
   ]
  },
  {
   "cell_type": "code",
   "execution_count": 103,
   "metadata": {},
   "outputs": [
    {
     "data": {
      "text/html": [
       "<div>\n",
       "<style scoped>\n",
       "    .dataframe tbody tr th:only-of-type {\n",
       "        vertical-align: middle;\n",
       "    }\n",
       "\n",
       "    .dataframe tbody tr th {\n",
       "        vertical-align: top;\n",
       "    }\n",
       "\n",
       "    .dataframe thead th {\n",
       "        text-align: right;\n",
       "    }\n",
       "</style>\n",
       "<table border=\"1\" class=\"dataframe\">\n",
       "  <thead>\n",
       "    <tr style=\"text-align: right;\">\n",
       "      <th></th>\n",
       "      <th>FIELD</th>\n",
       "      <th>year</th>\n",
       "      <th>month</th>\n",
       "      <th>NDVI</th>\n",
       "    </tr>\n",
       "  </thead>\n",
       "  <tbody>\n",
       "    <tr>\n",
       "      <th>0</th>\n",
       "      <td>C28</td>\n",
       "      <td>2000</td>\n",
       "      <td>5</td>\n",
       "      <td>-0.212915</td>\n",
       "    </tr>\n",
       "    <tr>\n",
       "      <th>1</th>\n",
       "      <td>C28</td>\n",
       "      <td>2000</td>\n",
       "      <td>6</td>\n",
       "      <td>-0.163994</td>\n",
       "    </tr>\n",
       "    <tr>\n",
       "      <th>2</th>\n",
       "      <td>C28</td>\n",
       "      <td>2000</td>\n",
       "      <td>7</td>\n",
       "      <td>0.147379</td>\n",
       "    </tr>\n",
       "    <tr>\n",
       "      <th>3</th>\n",
       "      <td>C28</td>\n",
       "      <td>2000</td>\n",
       "      <td>8</td>\n",
       "      <td>0.323388</td>\n",
       "    </tr>\n",
       "    <tr>\n",
       "      <th>4</th>\n",
       "      <td>C28</td>\n",
       "      <td>2000</td>\n",
       "      <td>9</td>\n",
       "      <td>0.137025</td>\n",
       "    </tr>\n",
       "  </tbody>\n",
       "</table>\n",
       "</div>"
      ],
      "text/plain": [
       "  FIELD  year month      NDVI\n",
       "0   C28  2000     5 -0.212915\n",
       "1   C28  2000     6 -0.163994\n",
       "2   C28  2000     7  0.147379\n",
       "3   C28  2000     8  0.323388\n",
       "4   C28  2000     9  0.137025"
      ]
     },
     "execution_count": 103,
     "metadata": {},
     "output_type": "execute_result"
    }
   ],
   "source": [
    "ndvi_final_by_month = ndvi_final.groupby(['FIELD', 'year', 'month']).NDVI.mean()\n",
    "ndvi_final_by_month_df = pd.DataFrame(ndvi_final_by_month).reset_index()\n",
    "# ndvi_final_by_month_df.loc[-1] = ['C28', '2000', '5', 0]\n",
    "# ndvi_final_by_month_df['month_day'] = ndvi_final_by_month_df['month']+'-'+ndvi_final_by_month_df['day']\n",
    "ndvi_final_by_month_df.head()\n"
   ]
  },
  {
   "cell_type": "code",
   "execution_count": 104,
   "metadata": {},
   "outputs": [
    {
     "data": {
      "text/plain": [
       "38"
      ]
     },
     "execution_count": 104,
     "metadata": {},
     "output_type": "execute_result"
    }
   ],
   "source": [
    "len(ndvi_final_by_month_df)"
   ]
  },
  {
   "cell_type": "code",
   "execution_count": 105,
   "metadata": {},
   "outputs": [
    {
     "data": {
      "text/plain": [
       "<matplotlib.axes._subplots.AxesSubplot at 0x2c7d4588>"
      ]
     },
     "execution_count": 105,
     "metadata": {},
     "output_type": "execute_result"
    },
    {
     "data": {
      "image/png": "[encoded data removed]",
      "text/plain": [
       "<Figure size 432x288 with 1 Axes>"
      ]
     },
     "metadata": {},
     "output_type": "display_data"
    }
   ],
   "source": [
    "sns.boxplot(x=\"NDVI\", y=\"FIELD\", data=ndvi_final_by_month_df,\n",
    "            whis=np.inf, palette=\"vlag\")\n",
    "sns.swarmplot(x=\"NDVI\", y=\"FIELD\", data=ndvi_final_by_month_df,\n",
    "              size=2, color=\".3\", linewidth=0)\n"
   ]
  },
  {
   "cell_type": "code",
   "execution_count": 158,
   "metadata": {},
   "outputs": [
    {
     "data": {
      "text/plain": [
       "<seaborn.axisgrid.FacetGrid at 0x5518e7f0>"
      ]
     },
     "execution_count": 158,
     "metadata": {},
     "output_type": "execute_result"
    },
    {
     "data": {
      "image/png": "[encoded data removed]",
      "text/plain": [
       "<Figure size 864x432 with 8 Axes>"
      ]
     },
     "metadata": {},
     "output_type": "display_data"
    }
   ],
   "source": [
    "g = sns.FacetGrid(ndvi_final_by_month_df, row=\"FIELD\", col=\"year\", hue='FIELD', palette=sns.color_palette(colors), margin_titles=True)\n",
    "# bins = np.linspace(0, 60, 13)\n",
    "g.map(plt.scatter, \"month\", 'NDVI')\n",
    "g.map(plt.plot, \"month\", 'NDVI')\n",
    "# g.set_xticklabels(rotation=45)"
   ]
  },
  {
   "cell_type": "code",
   "execution_count": 40,
   "metadata": {},
   "outputs": [],
   "source": [
    "ndvi_final_by_FID = ndvi_final.groupby(['FIELD']).NDVI.mean()\n",
    "ndvi_final_by_FID_df = pd.DataFrame(ndvi_final_by_FID).reset_index()"
   ]
  },
  {
   "cell_type": "code",
   "execution_count": 42,
   "metadata": {},
   "outputs": [
    {
     "data": {
      "text/html": [
       "<div>\n",
       "<style scoped>\n",
       "    .dataframe tbody tr th:only-of-type {\n",
       "        vertical-align: middle;\n",
       "    }\n",
       "\n",
       "    .dataframe tbody tr th {\n",
       "        vertical-align: top;\n",
       "    }\n",
       "\n",
       "    .dataframe thead th {\n",
       "        text-align: right;\n",
       "    }\n",
       "</style>\n",
       "<table border=\"1\" class=\"dataframe\">\n",
       "  <thead>\n",
       "    <tr style=\"text-align: right;\">\n",
       "      <th></th>\n",
       "      <th>FID</th>\n",
       "      <th>FIELD</th>\n",
       "      <th>NDVI</th>\n",
       "    </tr>\n",
       "  </thead>\n",
       "  <tbody>\n",
       "    <tr>\n",
       "      <th>0</th>\n",
       "      <td>0</td>\n",
       "      <td>C29</td>\n",
       "      <td>0.018889</td>\n",
       "    </tr>\n",
       "    <tr>\n",
       "      <th>1</th>\n",
       "      <td>1</td>\n",
       "      <td>C29</td>\n",
       "      <td>0.045019</td>\n",
       "    </tr>\n",
       "    <tr>\n",
       "      <th>2</th>\n",
       "      <td>2</td>\n",
       "      <td>C29</td>\n",
       "      <td>0.051234</td>\n",
       "    </tr>\n",
       "    <tr>\n",
       "      <th>3</th>\n",
       "      <td>3</td>\n",
       "      <td>C29</td>\n",
       "      <td>0.053147</td>\n",
       "    </tr>\n",
       "    <tr>\n",
       "      <th>4</th>\n",
       "      <td>4</td>\n",
       "      <td>C29</td>\n",
       "      <td>0.042650</td>\n",
       "    </tr>\n",
       "  </tbody>\n",
       "</table>\n",
       "</div>"
      ],
      "text/plain": [
       "   FID FIELD      NDVI\n",
       "0    0   C29  0.018889\n",
       "1    1   C29  0.045019\n",
       "2    2   C29  0.051234\n",
       "3    3   C29  0.053147\n",
       "4    4   C29  0.042650"
      ]
     },
     "execution_count": 42,
     "metadata": {},
     "output_type": "execute_result"
    }
   ],
   "source": [
    "ndvi_final_by_FID_df.head()"
   ]
  },
  {
   "cell_type": "code",
   "execution_count": 60,
   "metadata": {},
   "outputs": [
    {
     "data": {
      "text/html": [
       "<div>\n",
       "<style scoped>\n",
       "    .dataframe tbody tr th:only-of-type {\n",
       "        vertical-align: middle;\n",
       "    }\n",
       "\n",
       "    .dataframe tbody tr th {\n",
       "        vertical-align: top;\n",
       "    }\n",
       "\n",
       "    .dataframe thead th {\n",
       "        text-align: right;\n",
       "    }\n",
       "</style>\n",
       "<table border=\"1\" class=\"dataframe\">\n",
       "  <thead>\n",
       "    <tr style=\"text-align: right;\">\n",
       "      <th></th>\n",
       "      <th>BAND1</th>\n",
       "      <th>BAND2</th>\n",
       "      <th>BAND3</th>\n",
       "      <th>BAND4</th>\n",
       "    </tr>\n",
       "  </thead>\n",
       "  <tbody>\n",
       "    <tr>\n",
       "      <th>count</th>\n",
       "      <td>975.000000</td>\n",
       "      <td>975.000000</td>\n",
       "      <td>975.000000</td>\n",
       "      <td>975.000000</td>\n",
       "    </tr>\n",
       "    <tr>\n",
       "      <th>mean</th>\n",
       "      <td>94.360000</td>\n",
       "      <td>94.554872</td>\n",
       "      <td>136.832821</td>\n",
       "      <td>90.221538</td>\n",
       "    </tr>\n",
       "    <tr>\n",
       "      <th>std</th>\n",
       "      <td>10.357007</td>\n",
       "      <td>17.844377</td>\n",
       "      <td>37.275622</td>\n",
       "      <td>19.771595</td>\n",
       "    </tr>\n",
       "    <tr>\n",
       "      <th>min</th>\n",
       "      <td>78.000000</td>\n",
       "      <td>73.000000</td>\n",
       "      <td>83.000000</td>\n",
       "      <td>58.000000</td>\n",
       "    </tr>\n",
       "    <tr>\n",
       "      <th>25%</th>\n",
       "      <td>88.000000</td>\n",
       "      <td>84.000000</td>\n",
       "      <td>112.000000</td>\n",
       "      <td>76.000000</td>\n",
       "    </tr>\n",
       "    <tr>\n",
       "      <th>50%</th>\n",
       "      <td>92.000000</td>\n",
       "      <td>87.000000</td>\n",
       "      <td>125.000000</td>\n",
       "      <td>83.000000</td>\n",
       "    </tr>\n",
       "    <tr>\n",
       "      <th>75%</th>\n",
       "      <td>98.000000</td>\n",
       "      <td>99.000000</td>\n",
       "      <td>147.000000</td>\n",
       "      <td>96.000000</td>\n",
       "    </tr>\n",
       "    <tr>\n",
       "      <th>max</th>\n",
       "      <td>129.000000</td>\n",
       "      <td>156.000000</td>\n",
       "      <td>258.000000</td>\n",
       "      <td>153.000000</td>\n",
       "    </tr>\n",
       "  </tbody>\n",
       "</table>\n",
       "</div>"
      ],
      "text/plain": [
       "            BAND1       BAND2       BAND3       BAND4\n",
       "count  975.000000  975.000000  975.000000  975.000000\n",
       "mean    94.360000   94.554872  136.832821   90.221538\n",
       "std     10.357007   17.844377   37.275622   19.771595\n",
       "min     78.000000   73.000000   83.000000   58.000000\n",
       "25%     88.000000   84.000000  112.000000   76.000000\n",
       "50%     92.000000   87.000000  125.000000   83.000000\n",
       "75%     98.000000   99.000000  147.000000   96.000000\n",
       "max    129.000000  156.000000  258.000000  153.000000"
      ]
     },
     "execution_count": 60,
     "metadata": {},
     "output_type": "execute_result"
    }
   ],
   "source": [
    "band = df[band_cols]\n",
    "band.describe()"
   ]
  },
  {
   "cell_type": "code",
   "execution_count": 64,
   "metadata": {},
   "outputs": [
    {
     "data": {
      "text/html": [
       "<div>\n",
       "<style scoped>\n",
       "    .dataframe tbody tr th:only-of-type {\n",
       "        vertical-align: middle;\n",
       "    }\n",
       "\n",
       "    .dataframe tbody tr th {\n",
       "        vertical-align: top;\n",
       "    }\n",
       "\n",
       "    .dataframe thead th {\n",
       "        text-align: right;\n",
       "    }\n",
       "</style>\n",
       "<table border=\"1\" class=\"dataframe\">\n",
       "  <thead>\n",
       "    <tr style=\"text-align: right;\">\n",
       "      <th></th>\n",
       "      <th>level_0</th>\n",
       "      <th>level_1</th>\n",
       "      <th>0</th>\n",
       "    </tr>\n",
       "  </thead>\n",
       "  <tbody>\n",
       "    <tr>\n",
       "      <th>0</th>\n",
       "      <td>0</td>\n",
       "      <td>BAND1</td>\n",
       "      <td>96</td>\n",
       "    </tr>\n",
       "    <tr>\n",
       "      <th>1</th>\n",
       "      <td>0</td>\n",
       "      <td>BAND2</td>\n",
       "      <td>84</td>\n",
       "    </tr>\n",
       "    <tr>\n",
       "      <th>2</th>\n",
       "      <td>0</td>\n",
       "      <td>BAND3</td>\n",
       "      <td>123</td>\n",
       "    </tr>\n",
       "    <tr>\n",
       "      <th>3</th>\n",
       "      <td>0</td>\n",
       "      <td>BAND4</td>\n",
       "      <td>82</td>\n",
       "    </tr>\n",
       "    <tr>\n",
       "      <th>4</th>\n",
       "      <td>1</td>\n",
       "      <td>BAND1</td>\n",
       "      <td>94</td>\n",
       "    </tr>\n",
       "  </tbody>\n",
       "</table>\n",
       "</div>"
      ],
      "text/plain": [
       "   level_0 level_1    0\n",
       "0        0   BAND1   96\n",
       "1        0   BAND2   84\n",
       "2        0   BAND3  123\n",
       "3        0   BAND4   82\n",
       "4        1   BAND1   94"
      ]
     },
     "execution_count": 64,
     "metadata": {},
     "output_type": "execute_result"
    }
   ],
   "source": [
    "band_stack = band.stack()\n",
    "band_stack_df = pd.DataFrame(band_stack).reset_index()\n",
    "band_stack_df.head()"
   ]
  },
  {
   "cell_type": "code",
   "execution_count": 66,
   "metadata": {},
   "outputs": [
    {
     "data": {
      "text/html": [
       "<div>\n",
       "<style scoped>\n",
       "    .dataframe tbody tr th:only-of-type {\n",
       "        vertical-align: middle;\n",
       "    }\n",
       "\n",
       "    .dataframe tbody tr th {\n",
       "        vertical-align: top;\n",
       "    }\n",
       "\n",
       "    .dataframe thead th {\n",
       "        text-align: right;\n",
       "    }\n",
       "</style>\n",
       "<table border=\"1\" class=\"dataframe\">\n",
       "  <thead>\n",
       "    <tr style=\"text-align: right;\">\n",
       "      <th></th>\n",
       "      <th>FID</th>\n",
       "      <th>band</th>\n",
       "      <th>value</th>\n",
       "    </tr>\n",
       "  </thead>\n",
       "  <tbody>\n",
       "    <tr>\n",
       "      <th>0</th>\n",
       "      <td>0</td>\n",
       "      <td>BAND1</td>\n",
       "      <td>96</td>\n",
       "    </tr>\n",
       "    <tr>\n",
       "      <th>1</th>\n",
       "      <td>0</td>\n",
       "      <td>BAND2</td>\n",
       "      <td>84</td>\n",
       "    </tr>\n",
       "    <tr>\n",
       "      <th>2</th>\n",
       "      <td>0</td>\n",
       "      <td>BAND3</td>\n",
       "      <td>123</td>\n",
       "    </tr>\n",
       "    <tr>\n",
       "      <th>3</th>\n",
       "      <td>0</td>\n",
       "      <td>BAND4</td>\n",
       "      <td>82</td>\n",
       "    </tr>\n",
       "    <tr>\n",
       "      <th>4</th>\n",
       "      <td>1</td>\n",
       "      <td>BAND1</td>\n",
       "      <td>94</td>\n",
       "    </tr>\n",
       "  </tbody>\n",
       "</table>\n",
       "</div>"
      ],
      "text/plain": [
       "   FID   band  value\n",
       "0    0  BAND1     96\n",
       "1    0  BAND2     84\n",
       "2    0  BAND3    123\n",
       "3    0  BAND4     82\n",
       "4    1  BAND1     94"
      ]
     },
     "execution_count": 66,
     "metadata": {},
     "output_type": "execute_result"
    }
   ],
   "source": [
    "band_stack_df.rename(columns = {'level_0': 'FID', 'level_1': 'band', 0: 'value'}, inplace=True)\n",
    "band_stack_df.head()"
   ]
  },
  {
   "cell_type": "code",
   "execution_count": 67,
   "metadata": {},
   "outputs": [],
   "source": [
    "band_final = pd.merge(band_stack_df, df[['FID', 'FIELD']], on='FID', how='left')"
   ]
  },
  {
   "cell_type": "code",
   "execution_count": 68,
   "metadata": {},
   "outputs": [
    {
     "data": {
      "text/html": [
       "<div>\n",
       "<style scoped>\n",
       "    .dataframe tbody tr th:only-of-type {\n",
       "        vertical-align: middle;\n",
       "    }\n",
       "\n",
       "    .dataframe tbody tr th {\n",
       "        vertical-align: top;\n",
       "    }\n",
       "\n",
       "    .dataframe thead th {\n",
       "        text-align: right;\n",
       "    }\n",
       "</style>\n",
       "<table border=\"1\" class=\"dataframe\">\n",
       "  <thead>\n",
       "    <tr style=\"text-align: right;\">\n",
       "      <th></th>\n",
       "      <th>FID</th>\n",
       "      <th>band</th>\n",
       "      <th>value</th>\n",
       "      <th>FIELD</th>\n",
       "    </tr>\n",
       "  </thead>\n",
       "  <tbody>\n",
       "    <tr>\n",
       "      <th>0</th>\n",
       "      <td>0</td>\n",
       "      <td>BAND1</td>\n",
       "      <td>96</td>\n",
       "      <td>C29</td>\n",
       "    </tr>\n",
       "    <tr>\n",
       "      <th>1</th>\n",
       "      <td>0</td>\n",
       "      <td>BAND2</td>\n",
       "      <td>84</td>\n",
       "      <td>C29</td>\n",
       "    </tr>\n",
       "    <tr>\n",
       "      <th>2</th>\n",
       "      <td>0</td>\n",
       "      <td>BAND3</td>\n",
       "      <td>123</td>\n",
       "      <td>C29</td>\n",
       "    </tr>\n",
       "    <tr>\n",
       "      <th>3</th>\n",
       "      <td>0</td>\n",
       "      <td>BAND4</td>\n",
       "      <td>82</td>\n",
       "      <td>C29</td>\n",
       "    </tr>\n",
       "    <tr>\n",
       "      <th>4</th>\n",
       "      <td>1</td>\n",
       "      <td>BAND1</td>\n",
       "      <td>94</td>\n",
       "      <td>C29</td>\n",
       "    </tr>\n",
       "  </tbody>\n",
       "</table>\n",
       "</div>"
      ],
      "text/plain": [
       "   FID   band  value FIELD\n",
       "0    0  BAND1     96   C29\n",
       "1    0  BAND2     84   C29\n",
       "2    0  BAND3    123   C29\n",
       "3    0  BAND4     82   C29\n",
       "4    1  BAND1     94   C29"
      ]
     },
     "execution_count": 68,
     "metadata": {},
     "output_type": "execute_result"
    }
   ],
   "source": [
    "band_final.head()"
   ]
  },
  {
   "cell_type": "code",
   "execution_count": 155,
   "metadata": {},
   "outputs": [
    {
     "data": {
      "text/plain": [
       "<seaborn.axisgrid.FacetGrid at 0x479d3eb8>"
      ]
     },
     "execution_count": 155,
     "metadata": {},
     "output_type": "execute_result"
    },
    {
     "data": {
      "image/png": "[encoded data removed]",
      "text/plain": [
       "<Figure size 432x864 with 8 Axes>"
      ]
     },
     "metadata": {},
     "output_type": "display_data"
    }
   ],
   "source": [
    "colors = [\"#0088cc\", \"#ff7f0e\"]\n",
    "g = sns.FacetGrid(band_final, row=\"band\", col=\"FIELD\", hue='FIELD', palette=sns.color_palette(colors), margin_titles=True)\n",
    "# # bins = np.linspace(0, 60, 13)\n",
    "g.map(plt.bar, \"FID\", 'value')"
   ]
  },
  {
   "cell_type": "code",
   "execution_count": 150,
   "metadata": {},
   "outputs": [
    {
     "data": {
      "text/html": [
       "<div>\n",
       "<style scoped>\n",
       "    .dataframe tbody tr th:only-of-type {\n",
       "        vertical-align: middle;\n",
       "    }\n",
       "\n",
       "    .dataframe tbody tr th {\n",
       "        vertical-align: top;\n",
       "    }\n",
       "\n",
       "    .dataframe thead th {\n",
       "        text-align: right;\n",
       "    }\n",
       "</style>\n",
       "<table border=\"1\" class=\"dataframe\">\n",
       "  <thead>\n",
       "    <tr style=\"text-align: right;\">\n",
       "      <th></th>\n",
       "      <th>FID</th>\n",
       "      <th>time</th>\n",
       "      <th>value</th>\n",
       "    </tr>\n",
       "  </thead>\n",
       "  <tbody>\n",
       "    <tr>\n",
       "      <th>0</th>\n",
       "      <td>0</td>\n",
       "      <td>YLD00</td>\n",
       "      <td>1012.799988</td>\n",
       "    </tr>\n",
       "    <tr>\n",
       "      <th>1</th>\n",
       "      <td>0</td>\n",
       "      <td>YLD01</td>\n",
       "      <td>1201.900024</td>\n",
       "    </tr>\n",
       "    <tr>\n",
       "      <th>2</th>\n",
       "      <td>0</td>\n",
       "      <td>YLD02</td>\n",
       "      <td>943.599976</td>\n",
       "    </tr>\n",
       "    <tr>\n",
       "      <th>3</th>\n",
       "      <td>0</td>\n",
       "      <td>YLD03</td>\n",
       "      <td>1082.000000</td>\n",
       "    </tr>\n",
       "    <tr>\n",
       "      <th>4</th>\n",
       "      <td>0</td>\n",
       "      <td>AVGYLD</td>\n",
       "      <td>1060.099976</td>\n",
       "    </tr>\n",
       "  </tbody>\n",
       "</table>\n",
       "</div>"
      ],
      "text/plain": [
       "   FID    time        value\n",
       "0    0   YLD00  1012.799988\n",
       "1    0   YLD01  1201.900024\n",
       "2    0   YLD02   943.599976\n",
       "3    0   YLD03  1082.000000\n",
       "4    0  AVGYLD  1060.099976"
      ]
     },
     "execution_count": 150,
     "metadata": {},
     "output_type": "execute_result"
    }
   ],
   "source": [
    "yld = df[yld_cols]\n",
    "yld_stack = yld.stack()\n",
    "yld_stack_df = pd.DataFrame(yld_stack).reset_index()\n",
    "yld_stack_df.rename(columns = {'level_0': 'FID', 'level_1': 'time', 0: 'value'}, inplace=True)\n",
    "yld_stack_df.head()"
   ]
  },
  {
   "cell_type": "code",
   "execution_count": 151,
   "metadata": {},
   "outputs": [
    {
     "data": {
      "text/html": [
       "<div>\n",
       "<style scoped>\n",
       "    .dataframe tbody tr th:only-of-type {\n",
       "        vertical-align: middle;\n",
       "    }\n",
       "\n",
       "    .dataframe tbody tr th {\n",
       "        vertical-align: top;\n",
       "    }\n",
       "\n",
       "    .dataframe thead th {\n",
       "        text-align: right;\n",
       "    }\n",
       "</style>\n",
       "<table border=\"1\" class=\"dataframe\">\n",
       "  <thead>\n",
       "    <tr style=\"text-align: right;\">\n",
       "      <th></th>\n",
       "      <th>FID</th>\n",
       "      <th>time</th>\n",
       "      <th>value</th>\n",
       "      <th>FIELD</th>\n",
       "    </tr>\n",
       "  </thead>\n",
       "  <tbody>\n",
       "    <tr>\n",
       "      <th>0</th>\n",
       "      <td>0</td>\n",
       "      <td>YLD00</td>\n",
       "      <td>1012.799988</td>\n",
       "      <td>C29</td>\n",
       "    </tr>\n",
       "    <tr>\n",
       "      <th>1</th>\n",
       "      <td>0</td>\n",
       "      <td>YLD01</td>\n",
       "      <td>1201.900024</td>\n",
       "      <td>C29</td>\n",
       "    </tr>\n",
       "    <tr>\n",
       "      <th>2</th>\n",
       "      <td>0</td>\n",
       "      <td>YLD02</td>\n",
       "      <td>943.599976</td>\n",
       "      <td>C29</td>\n",
       "    </tr>\n",
       "    <tr>\n",
       "      <th>3</th>\n",
       "      <td>0</td>\n",
       "      <td>YLD03</td>\n",
       "      <td>1082.000000</td>\n",
       "      <td>C29</td>\n",
       "    </tr>\n",
       "    <tr>\n",
       "      <th>4</th>\n",
       "      <td>0</td>\n",
       "      <td>AVGYLD</td>\n",
       "      <td>1060.099976</td>\n",
       "      <td>C29</td>\n",
       "    </tr>\n",
       "  </tbody>\n",
       "</table>\n",
       "</div>"
      ],
      "text/plain": [
       "   FID    time        value FIELD\n",
       "0    0   YLD00  1012.799988   C29\n",
       "1    0   YLD01  1201.900024   C29\n",
       "2    0   YLD02   943.599976   C29\n",
       "3    0   YLD03  1082.000000   C29\n",
       "4    0  AVGYLD  1060.099976   C29"
      ]
     },
     "execution_count": 151,
     "metadata": {},
     "output_type": "execute_result"
    }
   ],
   "source": [
    "\n",
    "yld_final = pd.merge(yld_stack_df, df[['FID', 'FIELD']], on='FID', how='left')\n",
    "# yld_final['time'] = yld_final['time'].apply(time_convert)\n",
    "# yld_final['year'] = yld_final['time'].apply(lambda r: str(r.year))\n",
    "# yld_final['month'] = yld_final['time'].apply(lambda r: str(r.month))\n",
    "yld_final.head()\n"
   ]
  },
  {
   "cell_type": "code",
   "execution_count": 118,
   "metadata": {},
   "outputs": [
    {
     "data": {
      "text/plain": [
       "4875"
      ]
     },
     "execution_count": 118,
     "metadata": {},
     "output_type": "execute_result"
    }
   ],
   "source": [
    "len(yld_final)"
   ]
  },
  {
   "cell_type": "code",
   "execution_count": 156,
   "metadata": {},
   "outputs": [
    {
     "data": {
      "text/plain": [
       "<seaborn.axisgrid.FacetGrid at 0x4e038d30>"
      ]
     },
     "execution_count": 156,
     "metadata": {},
     "output_type": "execute_result"
    },
    {
     "data": {
      "image/png": "[encoded data removed]",
      "text/plain": [
       "<Figure size 1080x432 with 10 Axes>"
      ]
     },
     "metadata": {},
     "output_type": "display_data"
    }
   ],
   "source": [
    "g = sns.FacetGrid(yld_final, row=\"FIELD\", col=\"time\", hue='FIELD', palette=sns.color_palette(colors), margin_titles=True)\n",
    "g.map(plt.scatter, \"FID\", 'value')"
   ]
  },
  {
   "cell_type": "code",
   "execution_count": 160,
   "metadata": {},
   "outputs": [
    {
     "data": {
      "text/plain": [
       "<matplotlib.legend.Legend at 0x56908da0>"
      ]
     },
     "execution_count": 160,
     "metadata": {},
     "output_type": "execute_result"
    },
    {
     "data": {
      "image/png": "[encoded data removed]",
      "text/plain": [
       "<Figure size 432x288 with 1 Axes>"
      ]
     },
     "metadata": {},
     "output_type": "display_data"
    }
   ],
   "source": [
    "f, ax = plt.subplots()\n",
    "sns.despine(bottom=True, left=True)\n",
    "sns.stripplot(x=\"value\", y=\"time\", hue=\"FIELD\",\n",
    "              data=yld_final, dodge=True, jitter=True,palette=sns.color_palette(colors),\n",
    "              alpha=.25, zorder=1)\n",
    "\n",
    "sns.pointplot(x=\"value\", y=\"time\", hue=\"FIELD\",\n",
    "              data=yld_final, dodge=.532, join=False, palette=\"dark\",\n",
    "              markers=\"d\", scale=.75, ci=None)\n",
    "\n",
    "# Improve the legend \n",
    "handles, labels = ax.get_legend_handles_labels()\n",
    "ax.legend(handles[0:2], labels[0:2], title=\"FIELD\",\n",
    "          handletextpad=0, columnspacing=1,\n",
    "          loc=\"right\", ncol=3, frameon=True)"
   ]
  },
  {
   "cell_type": "code",
   "execution_count": null,
   "metadata": {},
   "outputs": [],
   "source": []
  },
  {
   "cell_type": "code",
   "execution_count": 162,
   "metadata": {},
   "outputs": [
    {
     "data": {
      "text/plain": [
       "<matplotlib.axes._subplots.AxesSubplot at 0x569247f0>"
      ]
     },
     "execution_count": 162,
     "metadata": {},
     "output_type": "execute_result"
    },
    {
     "data": {
      "image/png": "[encoded data removed]",
      "text/plain": [
       "<Figure size 792x648 with 2 Axes>"
      ]
     },
     "metadata": {},
     "output_type": "display_data"
    }
   ],
   "source": [
    "from string import ascii_letters\n",
    "import numpy as np\n",
    "import pandas as pd\n",
    "import seaborn as sns\n",
    "import matplotlib.pyplot as plt\n",
    "\n",
    "sns.set(style=\"white\")\n",
    "\n",
    "\n",
    "# Compute the correlation matrix\n",
    "corr = whole_df.corr()\n",
    "\n",
    "# Generate a mask for the upper triangle\n",
    "mask = np.zeros_like(corr, dtype=np.bool)\n",
    "mask[np.triu_indices_from(mask)] = True\n",
    "\n",
    "# Set up the matplotlib figure\n",
    "f, ax = plt.subplots(figsize=(11, 9))\n",
    "\n",
    "# Generate a custom diverging colormap\n",
    "cmap = sns.diverging_palette(220, 10, as_cmap=True)\n",
    "\n",
    "# Draw the heatmap with the mask and correct aspect ratio\n",
    "sns.heatmap(corr, mask=mask, cmap=cmap, vmax=.3, center=0,\n",
    "            square=True, linewidths=.5, cbar_kws={\"shrink\": .5})"
   ]
  },
  {
   "cell_type": "code",
   "execution_count": null,
   "metadata": {},
   "outputs": [],
   "source": []
  }
 ],
 "metadata": {
  "kernelspec": {
   "display_name": "Python 2",
   "language": "python",
   "name": "python2"
  },
  "language_info": {
   "codemirror_mode": {
    "name": "ipython",
    "version": 2
   },
   "file_extension": ".py",
   "mimetype": "text/x-python",
   "name": "python",
   "nbconvert_exporter": "python",
   "pygments_lexer": "ipython2",
   "version": "2.7.14"
  }
 },
 "nbformat": 4,
 "nbformat_minor": 2
}

{
 "cells": [
  {
   "cell_type": "code",
   "execution_count": 1,
   "metadata": {
    "collapsed": true
   },
   "outputs": [],
   "source": [
    "import pandas as pd\n",
    "%matplotlib inline\n",
    "import matplotlib.pyplot as plt\n",
    "import seaborn as sns\n",
    "import warnings\n",
    "warnings.filterwarnings('ignore')\n",
    "import numpy as np"
   ]
  },
  {
   "cell_type": "code",
   "execution_count": 2,
   "metadata": {
    "collapsed": true
   },
   "outputs": [],
   "source": [
    "# df = pd.read_table('Data_28_F29.txt', delimiter=',')\n",
    "df = pd.read_excel('rmse by month.xlsx')"
   ]
  },
  {
   "cell_type": "code",
   "execution_count": 3,
   "metadata": {},
   "outputs": [
    {
     "data": {
      "text/html": [
       "<div>\n",
       "<style scoped>\n",
       "    .dataframe tbody tr th:only-of-type {\n",
       "        vertical-align: middle;\n",
       "    }\n",
       "\n",
       "    .dataframe tbody tr th {\n",
       "        vertical-align: top;\n",
       "    }\n",
       "\n",
       "    .dataframe thead th {\n",
       "        text-align: right;\n",
       "    }\n",
       "</style>\n",
       "<table border=\"1\" class=\"dataframe\">\n",
       "  <thead>\n",
       "    <tr style=\"text-align: right;\">\n",
       "      <th></th>\n",
       "      <th>Month</th>\n",
       "      <th>LR</th>\n",
       "      <th>RFT</th>\n",
       "      <th>SVR</th>\n",
       "      <th>XGB</th>\n",
       "      <th>DT</th>\n",
       "      <th>MTL</th>\n",
       "      <th>Spatial Temporal MTL</th>\n",
       "    </tr>\n",
       "  </thead>\n",
       "  <tbody>\n",
       "    <tr>\n",
       "      <th>0</th>\n",
       "      <td>May</td>\n",
       "      <td>138.87</td>\n",
       "      <td>134.42</td>\n",
       "      <td>157.52</td>\n",
       "      <td>137.58</td>\n",
       "      <td>142.43</td>\n",
       "      <td>95.25</td>\n",
       "      <td>93.24</td>\n",
       "    </tr>\n",
       "    <tr>\n",
       "      <th>1</th>\n",
       "      <td>June</td>\n",
       "      <td>138.19</td>\n",
       "      <td>134.80</td>\n",
       "      <td>157.52</td>\n",
       "      <td>136.95</td>\n",
       "      <td>140.16</td>\n",
       "      <td>94.58</td>\n",
       "      <td>93.14</td>\n",
       "    </tr>\n",
       "    <tr>\n",
       "      <th>2</th>\n",
       "      <td>July</td>\n",
       "      <td>134.76</td>\n",
       "      <td>133.86</td>\n",
       "      <td>157.50</td>\n",
       "      <td>136.08</td>\n",
       "      <td>144.67</td>\n",
       "      <td>89.83</td>\n",
       "      <td>92.16</td>\n",
       "    </tr>\n",
       "    <tr>\n",
       "      <th>3</th>\n",
       "      <td>August</td>\n",
       "      <td>120.47</td>\n",
       "      <td>127.86</td>\n",
       "      <td>157.45</td>\n",
       "      <td>127.37</td>\n",
       "      <td>137.67</td>\n",
       "      <td>90.22</td>\n",
       "      <td>87.76</td>\n",
       "    </tr>\n",
       "    <tr>\n",
       "      <th>4</th>\n",
       "      <td>September</td>\n",
       "      <td>107.99</td>\n",
       "      <td>119.21</td>\n",
       "      <td>157.30</td>\n",
       "      <td>117.89</td>\n",
       "      <td>127.03</td>\n",
       "      <td>90.93</td>\n",
       "      <td>83.75</td>\n",
       "    </tr>\n",
       "  </tbody>\n",
       "</table>\n",
       "</div>"
      ],
      "text/plain": [
       "       Month      LR     RFT     SVR     XGB      DT    MTL  \\\n",
       "0        May  138.87  134.42  157.52  137.58  142.43  95.25   \n",
       "1       June  138.19  134.80  157.52  136.95  140.16  94.58   \n",
       "2       July  134.76  133.86  157.50  136.08  144.67  89.83   \n",
       "3     August  120.47  127.86  157.45  127.37  137.67  90.22   \n",
       "4  September  107.99  119.21  157.30  117.89  127.03  90.93   \n",
       "\n",
       "   Spatial Temporal MTL  \n",
       "0                 93.24  \n",
       "1                 93.14  \n",
       "2                 92.16  \n",
       "3                 87.76  \n",
       "4                 83.75  "
      ]
     },
     "execution_count": 3,
     "metadata": {},
     "output_type": "execute_result"
    }
   ],
   "source": [
    "df.head()\n"
   ]
  },
  {
   "cell_type": "code",
   "execution_count": 4,
   "metadata": {
    "collapsed": true
   },
   "outputs": [],
   "source": [
    "df = pd.melt(df, id_vars='Month', value_vars=['LR', 'RFT', 'SVR', 'XGB', 'DT', 'MTL', 'Spatial Temporal MTL'])"
   ]
  },
  {
   "cell_type": "code",
   "execution_count": 5,
   "metadata": {},
   "outputs": [
    {
     "data": {
      "text/html": [
       "<div>\n",
       "<style scoped>\n",
       "    .dataframe tbody tr th:only-of-type {\n",
       "        vertical-align: middle;\n",
       "    }\n",
       "\n",
       "    .dataframe tbody tr th {\n",
       "        vertical-align: top;\n",
       "    }\n",
       "\n",
       "    .dataframe thead th {\n",
       "        text-align: right;\n",
       "    }\n",
       "</style>\n",
       "<table border=\"1\" class=\"dataframe\">\n",
       "  <thead>\n",
       "    <tr style=\"text-align: right;\">\n",
       "      <th></th>\n",
       "      <th>Month</th>\n",
       "      <th>variable</th>\n",
       "      <th>value</th>\n",
       "    </tr>\n",
       "  </thead>\n",
       "  <tbody>\n",
       "    <tr>\n",
       "      <th>0</th>\n",
       "      <td>May</td>\n",
       "      <td>LR</td>\n",
       "      <td>138.87</td>\n",
       "    </tr>\n",
       "    <tr>\n",
       "      <th>1</th>\n",
       "      <td>June</td>\n",
       "      <td>LR</td>\n",
       "      <td>138.19</td>\n",
       "    </tr>\n",
       "    <tr>\n",
       "      <th>2</th>\n",
       "      <td>July</td>\n",
       "      <td>LR</td>\n",
       "      <td>134.76</td>\n",
       "    </tr>\n",
       "    <tr>\n",
       "      <th>3</th>\n",
       "      <td>August</td>\n",
       "      <td>LR</td>\n",
       "      <td>120.47</td>\n",
       "    </tr>\n",
       "    <tr>\n",
       "      <th>4</th>\n",
       "      <td>September</td>\n",
       "      <td>LR</td>\n",
       "      <td>107.99</td>\n",
       "    </tr>\n",
       "  </tbody>\n",
       "</table>\n",
       "</div>"
      ],
      "text/plain": [
       "       Month variable   value\n",
       "0        May       LR  138.87\n",
       "1       June       LR  138.19\n",
       "2       July       LR  134.76\n",
       "3     August       LR  120.47\n",
       "4  September       LR  107.99"
      ]
     },
     "execution_count": 5,
     "metadata": {},
     "output_type": "execute_result"
    }
   ],
   "source": [
    "df.head()"
   ]
  },
  {
   "cell_type": "code",
   "execution_count": 6,
   "metadata": {
    "collapsed": true
   },
   "outputs": [],
   "source": [
    "df=df.rename(columns = {'variable':'Model', 'value':'RMSE'})"
   ]
  },
  {
   "cell_type": "code",
   "execution_count": 7,
   "metadata": {},
   "outputs": [
    {
     "data": {
      "image/png": "[encoded data removed]",
      "text/plain": [
       "<Figure size 432x288 with 1 Axes>"
      ]
     },
     "metadata": {},
     "output_type": "display_data"
    }
   ],
   "source": [
    "plt.ylim(0, 280)\n",
    "ax = sns.barplot(x=\"Month\", y=\"RMSE\", hue=\"Model\", data=df)\n"
   ]
  },
  {
   "cell_type": "code",
   "execution_count": 8,
   "metadata": {},
   "outputs": [
    {
     "data": {
      "image/png": "[encoded data removed]",
      "text/plain": [
       "<Figure size 432x396 with 1 Axes>"
      ]
     },
     "metadata": {},
     "output_type": "display_data"
    }
   ],
   "source": [
    "\n",
    "colors = [\"#0088cc\", \"#9dc2e5\", \"#9dc2e5\", \"#444444\", \"#5cb85c\"]\n",
    "sns.set_style('ticks')\n",
    "fig, ax = plt.subplots()\n",
    "plt.ylim(0, 235)\n",
    "# the size of A4 paper\n",
    "fig.set_size_inches(6, 5.5)\n",
    "ax = sns.barplot(x=\"Month\", y=\"RMSE\", hue=\"Model\", data=df, ax=ax, palette = sns.color_palette())"
   ]
  },
  {
   "cell_type": "code",
   "execution_count": null,
   "metadata": {
    "collapsed": true
   },
   "outputs": [],
   "source": []
  }
 ],
 "metadata": {
  "kernelspec": {
   "display_name": "Python 3",
   "language": "python",
   "name": "python3"
  },
  "language_info": {
   "codemirror_mode": {
    "name": "ipython",
    "version": 3
   },
   "file_extension": ".py",
   "mimetype": "text/x-python",
   "name": "python",
   "nbconvert_exporter": "python",
   "pygments_lexer": "ipython3",
   "version": "3.6.3"
  }
 },
 "nbformat": 4,
 "nbformat_minor": 2
}
